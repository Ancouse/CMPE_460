{
 "cells": [
  {
   "cell_type": "code",
   "execution_count": 2,
   "metadata": {},
   "outputs": [
    {
     "name": "stdout",
     "output_type": "stream",
     "text": [
      "The autoreload extension is already loaded. To reload it, use:\n",
      "  %reload_ext autoreload\n"
     ]
    },
    {
     "data": {
      "text/html": [
       "<div>\n",
       "<style scoped>\n",
       "    .dataframe tbody tr th:only-of-type {\n",
       "        vertical-align: middle;\n",
       "    }\n",
       "\n",
       "    .dataframe tbody tr th {\n",
       "        vertical-align: top;\n",
       "    }\n",
       "\n",
       "    .dataframe thead th {\n",
       "        text-align: right;\n",
       "    }\n",
       "</style>\n",
       "<table border=\"1\" class=\"dataframe\">\n",
       "  <thead>\n",
       "    <tr style=\"text-align: right;\">\n",
       "      <th></th>\n",
       "      <th>PassengerId</th>\n",
       "      <th>Survived</th>\n",
       "      <th>Pclass</th>\n",
       "      <th>Name</th>\n",
       "      <th>Sex</th>\n",
       "      <th>Age</th>\n",
       "      <th>SibSp</th>\n",
       "      <th>Parch</th>\n",
       "      <th>Ticket</th>\n",
       "      <th>Fare</th>\n",
       "      <th>Cabin</th>\n",
       "      <th>Embarked</th>\n",
       "    </tr>\n",
       "  </thead>\n",
       "  <tbody>\n",
       "    <tr>\n",
       "      <th>0</th>\n",
       "      <td>1</td>\n",
       "      <td>0</td>\n",
       "      <td>3</td>\n",
       "      <td>Braund, Mr. Owen Harris</td>\n",
       "      <td>male</td>\n",
       "      <td>22.0</td>\n",
       "      <td>1</td>\n",
       "      <td>0</td>\n",
       "      <td>A/5 21171</td>\n",
       "      <td>7.2500</td>\n",
       "      <td>NaN</td>\n",
       "      <td>S</td>\n",
       "    </tr>\n",
       "    <tr>\n",
       "      <th>1</th>\n",
       "      <td>2</td>\n",
       "      <td>1</td>\n",
       "      <td>1</td>\n",
       "      <td>Cumings, Mrs. John Bradley (Florence Briggs Th...</td>\n",
       "      <td>female</td>\n",
       "      <td>38.0</td>\n",
       "      <td>1</td>\n",
       "      <td>0</td>\n",
       "      <td>PC 17599</td>\n",
       "      <td>71.2833</td>\n",
       "      <td>C85</td>\n",
       "      <td>C</td>\n",
       "    </tr>\n",
       "    <tr>\n",
       "      <th>2</th>\n",
       "      <td>3</td>\n",
       "      <td>1</td>\n",
       "      <td>3</td>\n",
       "      <td>Heikkinen, Miss. Laina</td>\n",
       "      <td>female</td>\n",
       "      <td>26.0</td>\n",
       "      <td>0</td>\n",
       "      <td>0</td>\n",
       "      <td>STON/O2. 3101282</td>\n",
       "      <td>7.9250</td>\n",
       "      <td>NaN</td>\n",
       "      <td>S</td>\n",
       "    </tr>\n",
       "    <tr>\n",
       "      <th>3</th>\n",
       "      <td>4</td>\n",
       "      <td>1</td>\n",
       "      <td>1</td>\n",
       "      <td>Futrelle, Mrs. Jacques Heath (Lily May Peel)</td>\n",
       "      <td>female</td>\n",
       "      <td>35.0</td>\n",
       "      <td>1</td>\n",
       "      <td>0</td>\n",
       "      <td>113803</td>\n",
       "      <td>53.1000</td>\n",
       "      <td>C123</td>\n",
       "      <td>S</td>\n",
       "    </tr>\n",
       "    <tr>\n",
       "      <th>4</th>\n",
       "      <td>5</td>\n",
       "      <td>0</td>\n",
       "      <td>3</td>\n",
       "      <td>Allen, Mr. William Henry</td>\n",
       "      <td>male</td>\n",
       "      <td>35.0</td>\n",
       "      <td>0</td>\n",
       "      <td>0</td>\n",
       "      <td>373450</td>\n",
       "      <td>8.0500</td>\n",
       "      <td>NaN</td>\n",
       "      <td>S</td>\n",
       "    </tr>\n",
       "  </tbody>\n",
       "</table>\n",
       "</div>"
      ],
      "text/plain": [
       "   PassengerId  Survived  Pclass  \\\n",
       "0            1         0       3   \n",
       "1            2         1       1   \n",
       "2            3         1       3   \n",
       "3            4         1       1   \n",
       "4            5         0       3   \n",
       "\n",
       "                                                Name     Sex   Age  SibSp  \\\n",
       "0                            Braund, Mr. Owen Harris    male  22.0      1   \n",
       "1  Cumings, Mrs. John Bradley (Florence Briggs Th...  female  38.0      1   \n",
       "2                             Heikkinen, Miss. Laina  female  26.0      0   \n",
       "3       Futrelle, Mrs. Jacques Heath (Lily May Peel)  female  35.0      1   \n",
       "4                           Allen, Mr. William Henry    male  35.0      0   \n",
       "\n",
       "   Parch            Ticket     Fare Cabin Embarked  \n",
       "0      0         A/5 21171   7.2500   NaN        S  \n",
       "1      0          PC 17599  71.2833   C85        C  \n",
       "2      0  STON/O2. 3101282   7.9250   NaN        S  \n",
       "3      0            113803  53.1000  C123        S  \n",
       "4      0            373450   8.0500   NaN        S  "
      ]
     },
     "execution_count": 2,
     "metadata": {},
     "output_type": "execute_result"
    }
   ],
   "source": [
    "%load_ext autoreload\n",
    "%autoreload 2\n",
    "\n",
    "import numpy as np\n",
    "import pandas as pd\n",
    "\n",
    "from neural_network import Network\n",
    "from activations import Tanh, Sigmoid, ReLU\n",
    "from layers import ActivationLayer, FCLayer\n",
    "from losses import MSE\n",
    "\n",
    "np.random.seed(7)\n",
    "\n",
    "feature_names = ['Sex', 'Age', 'SibSp', 'Pclass', 'Parch', 'Fare', 'Embarked']\n",
    "target_name = 'Survived'\n",
    "\n",
    "dataset = pd.read_csv(\"train.csv\")\n",
    "dataset.head()"
   ]
  },
  {
   "cell_type": "code",
   "execution_count": 3,
   "metadata": {},
   "outputs": [],
   "source": [
    "from sklearn.model_selection import train_test_split\n",
    "\n",
    "\n",
    "dataset = dataset[feature_names + [target_name]].dropna()\n",
    "\n",
    "X = dataset[feature_names]\n",
    "y = dataset[[target_name]]\n",
    "\n",
    "X_train, X_test, y_train, y_test = train_test_split(X, y, test_size=0.2, stratify=y, random_state=7)"
   ]
  },
  {
   "cell_type": "code",
   "execution_count": 4,
   "metadata": {},
   "outputs": [
    {
     "data": {
      "text/plain": [
       "((569, 7), (569, 1), (143, 7), (143, 1))"
      ]
     },
     "execution_count": 4,
     "metadata": {},
     "output_type": "execute_result"
    }
   ],
   "source": [
    "from sklearn.preprocessing import OrdinalEncoder, StandardScaler\n",
    "from sklearn.metrics import (\n",
    "    accuracy_score,\n",
    "    f1_score,\n",
    "    precision_score,\n",
    "    recall_score,\n",
    "    classification_report,\n",
    "    confusion_matrix,\n",
    "    ConfusionMatrixDisplay\n",
    "    )\n",
    "\n",
    "encoder = OrdinalEncoder()\n",
    "X_train['Sex'] = encoder.fit_transform(X_train[['Sex']])\n",
    "X_test['Sex'] = encoder.transform(X_test[['Sex']])\n",
    "\n",
    "encoder = OrdinalEncoder()\n",
    "X_train['Embarked'] = encoder.fit_transform(X_train[['Embarked']])\n",
    "X_test['Embarked'] = encoder.transform(X_test[['Embarked']])\n",
    "\n",
    "\n",
    "scaler = StandardScaler()\n",
    "X_train = X_train.values\n",
    "X_test = X_test.values\n",
    "X_train = scaler.fit_transform(X_train)\n",
    "X_test = scaler.transform(X_test) \n",
    "\n",
    "X_train.shape, y_train.shape, X_test.shape, y_test.shape"
   ]
  },
  {
   "cell_type": "code",
   "execution_count": 5,
   "metadata": {},
   "outputs": [
    {
     "data": {
      "text/plain": [
       "array([[-0.70710678,  1.33630621,  1.41421356,  1.33630621],\n",
       "       [ 1.41421356, -0.26726124, -0.70710678, -0.26726124],\n",
       "       [-0.70710678, -1.06904497, -0.70710678, -1.06904497]])"
      ]
     },
     "execution_count": 5,
     "metadata": {},
     "output_type": "execute_result"
    }
   ],
   "source": [
    "from sklearn.preprocessing import scale\n",
    "\n",
    "scale([[0, 50, 0.3, 5], [1, 30, 0.2, 3], [0, 20, 0.2, 2]])"
   ]
  },
  {
   "cell_type": "code",
   "execution_count": 6,
   "metadata": {},
   "outputs": [],
   "source": [
    "X_train = X_train.reshape((569, 1, 7))\n",
    "y_train = y_train.values.reshape((569, 1, 1))\n",
    "\n",
    "# Only for tanh\n",
    "# How would this encoding change if you use sigmoid in the last layer?\n",
    "y_train[y_train == 1] = 1\n",
    "y_train[y_train == 0] = -1\n",
    "\n",
    "\n",
    "X_test = X_test.reshape((143, 1, 7))\n",
    "y_test = y_test.values.reshape((143, 1, 1))\n",
    "\n",
    "# Only for tanh\n",
    "# How would this encoding change if you use sigmoid in the last layer?\n",
    "y_test[y_test == 1] = 1\n",
    "y_test[y_test == 0] = -1"
   ]
  },
  {
   "cell_type": "code",
   "execution_count": 7,
   "metadata": {},
   "outputs": [
    {
     "name": "stderr",
     "output_type": "stream",
     "text": [
      "Epoch: 499 | Train loss: 0.2651: 100%|██████████| 500/500 [00:32<00:00, 15.59it/s]\n"
     ]
    }
   ],
   "source": [
    "net = Network()\n",
    "\n",
    "net.add(FCLayer(7, 10))\n",
    "net.add(ActivationLayer(Tanh()))\n",
    "net.add(FCLayer(10, 20))\n",
    "net.add(ActivationLayer(Tanh()))\n",
    "net.add(FCLayer(20, 50))\n",
    "net.add(ActivationLayer(Tanh()))\n",
    "net.add(FCLayer(50, 20))\n",
    "net.add(ActivationLayer(Tanh()))\n",
    "net.add(FCLayer(20, 10))\n",
    "net.add(ActivationLayer(Tanh()))\n",
    "net.add(FCLayer(10, 1))\n",
    "net.add(ActivationLayer(Tanh()))\n",
    "\n",
    "net.use(MSE())\n",
    "net.fit(X_train, y_train, epochs=500, learning_rate=0.001)"
   ]
  },
  {
   "cell_type": "code",
   "execution_count": 8,
   "metadata": {},
   "outputs": [
    {
     "data": {
      "text/plain": [
       "Text(0, 0.5, 'Loss')"
      ]
     },
     "execution_count": 8,
     "metadata": {},
     "output_type": "execute_result"
    },
    {
     "data": {
      "image/png": "[encoded data removed]",
      "text/plain": [
       "<Figure size 640x480 with 1 Axes>"
      ]
     },
     "metadata": {},
     "output_type": "display_data"
    }
   ],
   "source": [
    "import matplotlib.pyplot as plt\n",
    "\n",
    "plt.plot(range(500), net.err_log)\n",
    "plt.grid(True)\n",
    "plt.title(\"Training Loss\")\n",
    "plt.xlabel(\"Epochs\")\n",
    "plt.ylabel(\"Loss\")"
   ]
  },
  {
   "cell_type": "code",
   "execution_count": 9,
   "metadata": {},
   "outputs": [
    {
     "name": "stdout",
     "output_type": "stream",
     "text": [
      "[[72 13]\n",
      " [12 46]]\n"
     ]
    },
    {
     "data": {
      "image/png": "[encoded data removed]",
      "text/plain": [
       "<Figure size 640x480 with 2 Axes>"
      ]
     },
     "metadata": {},
     "output_type": "display_data"
    }
   ],
   "source": [
    "# How would this threshold change if you use sigmoid in the last layer?\n",
    "threshold = 0\n",
    "\n",
    "y_pred = net.predict(X_test)\n",
    "y_pred = [1 if p[0][0] >= threshold else 0 for p in y_pred]\n",
    "y_true = [1 if p[0][0] >= threshold else 0 for p in y_test]\n",
    "print(confusion_matrix(y_true, y_pred))\n",
    "ConfusionMatrixDisplay.from_predictions(y_true, y_pred);"
   ]
  },
  {
   "cell_type": "code",
   "execution_count": 10,
   "metadata": {},
   "outputs": [
    {
     "name": "stdout",
     "output_type": "stream",
     "text": [
      "              precision    recall  f1-score   support\n",
      "\n",
      "           0       0.85      0.86      0.85        84\n",
      "           1       0.79      0.78      0.79        59\n",
      "\n",
      "    accuracy                           0.83       143\n",
      "   macro avg       0.82      0.82      0.82       143\n",
      "weighted avg       0.82      0.83      0.82       143\n",
      "\n"
     ]
    }
   ],
   "source": [
    "print(classification_report(y_pred, y_true, zero_division=0))"
   ]
  },
  {
   "cell_type": "code",
   "execution_count": 11,
   "metadata": {},
   "outputs": [
    {
     "ename": "AssertionError",
     "evalue": "",
     "output_type": "error",
     "traceback": [
      "\u001b[1;31m---------------------------------------------------------------------------\u001b[0m",
      "\u001b[1;31mAssertionError\u001b[0m                            Traceback (most recent call last)",
      "Cell \u001b[1;32mIn[11], line 21\u001b[0m\n\u001b[0;32m     18\u001b[0m     \u001b[39mpass\u001b[39;00m\n\u001b[0;32m     20\u001b[0m \u001b[39m# See what average=\"binary\" means in sklearn documentation\u001b[39;00m\n\u001b[1;32m---> 21\u001b[0m \u001b[39massert\u001b[39;00m my_accuracy(y_true, y_pred) \u001b[39m==\u001b[39m accuracy_score(y_true, y_pred)\n\u001b[0;32m     22\u001b[0m \u001b[39massert\u001b[39;00m my_recall(y_true, y_pred) \u001b[39m==\u001b[39m recall_score(y_true, y_pred, average\u001b[39m=\u001b[39m\u001b[39m'\u001b[39m\u001b[39mbinary\u001b[39m\u001b[39m'\u001b[39m)\n\u001b[0;32m     23\u001b[0m \u001b[39massert\u001b[39;00m my_precision(y_true, y_pred) \u001b[39m==\u001b[39m precision_score(y_true, y_pred, average\u001b[39m=\u001b[39m\u001b[39m'\u001b[39m\u001b[39mbinary\u001b[39m\u001b[39m'\u001b[39m)\n",
      "\u001b[1;31mAssertionError\u001b[0m: "
     ]
    }
   ],
   "source": [
    "# See how they are implemented in sklearn\n",
    "# https://scikit-learn.org/stable/modules/model_evaluation.html#classification-metrics\n",
    "\n",
    "def my_accuracy(y_true, y_pred):\n",
    "    ############# YOUR CODE #############\n",
    "    pass\n",
    "\n",
    "def my_precision(y_true, y_pred):\n",
    "    ############# YOUR CODE #############\n",
    "    pass\n",
    "\n",
    "def my_recall(y_true, y_pred):\n",
    "    ############# YOUR CODE #############\n",
    "    pass\n",
    "\n",
    "def my_confusion_matrix(y_true, y_pred):\n",
    "    ############# YOUR CODE #############\n",
    "    pass\n",
    "\n",
    "# See what average=\"binary\" means in sklearn documentation\n",
    "assert my_accuracy(y_true, y_pred) == accuracy_score(y_true, y_pred)\n",
    "assert my_recall(y_true, y_pred) == recall_score(y_true, y_pred, average='binary')\n",
    "assert my_precision(y_true, y_pred) == precision_score(y_true, y_pred, average='binary')\n",
    "assert all(my_confusion_matrix(y_true, y_pred) == my_confusion_matrix(y_true, y_pred))"
   ]
  },
  {
   "cell_type": "code",
   "execution_count": null,
   "metadata": {},
   "outputs": [],
   "source": []
  }
 ],
 "metadata": {
  "kernelspec": {
   "display_name": "Python 3.11.0 64-bit",
   "language": "python",
   "name": "python3"
  },
  "language_info": {
   "codemirror_mode": {
    "name": "ipython",
    "version": 3
   },
   "file_extension": ".py",
   "mimetype": "text/x-python",
   "name": "python",
   "nbconvert_exporter": "python",
   "pygments_lexer": "ipython3",
   "version": "3.11.0"
  },
  "orig_nbformat": 4,
  "vscode": {
   "interpreter": {
    "hash": "63ddb2ca0501eb15450eee8ff0d361f3c9cf978afcfc1c3f5115e5c0e1d277b5"
   }
  }
 },
 "nbformat": 4,
 "nbformat_minor": 2
}
