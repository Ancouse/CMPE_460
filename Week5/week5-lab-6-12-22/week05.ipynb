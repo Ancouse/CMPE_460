{
 "cells": [
  {
   "cell_type": "markdown",
   "metadata": {},
   "source": [
    "## Titanic dataset"
   ]
  },
  {
   "cell_type": "code",
   "execution_count": 128,
   "metadata": {},
   "outputs": [
    {
     "name": "stdout",
     "output_type": "stream",
     "text": [
      "The autoreload extension is already loaded. To reload it, use:\n",
      "  %reload_ext autoreload\n"
     ]
    },
    {
     "data": {
      "text/html": [
       "<div>\n",
       "<style scoped>\n",
       "    .dataframe tbody tr th:only-of-type {\n",
       "        vertical-align: middle;\n",
       "    }\n",
       "\n",
       "    .dataframe tbody tr th {\n",
       "        vertical-align: top;\n",
       "    }\n",
       "\n",
       "    .dataframe thead th {\n",
       "        text-align: right;\n",
       "    }\n",
       "</style>\n",
       "<table border=\"1\" class=\"dataframe\">\n",
       "  <thead>\n",
       "    <tr style=\"text-align: right;\">\n",
       "      <th></th>\n",
       "      <th>PassengerId</th>\n",
       "      <th>Survived</th>\n",
       "      <th>Pclass</th>\n",
       "      <th>Name</th>\n",
       "      <th>Sex</th>\n",
       "      <th>Age</th>\n",
       "      <th>SibSp</th>\n",
       "      <th>Parch</th>\n",
       "      <th>Ticket</th>\n",
       "      <th>Fare</th>\n",
       "      <th>Cabin</th>\n",
       "      <th>Embarked</th>\n",
       "    </tr>\n",
       "  </thead>\n",
       "  <tbody>\n",
       "    <tr>\n",
       "      <th>0</th>\n",
       "      <td>1</td>\n",
       "      <td>0</td>\n",
       "      <td>3</td>\n",
       "      <td>Braund, Mr. Owen Harris</td>\n",
       "      <td>male</td>\n",
       "      <td>22.0</td>\n",
       "      <td>1</td>\n",
       "      <td>0</td>\n",
       "      <td>A/5 21171</td>\n",
       "      <td>7.2500</td>\n",
       "      <td>NaN</td>\n",
       "      <td>S</td>\n",
       "    </tr>\n",
       "    <tr>\n",
       "      <th>1</th>\n",
       "      <td>2</td>\n",
       "      <td>1</td>\n",
       "      <td>1</td>\n",
       "      <td>Cumings, Mrs. John Bradley (Florence Briggs Th...</td>\n",
       "      <td>female</td>\n",
       "      <td>38.0</td>\n",
       "      <td>1</td>\n",
       "      <td>0</td>\n",
       "      <td>PC 17599</td>\n",
       "      <td>71.2833</td>\n",
       "      <td>C85</td>\n",
       "      <td>C</td>\n",
       "    </tr>\n",
       "    <tr>\n",
       "      <th>2</th>\n",
       "      <td>3</td>\n",
       "      <td>1</td>\n",
       "      <td>3</td>\n",
       "      <td>Heikkinen, Miss. Laina</td>\n",
       "      <td>female</td>\n",
       "      <td>26.0</td>\n",
       "      <td>0</td>\n",
       "      <td>0</td>\n",
       "      <td>STON/O2. 3101282</td>\n",
       "      <td>7.9250</td>\n",
       "      <td>NaN</td>\n",
       "      <td>S</td>\n",
       "    </tr>\n",
       "    <tr>\n",
       "      <th>3</th>\n",
       "      <td>4</td>\n",
       "      <td>1</td>\n",
       "      <td>1</td>\n",
       "      <td>Futrelle, Mrs. Jacques Heath (Lily May Peel)</td>\n",
       "      <td>female</td>\n",
       "      <td>35.0</td>\n",
       "      <td>1</td>\n",
       "      <td>0</td>\n",
       "      <td>113803</td>\n",
       "      <td>53.1000</td>\n",
       "      <td>C123</td>\n",
       "      <td>S</td>\n",
       "    </tr>\n",
       "    <tr>\n",
       "      <th>4</th>\n",
       "      <td>5</td>\n",
       "      <td>0</td>\n",
       "      <td>3</td>\n",
       "      <td>Allen, Mr. William Henry</td>\n",
       "      <td>male</td>\n",
       "      <td>35.0</td>\n",
       "      <td>0</td>\n",
       "      <td>0</td>\n",
       "      <td>373450</td>\n",
       "      <td>8.0500</td>\n",
       "      <td>NaN</td>\n",
       "      <td>S</td>\n",
       "    </tr>\n",
       "  </tbody>\n",
       "</table>\n",
       "</div>"
      ],
      "text/plain": [
       "   PassengerId  Survived  Pclass  \\\n",
       "0            1         0       3   \n",
       "1            2         1       1   \n",
       "2            3         1       3   \n",
       "3            4         1       1   \n",
       "4            5         0       3   \n",
       "\n",
       "                                                Name     Sex   Age  SibSp  \\\n",
       "0                            Braund, Mr. Owen Harris    male  22.0      1   \n",
       "1  Cumings, Mrs. John Bradley (Florence Briggs Th...  female  38.0      1   \n",
       "2                             Heikkinen, Miss. Laina  female  26.0      0   \n",
       "3       Futrelle, Mrs. Jacques Heath (Lily May Peel)  female  35.0      1   \n",
       "4                           Allen, Mr. William Henry    male  35.0      0   \n",
       "\n",
       "   Parch            Ticket     Fare Cabin Embarked  \n",
       "0      0         A/5 21171   7.2500   NaN        S  \n",
       "1      0          PC 17599  71.2833   C85        C  \n",
       "2      0  STON/O2. 3101282   7.9250   NaN        S  \n",
       "3      0            113803  53.1000  C123        S  \n",
       "4      0            373450   8.0500   NaN        S  "
      ]
     },
     "execution_count": 128,
     "metadata": {},
     "output_type": "execute_result"
    }
   ],
   "source": [
    "%load_ext autoreload\n",
    "%autoreload 2\n",
    "\n",
    "import numpy as np\n",
    "import pandas as pd\n",
    "\n",
    "from neural_network import Network\n",
    "from activations import Tanh, Sigmoid, ReLU, LeakyReLU\n",
    "from layers import ActivationLayer, FCLayer\n",
    "from losses import MSE\n",
    "\n",
    "np.random.seed(7)\n",
    "\n",
    "feature_names = ['Sex', 'Age', 'SibSp', 'Pclass', 'Parch', 'Fare', 'Embarked']\n",
    "target_name = 'Survived'\n",
    "\n",
    "dataset = pd.read_csv(\"train.csv\")\n",
    "dataset.head()"
   ]
  },
  {
   "cell_type": "code",
   "execution_count": 129,
   "metadata": {},
   "outputs": [],
   "source": [
    "from sklearn.model_selection import train_test_split\n",
    "\n",
    "\n",
    "dataset = dataset[feature_names + [target_name]].dropna()\n",
    "\n",
    "X = dataset[feature_names]\n",
    "y = dataset[[target_name]]\n",
    "\n",
    "X_train, X_test, y_train, y_test = train_test_split(X, y, test_size=0.2, stratify=y, random_state=7)"
   ]
  },
  {
   "cell_type": "code",
   "execution_count": 130,
   "metadata": {},
   "outputs": [
    {
     "data": {
      "text/plain": [
       "((569, 7), (569, 1), (143, 7), (143, 1))"
      ]
     },
     "execution_count": 130,
     "metadata": {},
     "output_type": "execute_result"
    }
   ],
   "source": [
    "from sklearn.preprocessing import OrdinalEncoder, StandardScaler\n",
    "from sklearn.metrics import (\n",
    "    accuracy_score,\n",
    "    f1_score,\n",
    "    precision_score,\n",
    "    recall_score,\n",
    "    classification_report,\n",
    "    confusion_matrix,\n",
    "    ConfusionMatrixDisplay\n",
    "    )\n",
    "\n",
    "encoder = OrdinalEncoder()\n",
    "X_train['Sex'] = encoder.fit_transform(X_train[['Sex']])\n",
    "X_test['Sex'] = encoder.transform(X_test[['Sex']])\n",
    "\n",
    "encoder = OrdinalEncoder()\n",
    "X_train['Embarked'] = encoder.fit_transform(X_train[['Embarked']])\n",
    "X_test['Embarked'] = encoder.transform(X_test[['Embarked']])\n",
    "\n",
    "\n",
    "scaler = StandardScaler()\n",
    "X_train = X_train.values\n",
    "X_test = X_test.values\n",
    "X_train = scaler.fit_transform(X_train)\n",
    "X_test = scaler.transform(X_test)\n",
    "\n",
    "X_train.shape, y_train.shape, X_test.shape, y_test.shape"
   ]
  },
  {
   "cell_type": "code",
   "execution_count": 131,
   "metadata": {},
   "outputs": [
    {
     "data": {
      "text/plain": [
       "array([[-0.70710678,  1.33630621,  1.41421356,  1.33630621],\n",
       "       [ 1.41421356, -0.26726124, -0.70710678, -0.26726124],\n",
       "       [-0.70710678, -1.06904497, -0.70710678, -1.06904497]])"
      ]
     },
     "execution_count": 131,
     "metadata": {},
     "output_type": "execute_result"
    }
   ],
   "source": [
    "from sklearn.preprocessing import scale\n",
    "\n",
    "scale([[0, 50, 0.3, 5], [1, 30, 0.2, 3], [0, 20, 0.2, 2]])"
   ]
  },
  {
   "cell_type": "code",
   "execution_count": 132,
   "metadata": {},
   "outputs": [],
   "source": [
    "X_train = X_train.reshape((569, 1, 7))\n",
    "y_train = y_train.values.reshape((569, 1, 1))\n",
    "\n",
    "# Only for tanh\n",
    "# How would this encoding change if you use sigmoid in the last layer?\n",
    "y_train[y_train == 1] = 1\n",
    "y_train[y_train == 0] = -1\n",
    "\n",
    "\n",
    "X_test = X_test.reshape((143, 1, 7))\n",
    "y_test = y_test.values.reshape((143, 1, 1))\n",
    "\n",
    "# Only for tanh\n",
    "# How would this encoding change if you use sigmoid in the last layer?\n",
    "y_test[y_test == 1] = 1\n",
    "y_test[y_test == 0] = -1"
   ]
  },
  {
   "cell_type": "markdown",
   "metadata": {},
   "source": [
    "## Network modeling with Tanh"
   ]
  },
  {
   "cell_type": "code",
   "execution_count": 133,
   "metadata": {},
   "outputs": [
    {
     "name": "stderr",
     "output_type": "stream",
     "text": [
      "Epoch: 999 | Train loss: 0.1737: 100%|██████████| 1000/1000 [01:15<00:00, 13.29it/s]\n"
     ]
    }
   ],
   "source": [
    "net = Network()\n",
    "\n",
    "net.add(FCLayer(7, 70))\n",
    "net.add(ActivationLayer(Tanh()))\n",
    "net.add(FCLayer(70, 50))\n",
    "net.add(ActivationLayer(Tanh()))\n",
    "net.add(FCLayer(50, 30))\n",
    "net.add(ActivationLayer(Tanh()))\n",
    "net.add(FCLayer(30, 20))\n",
    "net.add(ActivationLayer(Tanh()))\n",
    "net.add(FCLayer(20, 5))\n",
    "net.add(ActivationLayer(Tanh()))\n",
    "net.add(FCLayer(5, 2))\n",
    "net.add(ActivationLayer(Tanh()))\n",
    "\n",
    "net.use(MSE())\n",
    "net.fit(X_train, y_train, epochs=1000, learning_rate=0.001)"
   ]
  },
  {
   "cell_type": "code",
   "execution_count": 134,
   "metadata": {},
   "outputs": [
    {
     "data": {
      "text/plain": [
       "Text(0, 0.5, 'Loss')"
      ]
     },
     "execution_count": 134,
     "metadata": {},
     "output_type": "execute_result"
    },
    {
     "data": {
      "image/png": "[encoded data removed]",
      "text/plain": [
       "<Figure size 640x480 with 1 Axes>"
      ]
     },
     "metadata": {},
     "output_type": "display_data"
    }
   ],
   "source": [
    "import matplotlib.pyplot as plt\n",
    "\n",
    "plt.plot(range(1000), net.err_log)\n",
    "plt.grid(True)\n",
    "plt.title(\"Training Loss\")\n",
    "plt.xlabel(\"Epochs\")\n",
    "plt.ylabel(\"Loss\")"
   ]
  },
  {
   "cell_type": "code",
   "execution_count": 135,
   "metadata": {},
   "outputs": [
    {
     "name": "stdout",
     "output_type": "stream",
     "text": [
      "[[74 11]\n",
      " [15 43]]\n"
     ]
    },
    {
     "data": {
      "image/png": "[encoded data removed]",
      "text/plain": [
       "<Figure size 640x480 with 2 Axes>"
      ]
     },
     "metadata": {},
     "output_type": "display_data"
    }
   ],
   "source": [
    "# How would this threshold change if you use sigmoid in the last layer?\n",
    "threshold = 0\n",
    "\n",
    "y_pred = net.predict(X_test)\n",
    "y_pred = [1 if p[0][0] >= threshold else 0 for p in y_pred]\n",
    "y_true = [1 if p[0][0] >= threshold else 0 for p in y_test]\n",
    "print(confusion_matrix(y_true, y_pred))\n",
    "ConfusionMatrixDisplay.from_predictions(y_true, y_pred);"
   ]
  },
  {
   "cell_type": "code",
   "execution_count": 136,
   "metadata": {},
   "outputs": [
    {
     "name": "stdout",
     "output_type": "stream",
     "text": [
      "              precision    recall  f1-score   support\n",
      "\n",
      "           0       0.87      0.83      0.85        89\n",
      "           1       0.74      0.80      0.77        54\n",
      "\n",
      "    accuracy                           0.82       143\n",
      "   macro avg       0.81      0.81      0.81       143\n",
      "weighted avg       0.82      0.82      0.82       143\n",
      "\n"
     ]
    }
   ],
   "source": [
    "print(classification_report(y_pred, y_true, zero_division=0))"
   ]
  },
  {
   "cell_type": "code",
   "execution_count": 137,
   "metadata": {},
   "outputs": [],
   "source": [
    "cm = np.zeros((2, 2))\n",
    "for i in range(len(y_true)):\n",
    "    if y_true[i] == 0 and y_pred[i] == 0:\n",
    "        cm[0, 0] += 1\n",
    "    elif y_true[i] == 1 and y_pred[i] == 1:\n",
    "        cm[1, 1] += 1\n",
    "    elif y_true[i] == 0 and y_pred[i] == 1:\n",
    "        cm[0, 1] += 1\n",
    "    elif y_true[i] == 1 and y_pred[i] == 0:\n",
    "        cm[1, 0] += 1\n"
   ]
  },
  {
   "cell_type": "code",
   "execution_count": 138,
   "metadata": {},
   "outputs": [],
   "source": [
    "def my_accuracy(y_true, y_pred):\n",
    "    return (cm[0, 0]+cm[1, 1])/cm.sum()\n",
    "\n",
    "\n",
    "def my_precision(y_true, y_pred):\n",
    "    return cm[1, 1]/(cm[1, 1]+cm[0, 1])\n",
    "\n",
    "\n",
    "def my_recall(y_true, y_pred):\n",
    "    return cm[1, 1]/(cm[1, 1]+cm[1, 0])\n",
    "\n",
    "def my_confusion_matrix(y_true, y_pred):\n",
    "    return cm\n",
    "\n",
    "\n",
    "# See what average=\"binary\" means in sklearn documentation\n",
    "assert my_accuracy(y_true, y_pred) == accuracy_score(y_true, y_pred)\n",
    "assert my_recall(y_true, y_pred) == recall_score(\n",
    "    y_true, y_pred, average='binary')\n",
    "assert my_precision(y_true, y_pred) == precision_score(\n",
    "    y_true, y_pred, average='binary')\n",
    "assert (my_confusion_matrix(y_true, y_pred) == my_confusion_matrix(y_true, y_pred)).all()\n"
   ]
  },
  {
   "cell_type": "markdown",
   "metadata": {},
   "source": [
    "## Network modeling with Sigmoid"
   ]
  },
  {
   "cell_type": "code",
   "execution_count": 139,
   "metadata": {},
   "outputs": [
    {
     "name": "stderr",
     "output_type": "stream",
     "text": [
      "Epoch: 499 | Train loss: 1.001: 100%|██████████| 500/500 [00:47<00:00, 10.55it/s]\n"
     ]
    }
   ],
   "source": [
    "net = Network()\n",
    "\n",
    "net.add(FCLayer(7, 10))\n",
    "net.add(ActivationLayer(Sigmoid()))\n",
    "net.add(FCLayer(10, 20))\n",
    "net.add(ActivationLayer(Sigmoid()))\n",
    "net.add(FCLayer(20, 50))\n",
    "net.add(ActivationLayer(Sigmoid()))\n",
    "net.add(FCLayer(50, 20))\n",
    "net.add(ActivationLayer(Sigmoid()))\n",
    "net.add(FCLayer(20, 10))\n",
    "net.add(ActivationLayer(Sigmoid()))\n",
    "net.add(FCLayer(10, 1))\n",
    "net.add(ActivationLayer(Sigmoid()))\n",
    "\n",
    "net.use(MSE())\n",
    "net.fit(X_train, y_train, epochs=500, learning_rate=0.001)\n"
   ]
  },
  {
   "cell_type": "code",
   "execution_count": 140,
   "metadata": {},
   "outputs": [
    {
     "name": "stdout",
     "output_type": "stream",
     "text": [
      "[[ 0 85]\n",
      " [ 0 58]]\n"
     ]
    },
    {
     "data": {
      "text/plain": [
       "<sklearn.metrics._plot.confusion_matrix.ConfusionMatrixDisplay at 0x215c5f14fd0>"
      ]
     },
     "execution_count": 140,
     "metadata": {},
     "output_type": "execute_result"
    },
    {
     "data": {
      "image/png": "[encoded data removed]",
      "text/plain": [
       "<Figure size 640x480 with 2 Axes>"
      ]
     },
     "metadata": {},
     "output_type": "display_data"
    }
   ],
   "source": [
    "# How would this threshold change if you use sigmoid in the last layer?\n",
    "threshold = 0\n",
    "\n",
    "y_pred_2 = net.predict(X_test)\n",
    "y_pred_2 = [1 if p[0][0] >= threshold else 0 for p in y_pred_2]\n",
    "y_true_2 = [1 if p[0][0] >= threshold else 0 for p in y_test]\n",
    "print(confusion_matrix(y_true_2, y_pred_2))\n",
    "ConfusionMatrixDisplay.from_predictions(y_true_2, y_pred_2)\n"
   ]
  },
  {
   "cell_type": "code",
   "execution_count": 141,
   "metadata": {},
   "outputs": [],
   "source": [
    "cm_2 = np.zeros((2, 2))\n",
    "for i in range(len(y_true_2)):\n",
    "    if y_true_2[i] == 0 and y_pred_2[i] == 0:\n",
    "        cm_2[0, 0] += 1\n",
    "    elif y_true_2[i] == 1 and y_pred_2[i] == 1:\n",
    "        cm_2[1, 1] += 1\n",
    "    elif y_true_2[i] == 0 and y_pred_2[i] == 1:\n",
    "        cm_2[0, 1] += 1\n",
    "    elif y_true_2[i] == 1 and y_pred_2[i] == 0:\n",
    "        cm_2[1, 0] += 1\n"
   ]
  },
  {
   "cell_type": "code",
   "execution_count": 142,
   "metadata": {},
   "outputs": [],
   "source": [
    "def my_accuracy_2(y_true_2, y_pred_2):\n",
    "    return (cm_2[0, 0]+cm_2[1, 1])/cm_2.sum()\n",
    "\n",
    "\n",
    "def my_precision_2(y_true_2, y_pred_2):\n",
    "    return cm_2[1, 1]/(cm_2[1, 1]+cm_2[0, 1])\n",
    "\n",
    "\n",
    "def my_recall_2(y_true_2, y_pred_2):\n",
    "    return cm_2[1, 1]/(cm_2[1, 1]+cm_2[1, 0])\n",
    "\n",
    "\n",
    "def my_confusion_matrix(y_true_2, y_pred_2):\n",
    "    return cm_2\n",
    "\n",
    "\n",
    "# See what average=\"binary\" means in sklearn documentation\n",
    "assert my_accuracy_2(y_true_2, y_pred_2) == accuracy_score(y_true_2, y_pred_2)\n",
    "assert my_recall_2(y_true_2, y_pred_2) == recall_score(\n",
    "    y_true_2, y_pred_2, average='binary')\n",
    "assert my_precision_2(y_true_2, y_pred_2) == precision_score(\n",
    "    y_true_2, y_pred_2, average='binary')\n",
    "assert (my_confusion_matrix(y_true_2, y_pred_2) ==my_confusion_matrix(y_true_2, y_pred_2)).all()\n"
   ]
  },
  {
   "cell_type": "markdown",
   "metadata": {},
   "source": [
    "## Network modeling with ReLU"
   ]
  },
  {
   "cell_type": "code",
   "execution_count": 143,
   "metadata": {},
   "outputs": [
    {
     "name": "stderr",
     "output_type": "stream",
     "text": [
      "Epoch: 499 | Train loss: 1.0: 100%|██████████| 500/500 [00:41<00:00, 12.03it/s]\n"
     ]
    }
   ],
   "source": [
    "net = Network()\n",
    "\n",
    "net.add(FCLayer(7, 10))\n",
    "net.add(ActivationLayer(ReLU()))\n",
    "net.add(FCLayer(10, 20))\n",
    "net.add(ActivationLayer(ReLU()))\n",
    "net.add(FCLayer(20, 50))\n",
    "net.add(ActivationLayer(ReLU()))\n",
    "net.add(FCLayer(50, 20))\n",
    "net.add(ActivationLayer(ReLU()))\n",
    "net.add(FCLayer(20, 10))\n",
    "net.add(ActivationLayer(ReLU()))\n",
    "net.add(FCLayer(10, 1))\n",
    "net.add(ActivationLayer(ReLU()))\n",
    "\n",
    "net.use(MSE())\n",
    "net.fit(X_train, y_train, epochs=500, learning_rate=0.001)\n"
   ]
  },
  {
   "cell_type": "code",
   "execution_count": 144,
   "metadata": {},
   "outputs": [
    {
     "name": "stdout",
     "output_type": "stream",
     "text": [
      "[[ 0 85]\n",
      " [ 0 58]]\n"
     ]
    },
    {
     "data": {
      "text/plain": [
       "<sklearn.metrics._plot.confusion_matrix.ConfusionMatrixDisplay at 0x215c9cb8490>"
      ]
     },
     "execution_count": 144,
     "metadata": {},
     "output_type": "execute_result"
    },
    {
     "data": {
      "image/png": "[encoded data removed]",
      "text/plain": [
       "<Figure size 640x480 with 2 Axes>"
      ]
     },
     "metadata": {},
     "output_type": "display_data"
    }
   ],
   "source": [
    "# How would this threshold change if you use sigmoid in the last layer?\n",
    "threshold = 0\n",
    "\n",
    "y_pred_3 = net.predict(X_test)\n",
    "y_pred_3 = [1 if p[0][0] >= threshold else 0 for p in y_pred_3]\n",
    "y_true_3 = [1 if p[0][0] >= threshold else 0 for p in y_test]\n",
    "print(confusion_matrix(y_true_3, y_pred_3))\n",
    "ConfusionMatrixDisplay.from_predictions(y_true_3, y_pred_3)\n"
   ]
  },
  {
   "cell_type": "code",
   "execution_count": 145,
   "metadata": {},
   "outputs": [],
   "source": [
    "cm_3 = np.zeros((2, 2))\n",
    "for i in range(len(y_true_3)):\n",
    "    if y_true_3[i] == 0 and y_pred_3[i] == 0:\n",
    "        cm_3[0, 0] += 1\n",
    "    elif y_true_3[i] == 1 and y_pred_3[i] == 1:\n",
    "        cm_3[1, 1] += 1\n",
    "    elif y_true_3[i] == 0 and y_pred_3[i] == 1:\n",
    "        cm_3[0, 1] += 1\n",
    "    elif y_true_3[i] == 1 and y_pred_3[i] == 0:\n",
    "        cm_3[1, 0] += 1\n"
   ]
  },
  {
   "cell_type": "code",
   "execution_count": 146,
   "metadata": {},
   "outputs": [],
   "source": [
    "def my_accuracy_3(y_true_3, y_pred_3):\n",
    "    return (cm_3[0, 0]+cm_3[1, 1])/cm_3.sum()\n",
    "\n",
    "\n",
    "def my_precision_3(y_true_3, y_pred_3):\n",
    "    return cm_3[1, 1]/(cm_3[1, 1]+cm_3[0, 1])\n",
    "\n",
    "\n",
    "def my_recall_3(y_true_3, y_pred_3):\n",
    "    return cm_3[1, 1]/(cm_3[1, 1]+cm_3[1, 0])\n",
    "\n",
    "\n",
    "def my_confusion_matrix(y_true_3, y_pred_3):\n",
    "    return cm_3\n",
    "\n",
    "\n",
    "# See what average=\"binary\" means in sklearn documentation\n",
    "assert my_accuracy_3(y_true_3, y_pred_3) == accuracy_score(y_true_3, y_pred_3)\n",
    "assert my_recall_3(y_true_3, y_pred_3) == recall_score(\n",
    "    y_true_3, y_pred_3, average='binary')\n",
    "assert my_precision_3(y_true_3, y_pred_3) == precision_score(\n",
    "    y_true_3, y_pred_3, average='binary')\n",
    "assert (my_confusion_matrix(y_true_3, y_pred_3) ==\n",
    "        my_confusion_matrix(y_true_3, y_pred_3)).all()\n"
   ]
  },
  {
   "cell_type": "markdown",
   "metadata": {},
   "source": [
    "## Network modeling with LeaklyReLU"
   ]
  },
  {
   "cell_type": "code",
   "execution_count": 152,
   "metadata": {},
   "outputs": [
    {
     "name": "stderr",
     "output_type": "stream",
     "text": [
      "Epoch: 499 | Train loss: 0.307: 100%|██████████| 500/500 [00:49<00:00, 10.00it/s] \n"
     ]
    }
   ],
   "source": [
    "net = Network()\n",
    "\n",
    "net.add(FCLayer(7, 70))\n",
    "net.add(ActivationLayer(LeakyReLU()))\n",
    "net.add(FCLayer(70, 40))\n",
    "net.add(ActivationLayer(LeakyReLU()))\n",
    "net.add(FCLayer(40, 50))\n",
    "net.add(ActivationLayer(LeakyReLU()))\n",
    "net.add(FCLayer(50, 20))\n",
    "net.add(ActivationLayer(LeakyReLU()))\n",
    "net.add(FCLayer(20, 10))\n",
    "net.add(ActivationLayer(LeakyReLU()))\n",
    "net.add(FCLayer(10, 2))\n",
    "net.add(ActivationLayer(LeakyReLU()))\n",
    "\n",
    "net.use(MSE())\n",
    "net.fit(X_train, y_train, epochs=500, learning_rate=0.001)\n"
   ]
  },
  {
   "cell_type": "code",
   "execution_count": 153,
   "metadata": {},
   "outputs": [
    {
     "name": "stdout",
     "output_type": "stream",
     "text": [
      "[[71 14]\n",
      " [13 45]]\n"
     ]
    },
    {
     "data": {
      "text/plain": [
       "<sklearn.metrics._plot.confusion_matrix.ConfusionMatrixDisplay at 0x215c9f19390>"
      ]
     },
     "execution_count": 153,
     "metadata": {},
     "output_type": "execute_result"
    },
    {
     "data": {
      "image/png": "[encoded data removed]",
      "text/plain": [
       "<Figure size 640x480 with 2 Axes>"
      ]
     },
     "metadata": {},
     "output_type": "display_data"
    }
   ],
   "source": [
    "# How would this threshold change if you use sigmoid in the last layer?\n",
    "threshold = 0\n",
    "\n",
    "y_pred_4 = net.predict(X_test)\n",
    "y_pred_4 = [1 if p[0][0] >= threshold else 0 for p in y_pred_4]\n",
    "y_true_4 = [1 if p[0][0] >= threshold else 0 for p in y_test]\n",
    "print(confusion_matrix(y_true_4, y_pred_4))\n",
    "ConfusionMatrixDisplay.from_predictions(y_true_4, y_pred_4)\n"
   ]
  },
  {
   "cell_type": "code",
   "execution_count": 154,
   "metadata": {},
   "outputs": [],
   "source": [
    "cm_4 = np.zeros((2, 2))\n",
    "for i in range(len(y_true_3)):\n",
    "    if y_true_4[i] == 0 and y_pred_4[i] == 0:\n",
    "        cm_4[0, 0] += 1\n",
    "    elif y_true_4[i] == 1 and y_pred_4[i] == 1:\n",
    "        cm_4[1, 1] += 1\n",
    "    elif y_true_4[i] == 0 and y_pred_4[i] == 1:\n",
    "        cm_4[0, 1] += 1\n",
    "    elif y_true_4[i] == 1 and y_pred_4[i] == 0:\n",
    "        cm_4[1, 0] += 1\n"
   ]
  },
  {
   "cell_type": "code",
   "execution_count": 155,
   "metadata": {},
   "outputs": [],
   "source": [
    "def my_accuracy_4(y_true_4, y_pred_4):\n",
    "    return (cm_4[0, 0]+cm_4[1, 1])/cm_4.sum()\n",
    "\n",
    "\n",
    "def my_precision_4(y_true_4, y_pred_4):\n",
    "    return cm_4[1, 1]/(cm_4[1, 1]+cm_4[0, 1])\n",
    "\n",
    "\n",
    "def my_recall_4(y_true_4, y_pred_4):\n",
    "    return cm_4[1, 1]/(cm_4[1, 1]+cm_4[1, 0])\n",
    "\n",
    "\n",
    "def my_confusion_matrix_4(y_true_4, y_pred_4):\n",
    "    return cm_4\n",
    "\n",
    "\n",
    "# See what average=\"binary\" means in sklearn documentation\n",
    "assert my_accuracy_4(y_true_4, y_pred_4) == accuracy_score(y_true_4, y_pred_4)\n",
    "assert my_recall_4(y_true_4, y_pred_4) == recall_score(\n",
    "    y_true_4, y_pred_4, average='binary')\n",
    "assert my_precision_4(y_true_4, y_pred_4) == precision_score(\n",
    "    y_true_4, y_pred_4, average='binary')\n",
    "assert (my_confusion_matrix(y_true_4, y_pred_4) ==my_confusion_matrix(y_true_4, y_pred_4)).all()\n"
   ]
  },
  {
   "cell_type": "markdown",
   "metadata": {},
   "source": [
    "# Conculison\n",
    "\n",
    "* LeaklyReLU and Tanh are same.\n",
    "* Sigmoid and ReLU are the worst."
   ]
  },
  {
   "cell_type": "code",
   "execution_count": 156,
   "metadata": {},
   "outputs": [
    {
     "name": "stdout",
     "output_type": "stream",
     "text": [
      "Tanh - Accuracy:0.8181818181818182 - Recall:0.7413793103448276 - Prediction:0.7962962962962963\n",
      "\n",
      "Sigmoid - Accuracy:0.40559440559440557 - Recall:1.0 - Prediction:0.40559440559440557\n",
      "\n",
      "ReLU - Accuracy:0.40559440559440557 - Recall:1.0 - Prediction:0.40559440559440557\n",
      "\n",
      "LeaklyReLU - Accuracy:0.8111888111888111 - Recall:0.7758620689655172 - Prediction:0.7627118644067796\n",
      "\n"
     ]
    }
   ],
   "source": [
    "print(f'Tanh - Accuracy:{my_accuracy(y_true, y_pred)} - Recall:{my_recall(y_true, y_pred)} - Prediction:{my_precision(y_true, y_pred)}\\n')\n",
    "print(f'Sigmoid - Accuracy:{my_accuracy_2(y_true_2, y_pred_2)} - Recall:{my_recall_2(y_true_2, y_pred_2)} - Prediction:{my_precision_2(y_true_2, y_pred_2)}\\n')\n",
    "print(f'ReLU - Accuracy:{my_accuracy_3(y_true_3, y_pred_3)} - Recall:{my_recall_3(y_true_3, y_pred_3)} - Prediction:{my_precision_3(y_true_3, y_pred_3)}\\n')\n",
    "print(f'LeaklyReLU - Accuracy:{my_accuracy_4(y_true_4, y_pred_4)} - Recall:{my_recall_4(y_true_4, y_pred_4)} - Prediction:{my_precision_4(y_true_4, y_pred_4)}\\n')"
   ]
  }
 ],
 "metadata": {
  "kernelspec": {
   "display_name": "Python 3.11.0 64-bit",
   "language": "python",
   "name": "python3"
  },
  "language_info": {
   "codemirror_mode": {
    "name": "ipython",
    "version": 3
   },
   "file_extension": ".py",
   "mimetype": "text/x-python",
   "name": "python",
   "nbconvert_exporter": "python",
   "pygments_lexer": "ipython3",
   "version": "3.11.0"
  },
  "orig_nbformat": 4,
  "vscode": {
   "interpreter": {
    "hash": "63ddb2ca0501eb15450eee8ff0d361f3c9cf978afcfc1c3f5115e5c0e1d277b5"
   }
  }
 },
 "nbformat": 4,
 "nbformat_minor": 2
}
