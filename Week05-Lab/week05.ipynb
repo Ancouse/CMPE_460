{
 "cells": [
  {
   "cell_type": "code",
   "execution_count": 28,
   "metadata": {},
   "outputs": [
    {
     "name": "stdout",
     "output_type": "stream",
     "text": [
      "The autoreload extension is already loaded. To reload it, use:\n",
      "  %reload_ext autoreload\n"
     ]
    },
    {
     "data": {
      "text/html": [
       "<div>\n",
       "<style scoped>\n",
       "    .dataframe tbody tr th:only-of-type {\n",
       "        vertical-align: middle;\n",
       "    }\n",
       "\n",
       "    .dataframe tbody tr th {\n",
       "        vertical-align: top;\n",
       "    }\n",
       "\n",
       "    .dataframe thead th {\n",
       "        text-align: right;\n",
       "    }\n",
       "</style>\n",
       "<table border=\"1\" class=\"dataframe\">\n",
       "  <thead>\n",
       "    <tr style=\"text-align: right;\">\n",
       "      <th></th>\n",
       "      <th>PassengerId</th>\n",
       "      <th>Survived</th>\n",
       "      <th>Pclass</th>\n",
       "      <th>Name</th>\n",
       "      <th>Sex</th>\n",
       "      <th>Age</th>\n",
       "      <th>SibSp</th>\n",
       "      <th>Parch</th>\n",
       "      <th>Ticket</th>\n",
       "      <th>Fare</th>\n",
       "      <th>Cabin</th>\n",
       "      <th>Embarked</th>\n",
       "    </tr>\n",
       "  </thead>\n",
       "  <tbody>\n",
       "    <tr>\n",
       "      <th>0</th>\n",
       "      <td>1</td>\n",
       "      <td>0</td>\n",
       "      <td>3</td>\n",
       "      <td>Braund, Mr. Owen Harris</td>\n",
       "      <td>male</td>\n",
       "      <td>22.0</td>\n",
       "      <td>1</td>\n",
       "      <td>0</td>\n",
       "      <td>A/5 21171</td>\n",
       "      <td>7.2500</td>\n",
       "      <td>NaN</td>\n",
       "      <td>S</td>\n",
       "    </tr>\n",
       "    <tr>\n",
       "      <th>1</th>\n",
       "      <td>2</td>\n",
       "      <td>1</td>\n",
       "      <td>1</td>\n",
       "      <td>Cumings, Mrs. John Bradley (Florence Briggs Th...</td>\n",
       "      <td>female</td>\n",
       "      <td>38.0</td>\n",
       "      <td>1</td>\n",
       "      <td>0</td>\n",
       "      <td>PC 17599</td>\n",
       "      <td>71.2833</td>\n",
       "      <td>C85</td>\n",
       "      <td>C</td>\n",
       "    </tr>\n",
       "    <tr>\n",
       "      <th>2</th>\n",
       "      <td>3</td>\n",
       "      <td>1</td>\n",
       "      <td>3</td>\n",
       "      <td>Heikkinen, Miss. Laina</td>\n",
       "      <td>female</td>\n",
       "      <td>26.0</td>\n",
       "      <td>0</td>\n",
       "      <td>0</td>\n",
       "      <td>STON/O2. 3101282</td>\n",
       "      <td>7.9250</td>\n",
       "      <td>NaN</td>\n",
       "      <td>S</td>\n",
       "    </tr>\n",
       "    <tr>\n",
       "      <th>3</th>\n",
       "      <td>4</td>\n",
       "      <td>1</td>\n",
       "      <td>1</td>\n",
       "      <td>Futrelle, Mrs. Jacques Heath (Lily May Peel)</td>\n",
       "      <td>female</td>\n",
       "      <td>35.0</td>\n",
       "      <td>1</td>\n",
       "      <td>0</td>\n",
       "      <td>113803</td>\n",
       "      <td>53.1000</td>\n",
       "      <td>C123</td>\n",
       "      <td>S</td>\n",
       "    </tr>\n",
       "    <tr>\n",
       "      <th>4</th>\n",
       "      <td>5</td>\n",
       "      <td>0</td>\n",
       "      <td>3</td>\n",
       "      <td>Allen, Mr. William Henry</td>\n",
       "      <td>male</td>\n",
       "      <td>35.0</td>\n",
       "      <td>0</td>\n",
       "      <td>0</td>\n",
       "      <td>373450</td>\n",
       "      <td>8.0500</td>\n",
       "      <td>NaN</td>\n",
       "      <td>S</td>\n",
       "    </tr>\n",
       "  </tbody>\n",
       "</table>\n",
       "</div>"
      ],
      "text/plain": [
       "   PassengerId  Survived  Pclass  \\\n",
       "0            1         0       3   \n",
       "1            2         1       1   \n",
       "2            3         1       3   \n",
       "3            4         1       1   \n",
       "4            5         0       3   \n",
       "\n",
       "                                                Name     Sex   Age  SibSp  \\\n",
       "0                            Braund, Mr. Owen Harris    male  22.0      1   \n",
       "1  Cumings, Mrs. John Bradley (Florence Briggs Th...  female  38.0      1   \n",
       "2                             Heikkinen, Miss. Laina  female  26.0      0   \n",
       "3       Futrelle, Mrs. Jacques Heath (Lily May Peel)  female  35.0      1   \n",
       "4                           Allen, Mr. William Henry    male  35.0      0   \n",
       "\n",
       "   Parch            Ticket     Fare Cabin Embarked  \n",
       "0      0         A/5 21171   7.2500   NaN        S  \n",
       "1      0          PC 17599  71.2833   C85        C  \n",
       "2      0  STON/O2. 3101282   7.9250   NaN        S  \n",
       "3      0            113803  53.1000  C123        S  \n",
       "4      0            373450   8.0500   NaN        S  "
      ]
     },
     "execution_count": 28,
     "metadata": {},
     "output_type": "execute_result"
    }
   ],
   "source": [
    "%load_ext autoreload\n",
    "%autoreload 2\n",
    "\n",
    "import numpy as np\n",
    "import pandas as pd\n",
    "\n",
    "from neural_network import Network\n",
    "from activations import Tanh, Sigmoid, ReLU, LeakyReLU\n",
    "from layers import ActivationLayer, FCLayer\n",
    "from losses import MSE\n",
    "\n",
    "np.random.seed(7)\n",
    "\n",
    "feature_names = ['Sex', 'Age', 'SibSp', 'Pclass', 'Parch', 'Fare', 'Embarked']\n",
    "target_name = 'Survived'\n",
    "\n",
    "dataset = pd.read_csv(\"train.csv\")\n",
    "dataset.head()"
   ]
  },
  {
   "cell_type": "code",
   "execution_count": 29,
   "metadata": {},
   "outputs": [],
   "source": [
    "from sklearn.model_selection import train_test_split\n",
    "\n",
    "\n",
    "dataset = dataset[feature_names + [target_name]].dropna()\n",
    "\n",
    "X = dataset[feature_names]\n",
    "y = dataset[[target_name]]\n",
    "\n",
    "X_train, X_test, y_train, y_test = train_test_split(X, y, test_size=0.2, stratify=y, random_state=7)"
   ]
  },
  {
   "cell_type": "code",
   "execution_count": 30,
   "metadata": {},
   "outputs": [
    {
     "data": {
      "text/plain": [
       "((569, 7), (569, 1), (143, 7), (143, 1))"
      ]
     },
     "execution_count": 30,
     "metadata": {},
     "output_type": "execute_result"
    }
   ],
   "source": [
    "from sklearn.preprocessing import OrdinalEncoder, StandardScaler\n",
    "from sklearn.metrics import (\n",
    "    accuracy_score,\n",
    "    f1_score,\n",
    "    precision_score,\n",
    "    recall_score,\n",
    "    classification_report,\n",
    "    confusion_matrix,\n",
    "    ConfusionMatrixDisplay\n",
    "    )\n",
    "\n",
    "encoder = OrdinalEncoder()\n",
    "X_train['Sex'] = encoder.fit_transform(X_train[['Sex']])\n",
    "X_test['Sex'] = encoder.transform(X_test[['Sex']])\n",
    "\n",
    "encoder = OrdinalEncoder()\n",
    "X_train['Embarked'] = encoder.fit_transform(X_train[['Embarked']])\n",
    "X_test['Embarked'] = encoder.transform(X_test[['Embarked']])\n",
    "\n",
    "\n",
    "scaler = StandardScaler()\n",
    "X_train = X_train.values\n",
    "X_test = X_test.values\n",
    "X_train = scaler.fit_transform(X_train)\n",
    "X_test = scaler.transform(X_test) \n",
    "\n",
    "X_train.shape, y_train.shape, X_test.shape, y_test.shape"
   ]
  },
  {
   "cell_type": "code",
   "execution_count": 32,
   "metadata": {},
   "outputs": [
    {
     "data": {
      "text/plain": [
       "array([[-0.70710678,  1.33630621,  1.41421356,  1.33630621],\n",
       "       [ 1.41421356, -0.26726124, -0.70710678, -0.26726124],\n",
       "       [-0.70710678, -1.06904497, -0.70710678, -1.06904497]])"
      ]
     },
     "execution_count": 32,
     "metadata": {},
     "output_type": "execute_result"
    }
   ],
   "source": [
    "from sklearn.preprocessing import scale\n",
    "\n",
    "scale([[0, 50, 0.3, 5], [1, 30, 0.2, 3], [0, 20, 0.2, 2]])"
   ]
  },
  {
   "cell_type": "code",
   "execution_count": 33,
   "metadata": {},
   "outputs": [],
   "source": [
    "X_train = X_train.reshape((569, 1, 7))\n",
    "y_train = y_train.values.reshape((569, 1, 1))\n",
    "\n",
    "# Only for tanh\n",
    "# How would this encoding change if you use sigmoid in the last layer?\n",
    "y_train[y_train == 1] = 1\n",
    "y_train[y_train == 0] = -1\n",
    "\n",
    "\n",
    "X_test = X_test.reshape((143, 1, 7))\n",
    "y_test = y_test.values.reshape((143, 1, 1))\n",
    "\n",
    "# Only for tanh\n",
    "# How would this encoding change if you use sigmoid in the last layer?\n",
    "y_test[y_test == 1] = 1\n",
    "y_test[y_test == 0] = -1"
   ]
  },
  {
   "cell_type": "markdown",
   "metadata": {},
   "source": [
    "# With Tanh"
   ]
  },
  {
   "cell_type": "code",
   "execution_count": 34,
   "metadata": {},
   "outputs": [
    {
     "name": "stderr",
     "output_type": "stream",
     "text": [
      "Epoch: 499 | Train loss: 0.2651: 100%|██████████| 500/500 [00:47<00:00, 10.60it/s]\n"
     ]
    }
   ],
   "source": [
    "net = Network()\n",
    "\n",
    "net.add(FCLayer(7, 10))\n",
    "net.add(ActivationLayer(Tanh()))\n",
    "net.add(FCLayer(10, 20))\n",
    "net.add(ActivationLayer(Tanh()))\n",
    "net.add(FCLayer(20, 50))\n",
    "net.add(ActivationLayer(Tanh()))\n",
    "net.add(FCLayer(50, 20))\n",
    "net.add(ActivationLayer(Tanh()))\n",
    "net.add(FCLayer(20, 10))\n",
    "net.add(ActivationLayer(Tanh()))\n",
    "net.add(FCLayer(10, 1))\n",
    "net.add(ActivationLayer(Tanh()))\n",
    "\n",
    "net.use(MSE())\n",
    "net.fit(X_train, y_train, epochs=500, learning_rate=0.001)\n",
    "\n",
    "# it is not a good loss. i'm gonna try sigmoid/relu a"
   ]
  },
  {
   "cell_type": "code",
   "execution_count": 35,
   "metadata": {},
   "outputs": [
    {
     "data": {
      "text/plain": [
       "Text(0, 0.5, 'Loss')"
      ]
     },
     "execution_count": 35,
     "metadata": {},
     "output_type": "execute_result"
    },
    {
     "data": {
      "image/png": "[encoded data removed]",
      "text/plain": [
       "<Figure size 640x480 with 1 Axes>"
      ]
     },
     "metadata": {},
     "output_type": "display_data"
    }
   ],
   "source": [
    "import matplotlib.pyplot as plt\n",
    "\n",
    "plt.plot(range(500), net.err_log)\n",
    "plt.grid(True)\n",
    "plt.title(\"Training Loss\")\n",
    "plt.xlabel(\"Epochs\")\n",
    "plt.ylabel(\"Loss\")"
   ]
  },
  {
   "cell_type": "code",
   "execution_count": 37,
   "metadata": {},
   "outputs": [
    {
     "name": "stdout",
     "output_type": "stream",
     "text": [
      "[[72 13]\n",
      " [12 46]]\n"
     ]
    },
    {
     "data": {
      "text/plain": [
       "<sklearn.metrics._plot.confusion_matrix.ConfusionMatrixDisplay at 0x19ee59554f0>"
      ]
     },
     "execution_count": 37,
     "metadata": {},
     "output_type": "execute_result"
    },
    {
     "data": {
      "image/png": "[encoded data removed]",
      "text/plain": [
       "<Figure size 640x480 with 2 Axes>"
      ]
     },
     "metadata": {},
     "output_type": "display_data"
    }
   ],
   "source": [
    "# How would this threshold change if you use sigmoid in the last layer?\n",
    "threshold = 0\n",
    "\n",
    "y_pred = net.predict(X_test)\n",
    "y_pred = [1 if p[0][0] >= threshold else 0 for p in y_pred]\n",
    "y_true = [1 if p[0][0] >= threshold else 0 for p in y_test]\n",
    "print(confusion_matrix(y_true, y_pred))\n",
    "ConfusionMatrixDisplay.from_predictions(y_true, y_pred)"
   ]
  },
  {
   "cell_type": "code",
   "execution_count": 48,
   "metadata": {},
   "outputs": [
    {
     "name": "stdout",
     "output_type": "stream",
     "text": [
      "[[72 13]\n",
      " [12 46]]\n"
     ]
    }
   ],
   "source": [
    "threshold = 0\n",
    "\n",
    "y_pred = net.predict(X_test)\n",
    "y_pred = [1 if p[0][0] >= threshold else 0 for p in y_pred]\n",
    "y_true = [1 if p[0][0] >= threshold else 0 for p in y_test]\n",
    "matrix  = confusion_matrix(y_true, y_pred)\n",
    "print(matrix)\n"
   ]
  },
  {
   "cell_type": "code",
   "execution_count": null,
   "metadata": {},
   "outputs": [
    {
     "name": "stdout",
     "output_type": "stream",
     "text": [
      "              precision    recall  f1-score   support\n",
      "\n",
      "           0       0.85      0.86      0.85        84\n",
      "           1       0.79      0.78      0.79        59\n",
      "\n",
      "    accuracy                           0.83       143\n",
      "   macro avg       0.82      0.82      0.82       143\n",
      "weighted avg       0.82      0.83      0.82       143\n",
      "\n"
     ]
    }
   ],
   "source": [
    "print(classification_report(y_pred, y_true, zero_division=0))"
   ]
  },
  {
   "cell_type": "code",
   "execution_count": null,
   "metadata": {},
   "outputs": [],
   "source": [
    "# See how they are implemented in sklearn\n",
    "# https://scikit-learn.org/stable/modules/model_evaluation.html#classification-metrics\n",
    "\n",
    "def my_accuracy(y_true, y_pred):\n",
    "    ############# YOUR CODE #############\n",
    "    pass\n",
    "\n",
    "\n",
    "def my_precision(y_true, y_pred):\n",
    "    ############# YOUR CODE #############\n",
    "    pass\n",
    "\n",
    "def my_recall(y_true, y_pred):\n",
    "    y_true\n",
    "\n",
    "def my_confusion_matrix(y_true, y_pred):\n",
    "    ############# YOUR CODE #############\n",
    "    pass\n",
    "\n",
    "# See what average=\"binary\" means in sklearn documentation\n",
    "assert my_accuracy(y_true, y_pred) == accuracy_score(y_true, y_pred)\n",
    "assert my_recall(y_true, y_pred) == recall_score(y_true, y_pred, average='binary')\n",
    "assert my_precision(y_true, y_pred) == precision_score(y_true, y_pred, average='binary')\n",
    "assert all(my_confusion_matrix(y_true, y_pred) == my_confusion_matrix(y_true, y_pred))"
   ]
  },
  {
   "cell_type": "markdown",
   "metadata": {},
   "source": [
    "# With Sigmoid"
   ]
  },
  {
   "cell_type": "code",
   "execution_count": null,
   "metadata": {},
   "outputs": [
    {
     "name": "stderr",
     "output_type": "stream",
     "text": [
      "Epoch: 65 | Train loss: 1.005:  13%|█▎        | 66/500 [00:20<02:15,  3.20it/s]\n"
     ]
    },
    {
     "ename": "KeyboardInterrupt",
     "evalue": "",
     "output_type": "error",
     "traceback": [
      "\u001b[1;31m---------------------------------------------------------------------------\u001b[0m",
      "\u001b[1;31mKeyboardInterrupt\u001b[0m                         Traceback (most recent call last)",
      "Cell \u001b[1;32mIn [19], line 18\u001b[0m\n\u001b[0;32m     15\u001b[0m net\u001b[39m.\u001b[39madd(ActivationLayer(Sigmoid()))\n\u001b[0;32m     17\u001b[0m net\u001b[39m.\u001b[39muse(MSE())\n\u001b[1;32m---> 18\u001b[0m net\u001b[39m.\u001b[39;49mfit(X_train, y_train, epochs\u001b[39m=\u001b[39;49m\u001b[39m500\u001b[39;49m, learning_rate\u001b[39m=\u001b[39;49m\u001b[39m0.001\u001b[39;49m)\n",
      "File \u001b[1;32mc:\\Users\\Asus\\OneDrive\\Belgeler\\GitHub\\CMPE_460\\Week05-Lab\\neural_network.py:67\u001b[0m, in \u001b[0;36mNetwork.fit\u001b[1;34m(self, x_train, y_train, epochs, learning_rate)\u001b[0m\n\u001b[0;32m     65\u001b[0m     error \u001b[39m=\u001b[39m \u001b[39mself\u001b[39m\u001b[39m.\u001b[39mloss(y_train[j], output, derivative\u001b[39m=\u001b[39m\u001b[39mTrue\u001b[39;00m)\n\u001b[0;32m     66\u001b[0m     \u001b[39mfor\u001b[39;00m layer \u001b[39min\u001b[39;00m \u001b[39mreversed\u001b[39m(\u001b[39mself\u001b[39m\u001b[39m.\u001b[39mlayers):\n\u001b[1;32m---> 67\u001b[0m         error \u001b[39m=\u001b[39m layer\u001b[39m.\u001b[39;49mbackward_propagation(error, learning_rate)\n\u001b[0;32m     69\u001b[0m \u001b[39m# err_val = 0\u001b[39;00m\n\u001b[0;32m     70\u001b[0m \u001b[39m# for j in range(samples_val):\u001b[39;00m\n\u001b[0;32m     71\u001b[0m \u001b[39m#     # forward propagation\u001b[39;00m\n\u001b[1;32m   (...)\u001b[0m\n\u001b[0;32m     78\u001b[0m \n\u001b[0;32m     79\u001b[0m \u001b[39m# calculate average error on all samples\u001b[39;00m\n\u001b[0;32m     80\u001b[0m err \u001b[39m/\u001b[39m\u001b[39m=\u001b[39m samples\n",
      "File \u001b[1;32mc:\\Users\\Asus\\OneDrive\\Belgeler\\GitHub\\CMPE_460\\Week05-Lab\\layers.py:35\u001b[0m, in \u001b[0;36mFCLayer.backward_propagation\u001b[1;34m(self, output_error, learning_rate)\u001b[0m\n\u001b[0;32m     33\u001b[0m \u001b[39mdef\u001b[39;00m \u001b[39mbackward_propagation\u001b[39m(\u001b[39mself\u001b[39m, output_error, learning_rate):\n\u001b[0;32m     34\u001b[0m     input_error \u001b[39m=\u001b[39m np\u001b[39m.\u001b[39mdot(output_error, \u001b[39mself\u001b[39m\u001b[39m.\u001b[39mweights\u001b[39m.\u001b[39mT)\n\u001b[1;32m---> 35\u001b[0m     weights_error \u001b[39m=\u001b[39m np\u001b[39m.\u001b[39;49mdot(\u001b[39mself\u001b[39;49m\u001b[39m.\u001b[39;49minput\u001b[39m.\u001b[39;49mT, output_error)\n\u001b[0;32m     36\u001b[0m     \u001b[39m# dBias = output_error\u001b[39;00m\n\u001b[0;32m     37\u001b[0m \n\u001b[0;32m     38\u001b[0m     \u001b[39m# update parameters\u001b[39;00m\n\u001b[0;32m     39\u001b[0m     \u001b[39mself\u001b[39m\u001b[39m.\u001b[39mweights \u001b[39m-\u001b[39m\u001b[39m=\u001b[39m learning_rate \u001b[39m*\u001b[39m weights_error\n",
      "File \u001b[1;32m<__array_function__ internals>:180\u001b[0m, in \u001b[0;36mdot\u001b[1;34m(*args, **kwargs)\u001b[0m\n",
      "\u001b[1;31mKeyboardInterrupt\u001b[0m: "
     ]
    }
   ],
   "source": [
    "# Sigmoid\n",
    "net = Network()\n",
    "\n",
    "net.add(FCLayer(7, 10))\n",
    "net.add(ActivationLayer(Sigmoid()))\n",
    "net.add(FCLayer(10, 20))\n",
    "net.add(ActivationLayer(Sigmoid()))\n",
    "net.add(FCLayer(20, 50))\n",
    "net.add(ActivationLayer(Sigmoid()))\n",
    "net.add(FCLayer(50, 20))\n",
    "net.add(ActivationLayer(Sigmoid()))\n",
    "net.add(FCLayer(20, 10))\n",
    "net.add(ActivationLayer(Sigmoid()))\n",
    "net.add(FCLayer(10, 1))\n",
    "net.add(ActivationLayer(Sigmoid()))\n",
    "\n",
    "net.use(MSE())\n",
    "net.fit(X_train, y_train, epochs=500, learning_rate=0.001)\n",
    "\n",
    "# imposible"
   ]
  },
  {
   "cell_type": "code",
   "execution_count": null,
   "metadata": {},
   "outputs": [
    {
     "data": {
      "text/plain": [
       "Text(0, 0.5, 'Loss')"
      ]
     },
     "execution_count": 15,
     "metadata": {},
     "output_type": "execute_result"
    },
    {
     "data": {
      "image/png": "[encoded data removed]",
      "text/plain": [
       "<Figure size 640x480 with 1 Axes>"
      ]
     },
     "metadata": {},
     "output_type": "display_data"
    }
   ],
   "source": [
    "import matplotlib.pyplot as plt\n",
    "\n",
    "plt.plot(range(500), net.err_log)\n",
    "plt.grid(True)\n",
    "plt.title(\"Training Loss\")\n",
    "plt.xlabel(\"Epochs\")\n",
    "plt.ylabel(\"Loss\")"
   ]
  },
  {
   "cell_type": "code",
   "execution_count": null,
   "metadata": {},
   "outputs": [
    {
     "name": "stdout",
     "output_type": "stream",
     "text": [
      "[[ 0 85]\n",
      " [ 0 58]]\n"
     ]
    },
    {
     "data": {
      "text/plain": [
       "<sklearn.metrics._plot.confusion_matrix.ConfusionMatrixDisplay at 0x19e8078c7f0>"
      ]
     },
     "execution_count": 16,
     "metadata": {},
     "output_type": "execute_result"
    },
    {
     "data": {
      "image/png": "[encoded data removed]",
      "text/plain": [
       "<Figure size 640x480 with 2 Axes>"
      ]
     },
     "metadata": {},
     "output_type": "display_data"
    }
   ],
   "source": [
    "# How would this threshold change if you use sigmoid in the last layer?\n",
    "threshold = 0\n",
    "\n",
    "y_pred = net.predict(X_test)\n",
    "y_pred = [1 if p[0][0] >= threshold else 0 for p in y_pred]\n",
    "y_true = [1 if p[0][0] >= threshold else 0 for p in y_test]\n",
    "print(confusion_matrix(y_true, y_pred))\n",
    "ConfusionMatrixDisplay.from_predictions(y_true, y_pred)"
   ]
  },
  {
   "cell_type": "code",
   "execution_count": null,
   "metadata": {},
   "outputs": [
    {
     "name": "stdout",
     "output_type": "stream",
     "text": [
      "              precision    recall  f1-score   support\n",
      "\n",
      "           0       0.00      0.00      0.00         0\n",
      "           1       1.00      0.41      0.58       143\n",
      "\n",
      "    accuracy                           0.41       143\n",
      "   macro avg       0.50      0.20      0.29       143\n",
      "weighted avg       1.00      0.41      0.58       143\n",
      "\n"
     ]
    }
   ],
   "source": [
    "print(classification_report(y_pred, y_true, zero_division=0))"
   ]
  },
  {
   "cell_type": "code",
   "execution_count": null,
   "metadata": {},
   "outputs": [],
   "source": [
    "assert my_accuracy(y_true, y_pred) == accuracy_score(y_true, y_pred)\n",
    "assert my_recall(y_true, y_pred) == recall_score(y_true, y_pred, average='binary')\n",
    "assert my_precision(y_true, y_pred) == precision_score(y_true, y_pred, average='binary')\n",
    "assert all(my_confusion_matrix(y_true, y_pred) == my_confusion_matrix(y_true, y_pred))"
   ]
  },
  {
   "cell_type": "markdown",
   "metadata": {},
   "source": [
    "# With ReLU"
   ]
  },
  {
   "cell_type": "code",
   "execution_count": null,
   "metadata": {},
   "outputs": [
    {
     "name": "stderr",
     "output_type": "stream",
     "text": [
      "Epoch: 499 | Train loss: 1.0: 100%|██████████| 500/500 [01:04<00:00,  7.79it/s]\n"
     ]
    }
   ],
   "source": [
    "# Sigmoid\n",
    "net = Network()\n",
    "\n",
    "net.add(FCLayer(7, 10))\n",
    "net.add(ActivationLayer(ReLU()))\n",
    "net.add(FCLayer(10, 20))\n",
    "net.add(ActivationLayer(ReLU()))\n",
    "net.add(FCLayer(20, 50))\n",
    "net.add(ActivationLayer(ReLU()))\n",
    "net.add(FCLayer(50, 20))\n",
    "net.add(ActivationLayer(ReLU()))\n",
    "net.add(FCLayer(20, 10))\n",
    "net.add(ActivationLayer(ReLU()))\n",
    "net.add(FCLayer(10, 1))\n",
    "net.add(ActivationLayer(ReLU()))\n",
    "\n",
    "net.use(MSE())\n",
    "net.fit(X_train, y_train, epochs=500, learning_rate=0.001)\n",
    "\n",
    "# not good"
   ]
  },
  {
   "cell_type": "code",
   "execution_count": null,
   "metadata": {},
   "outputs": [
    {
     "data": {
      "text/plain": [
       "Text(0, 0.5, 'Loss')"
      ]
     },
     "execution_count": 21,
     "metadata": {},
     "output_type": "execute_result"
    },
    {
     "data": {
      "image/png": "[encoded data removed]",
      "text/plain": [
       "<Figure size 640x480 with 1 Axes>"
      ]
     },
     "metadata": {},
     "output_type": "display_data"
    }
   ],
   "source": [
    "import matplotlib.pyplot as plt\n",
    "\n",
    "plt.plot(range(500), net.err_log)\n",
    "plt.grid(True)\n",
    "plt.title(\"Training Loss\")\n",
    "plt.xlabel(\"Epochs\")\n",
    "plt.ylabel(\"Loss\")"
   ]
  },
  {
   "cell_type": "code",
   "execution_count": null,
   "metadata": {},
   "outputs": [
    {
     "name": "stdout",
     "output_type": "stream",
     "text": [
      "[[ 0 85]\n",
      " [ 0 58]]\n"
     ]
    },
    {
     "data": {
      "text/plain": [
       "<sklearn.metrics._plot.confusion_matrix.ConfusionMatrixDisplay at 0x19eff89af70>"
      ]
     },
     "execution_count": 22,
     "metadata": {},
     "output_type": "execute_result"
    },
    {
     "data": {
      "image/png": "[encoded data removed]",
      "text/plain": [
       "<Figure size 640x480 with 2 Axes>"
      ]
     },
     "metadata": {},
     "output_type": "display_data"
    }
   ],
   "source": [
    "# How would this threshold change if you use sigmoid in the last layer?\n",
    "threshold = 0\n",
    "\n",
    "y_pred = net.predict(X_test)\n",
    "y_pred = [1 if p[0][0] >= threshold else 0 for p in y_pred]\n",
    "y_true = [1 if p[0][0] >= threshold else 0 for p in y_test]\n",
    "print(confusion_matrix(y_true, y_pred))\n",
    "ConfusionMatrixDisplay.from_predictions(y_true, y_pred)"
   ]
  },
  {
   "cell_type": "code",
   "execution_count": null,
   "metadata": {},
   "outputs": [],
   "source": [
    "print(classification_report(y_pred, y_true, zero_division=0))"
   ]
  },
  {
   "cell_type": "code",
   "execution_count": null,
   "metadata": {},
   "outputs": [],
   "source": [
    "assert my_accuracy(y_true, y_pred) == accuracy_score(y_true, y_pred)\n",
    "assert my_recall(y_true, y_pred) == recall_score(y_true, y_pred, average='binary')\n",
    "assert my_precision(y_true, y_pred) == precision_score(y_true, y_pred, average='binary')\n",
    "assert all(my_confusion_matrix(y_true, y_pred) == my_confusion_matrix(y_true, y_pred))"
   ]
  },
  {
   "cell_type": "markdown",
   "metadata": {},
   "source": [
    "# With LeakyReLU"
   ]
  },
  {
   "cell_type": "code",
   "execution_count": null,
   "metadata": {},
   "outputs": [
    {
     "name": "stderr",
     "output_type": "stream",
     "text": [
      "Error | Epoch:   0%|          | 0/500 [00:00<?, ?it/s]\n"
     ]
    },
    {
     "ename": "ValueError",
     "evalue": "The truth value of an array with more than one element is ambiguous. Use a.any() or a.all()",
     "output_type": "error",
     "traceback": [
      "\u001b[1;31m---------------------------------------------------------------------------\u001b[0m",
      "\u001b[1;31mValueError\u001b[0m                                Traceback (most recent call last)",
      "Cell \u001b[1;32mIn [25], line 18\u001b[0m\n\u001b[0;32m     15\u001b[0m net\u001b[39m.\u001b[39madd(ActivationLayer(LeakyReLU()))\n\u001b[0;32m     17\u001b[0m net\u001b[39m.\u001b[39muse(MSE())\n\u001b[1;32m---> 18\u001b[0m net\u001b[39m.\u001b[39;49mfit(X_train, y_train, epochs\u001b[39m=\u001b[39;49m\u001b[39m500\u001b[39;49m, learning_rate\u001b[39m=\u001b[39;49m\u001b[39m0.001\u001b[39;49m)\n",
      "File \u001b[1;32mc:\\Users\\Asus\\OneDrive\\Belgeler\\GitHub\\CMPE_460\\Week05-Lab\\neural_network.py:59\u001b[0m, in \u001b[0;36mNetwork.fit\u001b[1;34m(self, x_train, y_train, epochs, learning_rate)\u001b[0m\n\u001b[0;32m     57\u001b[0m output \u001b[39m=\u001b[39m x_train[j]\n\u001b[0;32m     58\u001b[0m \u001b[39mfor\u001b[39;00m layer \u001b[39min\u001b[39;00m \u001b[39mself\u001b[39m\u001b[39m.\u001b[39mlayers:\n\u001b[1;32m---> 59\u001b[0m     output \u001b[39m=\u001b[39m layer\u001b[39m.\u001b[39;49mforward_propagation(output)\n\u001b[0;32m     61\u001b[0m \u001b[39m# compute loss (for display purpose only)\u001b[39;00m\n\u001b[0;32m     62\u001b[0m err \u001b[39m+\u001b[39m\u001b[39m=\u001b[39m \u001b[39mself\u001b[39m\u001b[39m.\u001b[39mloss(y_train[j], output)\n",
      "File \u001b[1;32mc:\\Users\\Asus\\OneDrive\\Belgeler\\GitHub\\CMPE_460\\Week05-Lab\\layers.py:51\u001b[0m, in \u001b[0;36mActivationLayer.forward_propagation\u001b[1;34m(self, input_data)\u001b[0m\n\u001b[0;32m     49\u001b[0m \u001b[39mdef\u001b[39;00m \u001b[39mforward_propagation\u001b[39m(\u001b[39mself\u001b[39m, input_data):\n\u001b[0;32m     50\u001b[0m     \u001b[39mself\u001b[39m\u001b[39m.\u001b[39minput \u001b[39m=\u001b[39m input_data\n\u001b[1;32m---> 51\u001b[0m     \u001b[39mself\u001b[39m\u001b[39m.\u001b[39moutput \u001b[39m=\u001b[39m \u001b[39mself\u001b[39;49m\u001b[39m.\u001b[39;49mactivation(\u001b[39mself\u001b[39;49m\u001b[39m.\u001b[39;49minput)\n\u001b[0;32m     52\u001b[0m     \u001b[39mreturn\u001b[39;00m \u001b[39mself\u001b[39m\u001b[39m.\u001b[39moutput\n",
      "File \u001b[1;32mc:\\Users\\Asus\\OneDrive\\Belgeler\\GitHub\\CMPE_460\\Week05-Lab\\activations.py:7\u001b[0m, in \u001b[0;36mActivation.__call__\u001b[1;34m(self, x, derivative)\u001b[0m\n\u001b[0;32m      5\u001b[0m \u001b[39mdef\u001b[39;00m \u001b[39m__call__\u001b[39m(\u001b[39mself\u001b[39m, x: np\u001b[39m.\u001b[39mndarray, derivative: \u001b[39mbool\u001b[39m \u001b[39m=\u001b[39m \u001b[39mFalse\u001b[39;00m) \u001b[39m-\u001b[39m\u001b[39m>\u001b[39m np\u001b[39m.\u001b[39mndarray:\n\u001b[0;32m      6\u001b[0m     \u001b[39mif\u001b[39;00m \u001b[39mnot\u001b[39;00m derivative:\n\u001b[1;32m----> 7\u001b[0m         \u001b[39mreturn\u001b[39;00m \u001b[39mself\u001b[39;49m\u001b[39m.\u001b[39;49m_normal(x)\n\u001b[0;32m      8\u001b[0m     \u001b[39melse\u001b[39;00m:\n\u001b[0;32m      9\u001b[0m         \u001b[39mreturn\u001b[39;00m \u001b[39mself\u001b[39m\u001b[39m.\u001b[39m_derivate(x)\n",
      "File \u001b[1;32mc:\\Users\\Asus\\OneDrive\\Belgeler\\GitHub\\CMPE_460\\Week05-Lab\\activations.py:56\u001b[0m, in \u001b[0;36mLeakyReLU._normal\u001b[1;34m(x)\u001b[0m\n\u001b[0;32m     54\u001b[0m \u001b[39m@staticmethod\u001b[39m\n\u001b[0;32m     55\u001b[0m \u001b[39mdef\u001b[39;00m \u001b[39m_normal\u001b[39m(x):\n\u001b[1;32m---> 56\u001b[0m     \u001b[39mreturn\u001b[39;00m x\u001b[39m*\u001b[39m\u001b[39m0.01\u001b[39m \u001b[39mif\u001b[39;00m x \u001b[39m<\u001b[39;49m \u001b[39m0\u001b[39;49m \u001b[39melse\u001b[39;00m x\n",
      "\u001b[1;31mValueError\u001b[0m: The truth value of an array with more than one element is ambiguous. Use a.any() or a.all()"
     ]
    }
   ],
   "source": [
    "# LeakyReLU\n",
    "net = Network()\n",
    "\n",
    "net.add(FCLayer(7, 10))\n",
    "net.add(ActivationLayer(LeakyReLU()))\n",
    "net.add(FCLayer(10, 20))\n",
    "net.add(ActivationLayer(LeakyReLU()))\n",
    "net.add(FCLayer(20, 50))\n",
    "net.add(ActivationLayer(LeakyReLU()))\n",
    "net.add(FCLayer(50, 20))\n",
    "net.add(ActivationLayer(LeakyReLU()))\n",
    "net.add(FCLayer(20, 10))\n",
    "net.add(ActivationLayer(LeakyReLU()))\n",
    "net.add(FCLayer(10, 1))\n",
    "net.add(ActivationLayer(LeakyReLU()))\n",
    "\n",
    "net.use(MSE())\n",
    "net.fit(X_train, y_train, epochs=500, learning_rate=0.001)"
   ]
  },
  {
   "cell_type": "code",
   "execution_count": null,
   "metadata": {},
   "outputs": [],
   "source": [
    "import matplotlib.pyplot as plt\n",
    "\n",
    "plt.plot(range(500), net.err_log)\n",
    "plt.grid(True)\n",
    "plt.title(\"Training Loss\")\n",
    "plt.xlabel(\"Epochs\")\n",
    "plt.ylabel(\"Loss\")"
   ]
  },
  {
   "cell_type": "code",
   "execution_count": null,
   "metadata": {},
   "outputs": [],
   "source": [
    "# How would this threshold change if you use sigmoid in the last layer?\n",
    "threshold = 0\n",
    "\n",
    "y_pred = net.predict(X_test)\n",
    "y_pred = [1 if p[0][0] >= threshold else 0 for p in y_pred]\n",
    "y_true = [1 if p[0][0] >= threshold else 0 for p in y_test]\n",
    "print(confusion_matrix(y_true, y_pred))\n",
    "ConfusionMatrixDisplay.from_predictions(y_true, y_pred)"
   ]
  },
  {
   "cell_type": "code",
   "execution_count": null,
   "metadata": {},
   "outputs": [],
   "source": [
    "print(classification_report(y_pred, y_true, zero_division=0))"
   ]
  },
  {
   "cell_type": "code",
   "execution_count": null,
   "metadata": {},
   "outputs": [],
   "source": [
    "assert my_accuracy(y_true, y_pred) == accuracy_score(y_true, y_pred)\n",
    "assert my_recall(y_true, y_pred) == recall_score(y_true, y_pred, average='binary')\n",
    "assert my_precision(y_true, y_pred) == precision_score(y_true, y_pred, average='binary')\n",
    "assert all(my_confusion_matrix(y_true, y_pred) == my_confusion_matrix(y_true, y_pred))"
   ]
  },
  {
   "cell_type": "markdown",
   "metadata": {},
   "source": [
    "# Finally, \n",
    "    * a\n",
    "    * b\n",
    "    * c"
   ]
  },
  {
   "cell_type": "code",
   "execution_count": null,
   "metadata": {},
   "outputs": [],
   "source": []
  }
 ],
 "metadata": {
  "kernelspec": {
   "display_name": "Python 3.8.8 64-bit",
   "language": "python",
   "name": "python3"
  },
  "language_info": {
   "codemirror_mode": {
    "name": "ipython",
    "version": 3
   },
   "file_extension": ".py",
   "mimetype": "text/x-python",
   "name": "python",
   "nbconvert_exporter": "python",
   "pygments_lexer": "ipython3",
   "version": "3.8.8"
  },
  "orig_nbformat": 4,
  "vscode": {
   "interpreter": {
    "hash": "25d775a05cd5ef828ac55111e2d25fe7a8cdee116904ae28746ef0f2500c8ec5"
   }
  }
 },
 "nbformat": 4,
 "nbformat_minor": 2
}
