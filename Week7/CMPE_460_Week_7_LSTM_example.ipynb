{
  "cells": [
    {
      "cell_type": "markdown",
      "metadata": {
        "id": "ESeeJ2tRBN84"
      },
      "source": [
        "# Stock Price Prediction"
      ]
    },
    {
      "cell_type": "markdown",
      "metadata": {
        "id": "tEMqgpElBN87"
      },
      "source": [
        "Create a LSTM model to predict the \"Close\" stock price of Apple Inc using past 60 days data"
      ]
    },
    {
      "cell_type": "code",
      "execution_count": 1,
      "metadata": {
        "id": "jNfFl4Z5BN87"
      },
      "outputs": [],
      "source": [
        "import pandas as pd\n",
        "import matplotlib.pyplot as plt\n",
        "from sklearn.preprocessing import MinMaxScaler\n",
        "import numpy as np\n",
        "import tensorflow as tf\n",
        "from tensorflow.keras.models import Sequential\n",
        "from tensorflow.keras.layers import Dense, LSTM\n",
        "import math\n",
        " \n",
        "plt.style.use('fivethirtyeight')"
      ]
    },
    {
      "cell_type": "code",
      "execution_count": 2,
      "metadata": {
        "colab": {
          "base_uri": "https://localhost:8080/",
          "height": 534
        },
        "id": "dJTL3RMUBVAg",
        "outputId": "761b5c93-0231-4f60-f47d-9b27d3ea5692"
      },
      "outputs": [
        {
          "name": "stdout",
          "output_type": "stream",
          "text": [
            "Collecting yfinance"
          ]
        },
        {
          "name": "stderr",
          "output_type": "stream",
          "text": [
            "ERROR: pip's dependency resolver does not currently take into account all the packages that are installed. This behaviour is the source of the following dependency conflicts.\n",
            "conda-repo-cli 1.0.20 requires clyent==1.2.1, but you have clyent 1.2.2 which is incompatible.\n",
            "conda-repo-cli 1.0.20 requires nbformat==5.4.0, but you have nbformat 5.5.0 which is incompatible.\n"
          ]
        },
        {
          "name": "stdout",
          "output_type": "stream",
          "text": [
            "\n",
            "  Downloading yfinance-0.2.3-py2.py3-none-any.whl (50 kB)\n",
            "     -------------------------------------- 50.4/50.4 kB 854.9 kB/s eta 0:00:00\n",
            "Collecting pytz>=2022.5\n",
            "  Downloading pytz-2022.7-py2.py3-none-any.whl (499 kB)\n",
            "     -------------------------------------- 499.4/499.4 kB 3.1 MB/s eta 0:00:00\n",
            "Requirement already satisfied: requests>=2.26 in c:\\users\\mete\\anaconda3\\lib\\site-packages (from yfinance) (2.28.1)\n",
            "Collecting frozendict>=2.3.4\n",
            "  Downloading frozendict-2.3.4-cp39-cp39-win_amd64.whl (35 kB)\n",
            "Requirement already satisfied: pandas>=1.3.0 in c:\\users\\mete\\anaconda3\\lib\\site-packages (from yfinance) (1.4.4)\n",
            "Requirement already satisfied: beautifulsoup4>=4.11.1 in c:\\users\\mete\\anaconda3\\lib\\site-packages (from yfinance) (4.11.1)\n",
            "Collecting html5lib>=1.1\n",
            "  Downloading html5lib-1.1-py2.py3-none-any.whl (112 kB)\n",
            "     -------------------------------------- 112.2/112.2 kB 6.8 MB/s eta 0:00:00\n",
            "Requirement already satisfied: numpy>=1.16.5 in c:\\users\\mete\\anaconda3\\lib\\site-packages (from yfinance) (1.21.5)\n",
            "Requirement already satisfied: cryptography>=3.3.2 in c:\\users\\mete\\anaconda3\\lib\\site-packages (from yfinance) (37.0.1)\n",
            "Requirement already satisfied: lxml>=4.9.1 in c:\\users\\mete\\anaconda3\\lib\\site-packages (from yfinance) (4.9.1)\n",
            "Requirement already satisfied: appdirs>=1.4.4 in c:\\users\\mete\\anaconda3\\lib\\site-packages (from yfinance) (1.4.4)\n",
            "Collecting multitasking>=0.0.7\n",
            "  Downloading multitasking-0.0.11-py3-none-any.whl (8.5 kB)\n",
            "Requirement already satisfied: soupsieve>1.2 in c:\\users\\mete\\anaconda3\\lib\\site-packages (from beautifulsoup4>=4.11.1->yfinance) (2.3.1)\n",
            "Requirement already satisfied: cffi>=1.12 in c:\\users\\mete\\anaconda3\\lib\\site-packages (from cryptography>=3.3.2->yfinance) (1.15.1)\n",
            "Requirement already satisfied: webencodings in c:\\users\\mete\\anaconda3\\lib\\site-packages (from html5lib>=1.1->yfinance) (0.5.1)\n",
            "Requirement already satisfied: six>=1.9 in c:\\users\\mete\\anaconda3\\lib\\site-packages (from html5lib>=1.1->yfinance) (1.16.0)\n",
            "Requirement already satisfied: python-dateutil>=2.8.1 in c:\\users\\mete\\anaconda3\\lib\\site-packages (from pandas>=1.3.0->yfinance) (2.8.2)\n",
            "Requirement already satisfied: certifi>=2017.4.17 in c:\\users\\mete\\anaconda3\\lib\\site-packages (from requests>=2.26->yfinance) (2022.9.24)\n",
            "Requirement already satisfied: idna<4,>=2.5 in c:\\users\\mete\\anaconda3\\lib\\site-packages (from requests>=2.26->yfinance) (3.3)\n",
            "Requirement already satisfied: charset-normalizer<3,>=2 in c:\\users\\mete\\anaconda3\\lib\\site-packages (from requests>=2.26->yfinance) (2.0.4)\n",
            "Requirement already satisfied: urllib3<1.27,>=1.21.1 in c:\\users\\mete\\anaconda3\\lib\\site-packages (from requests>=2.26->yfinance) (1.26.11)\n",
            "Requirement already satisfied: pycparser in c:\\users\\mete\\anaconda3\\lib\\site-packages (from cffi>=1.12->cryptography>=3.3.2->yfinance) (2.21)\n",
            "Installing collected packages: pytz, multitasking, html5lib, frozendict, yfinance\n",
            "  Attempting uninstall: pytz\n",
            "    Found existing installation: pytz 2022.1\n",
            "    Uninstalling pytz-2022.1:\n",
            "      Successfully uninstalled pytz-2022.1\n",
            "Successfully installed frozendict-2.3.4 html5lib-1.1 multitasking-0.0.11 pytz-2022.7 yfinance-0.2.3\n"
          ]
        }
      ],
      "source": [
        "!pip install yfinance"
      ]
    },
    {
      "cell_type": "markdown",
      "metadata": {
        "id": "_C7ZJkJeBN88"
      },
      "source": [
        "# Import Data\n",
        "- Get the stock quote using Yahoo Finance API\n",
        "- Data from 2015 to Jan 1st, 2021"
      ]
    },
    {
      "cell_type": "code",
      "execution_count": 3,
      "metadata": {
        "colab": {
          "base_uri": "https://localhost:8080/",
          "height": 255
        },
        "id": "zJ09jN38BN89",
        "outputId": "9a1f1e28-d871-45b6-8ae5-72b773f4f36b",
        "scrolled": false
      },
      "outputs": [
        {
          "name": "stdout",
          "output_type": "stream",
          "text": [
            "[*********************100%***********************]  1 of 1 completed\n"
          ]
        },
        {
          "data": {
            "text/html": [
              "<div>\n",
              "<style scoped>\n",
              "    .dataframe tbody tr th:only-of-type {\n",
              "        vertical-align: middle;\n",
              "    }\n",
              "\n",
              "    .dataframe tbody tr th {\n",
              "        vertical-align: top;\n",
              "    }\n",
              "\n",
              "    .dataframe thead th {\n",
              "        text-align: right;\n",
              "    }\n",
              "</style>\n",
              "<table border=\"1\" class=\"dataframe\">\n",
              "  <thead>\n",
              "    <tr style=\"text-align: right;\">\n",
              "      <th></th>\n",
              "      <th>Open</th>\n",
              "      <th>High</th>\n",
              "      <th>Low</th>\n",
              "      <th>Close</th>\n",
              "      <th>Adj Close</th>\n",
              "      <th>Volume</th>\n",
              "    </tr>\n",
              "    <tr>\n",
              "      <th>Date</th>\n",
              "      <th></th>\n",
              "      <th></th>\n",
              "      <th></th>\n",
              "      <th></th>\n",
              "      <th></th>\n",
              "      <th></th>\n",
              "    </tr>\n",
              "  </thead>\n",
              "  <tbody>\n",
              "    <tr>\n",
              "      <th>2015-01-02</th>\n",
              "      <td>27.847500</td>\n",
              "      <td>27.860001</td>\n",
              "      <td>26.837500</td>\n",
              "      <td>27.332500</td>\n",
              "      <td>24.603207</td>\n",
              "      <td>212818400</td>\n",
              "    </tr>\n",
              "    <tr>\n",
              "      <th>2015-01-05</th>\n",
              "      <td>27.072500</td>\n",
              "      <td>27.162500</td>\n",
              "      <td>26.352501</td>\n",
              "      <td>26.562500</td>\n",
              "      <td>23.910089</td>\n",
              "      <td>257142000</td>\n",
              "    </tr>\n",
              "    <tr>\n",
              "      <th>2015-01-06</th>\n",
              "      <td>26.635000</td>\n",
              "      <td>26.857500</td>\n",
              "      <td>26.157499</td>\n",
              "      <td>26.565001</td>\n",
              "      <td>23.912338</td>\n",
              "      <td>263188400</td>\n",
              "    </tr>\n",
              "    <tr>\n",
              "      <th>2015-01-07</th>\n",
              "      <td>26.799999</td>\n",
              "      <td>27.049999</td>\n",
              "      <td>26.674999</td>\n",
              "      <td>26.937500</td>\n",
              "      <td>24.247648</td>\n",
              "      <td>160423600</td>\n",
              "    </tr>\n",
              "    <tr>\n",
              "      <th>2015-01-08</th>\n",
              "      <td>27.307501</td>\n",
              "      <td>28.037500</td>\n",
              "      <td>27.174999</td>\n",
              "      <td>27.972500</td>\n",
              "      <td>25.179295</td>\n",
              "      <td>237458000</td>\n",
              "    </tr>\n",
              "  </tbody>\n",
              "</table>\n",
              "</div>"
            ],
            "text/plain": [
              "                 Open       High        Low      Close  Adj Close     Volume\n",
              "Date                                                                        \n",
              "2015-01-02  27.847500  27.860001  26.837500  27.332500  24.603207  212818400\n",
              "2015-01-05  27.072500  27.162500  26.352501  26.562500  23.910089  257142000\n",
              "2015-01-06  26.635000  26.857500  26.157499  26.565001  23.912338  263188400\n",
              "2015-01-07  26.799999  27.049999  26.674999  26.937500  24.247648  160423600\n",
              "2015-01-08  27.307501  28.037500  27.174999  27.972500  25.179295  237458000"
            ]
          },
          "execution_count": 3,
          "metadata": {},
          "output_type": "execute_result"
        }
      ],
      "source": [
        "import yfinance as yf\n",
        "import datetime\n",
        "\n",
        "tickers_list= ['AAPL']\n",
        "df = yf.download(tickers_list,threads= False,start=datetime.datetime(2015,1,1),\n",
        "                                end=datetime.datetime(2021,1,1))\n",
        "\n",
        "df.head()"
      ]
    },
    {
      "cell_type": "markdown",
      "metadata": {
        "id": "ZdaJvA4LBN8-"
      },
      "source": [
        "- Open: Starting price \n",
        "- Close: Final price\n",
        "- High: Highest price that day\n",
        "- Low: Highest price that day"
      ]
    },
    {
      "cell_type": "code",
      "execution_count": 4,
      "metadata": {
        "colab": {
          "base_uri": "https://localhost:8080/"
        },
        "id": "85i_GtFeBN8-",
        "outputId": "cc808cc9-1a82-444b-f99a-a1d34b7a90b4",
        "scrolled": true
      },
      "outputs": [
        {
          "data": {
            "text/plain": [
              "(1511, 6)"
            ]
          },
          "execution_count": 4,
          "metadata": {},
          "output_type": "execute_result"
        }
      ],
      "source": [
        "df.shape"
      ]
    },
    {
      "cell_type": "markdown",
      "metadata": {
        "id": "NXnaEHGnBN8_"
      },
      "source": [
        "# Visual Insight\n",
        "Trend of closing price per the years"
      ]
    },
    {
      "cell_type": "code",
      "execution_count": 5,
      "metadata": {
        "colab": {
          "base_uri": "https://localhost:8080/",
          "height": 303
        },
        "id": "oovKTFQ1BN8_",
        "outputId": "9f1a1a33-59e1-4e4f-c2c7-2d523375fe3b"
      },
      "outputs": [
        {
          "data": {
            "image/png": "[encoded data removed]",
            "text/plain": [
              "<Figure size 1000x400 with 1 Axes>"
            ]
          },
          "metadata": {},
          "output_type": "display_data"
        }
      ],
      "source": [
        "df['Close'].plot(figsize=(10,4), legend=True)\n",
        "plt.legend('Close Price @Apple')\n",
        "plt.title('Close Price History')\n",
        "plt.xlabel('Date')\n",
        "plt.ylabel('Close Price ($)')\n",
        "plt.show()"
      ]
    },
    {
      "cell_type": "markdown",
      "metadata": {
        "id": "UZSvXACNBN9A"
      },
      "source": [
        "Let's predict the close price. Hence, use the Close column only."
      ]
    },
    {
      "cell_type": "code",
      "execution_count": 6,
      "metadata": {
        "id": "37dPbAY5BN9A"
      },
      "outputs": [],
      "source": [
        "df = df[['Close']]\n",
        "df_array = df.values"
      ]
    },
    {
      "cell_type": "code",
      "execution_count": 7,
      "metadata": {
        "colab": {
          "base_uri": "https://localhost:8080/"
        },
        "id": "FjqRqZhBBN9A",
        "outputId": "7695292a-7e9a-4f93-b2c8-0a0cd611d6c6"
      },
      "outputs": [
        {
          "data": {
            "text/plain": [
              "1209"
            ]
          },
          "execution_count": 7,
          "metadata": {},
          "output_type": "execute_result"
        }
      ],
      "source": [
        "train_data_len = math.ceil(len(df)*0.8)\n",
        "train_data_len"
      ]
    },
    {
      "cell_type": "markdown",
      "metadata": {
        "id": "k7iEB_6tBN9B"
      },
      "source": [
        "## Scale the train data"
      ]
    },
    {
      "cell_type": "code",
      "execution_count": 8,
      "metadata": {
        "colab": {
          "base_uri": "https://localhost:8080/"
        },
        "id": "xDtOcP8bBN9C",
        "outputId": "fc1b9d5f-dd3d-4fd6-cd92-02636ad3f143"
      },
      "outputs": [
        {
          "data": {
            "text/plain": [
              "array([[0.04160643],\n",
              "       [0.03485825],\n",
              "       [0.03488017],\n",
              "       ...,\n",
              "       [0.98404971],\n",
              "       [0.97397133],\n",
              "       [0.96494457]])"
            ]
          },
          "execution_count": 8,
          "metadata": {},
          "output_type": "execute_result"
        }
      ],
      "source": [
        "sc = MinMaxScaler()\n",
        "#train_scaled = sc.fit_transform(train_data)\n",
        "scaled = sc.fit_transform(df)\n",
        "scaled"
      ]
    },
    {
      "cell_type": "markdown",
      "metadata": {
        "id": "HL-GkHfvBN9E"
      },
      "source": [
        "# Prepare Training Data with the past 60 days\n",
        "- xtrain: 1st indexed array has index values from 0-59, 2nd has 1-60 and so on..\n",
        "- ytrain: 1st value would be 61st value(prediction of next day) and so one"
      ]
    },
    {
      "cell_type": "code",
      "execution_count": 9,
      "metadata": {
        "id": "O8_iByCYBN9E",
        "scrolled": true
      },
      "outputs": [],
      "source": [
        "xtrain, ytrain = [], []\n",
        "for i in range(60, len(scaled)):\n",
        "    #contain 60 values from pos 1 - 59. \n",
        "    xtrain.append(scaled[i-60:i])\n",
        "    #at poition 60\n",
        "    ytrain.append(scaled[i])"
      ]
    },
    {
      "cell_type": "markdown",
      "metadata": {
        "id": "qMzfrtkLqlYP"
      },
      "source": [
        "### Last 5 values of input vs to be predicted outputs\n",
        "\n",
        "#### First data point (xtrain[0])"
      ]
    },
    {
      "cell_type": "code",
      "execution_count": 10,
      "metadata": {
        "colab": {
          "base_uri": "https://localhost:8080/"
        },
        "id": "E3b_9jMnp2AZ",
        "outputId": "164376d6-1bf0-4674-fc38-f7bf53862396"
      },
      "outputs": [
        {
          "data": {
            "text/plain": [
              "(array([[0.07964157],\n",
              "        [0.07238947],\n",
              "        [0.0742737 ],\n",
              "        [0.07210465],\n",
              "        [0.07894046]]),\n",
              " array([0.07468999]))"
            ]
          },
          "execution_count": 10,
          "metadata": {},
          "output_type": "execute_result"
        }
      ],
      "source": [
        "xtrain[0][-5:],ytrain[0]"
      ]
    },
    {
      "cell_type": "markdown",
      "metadata": {
        "id": "qAsHXN3mq5j3"
      },
      "source": [
        "#### Second data point (xtrain[1])"
      ]
    },
    {
      "cell_type": "code",
      "execution_count": 11,
      "metadata": {
        "colab": {
          "base_uri": "https://localhost:8080/"
        },
        "id": "DuaYosduBN9F",
        "outputId": "ee269c3d-5c33-47f4-dc85-dec7b77b1772"
      },
      "outputs": [
        {
          "data": {
            "text/plain": [
              "(array([[0.07238947],\n",
              "        [0.0742737 ],\n",
              "        [0.07210465],\n",
              "        [0.07894046],\n",
              "        [0.07468999]]),\n",
              " array([0.07429561]))"
            ]
          },
          "execution_count": 11,
          "metadata": {},
          "output_type": "execute_result"
        }
      ],
      "source": [
        "xtrain[1][-5:],ytrain[1]"
      ]
    },
    {
      "cell_type": "markdown",
      "metadata": {
        "id": "jhjl7UCZBN9H"
      },
      "source": [
        "Convert list into arrays to be usedin LSTM model"
      ]
    },
    {
      "cell_type": "code",
      "execution_count": 12,
      "metadata": {
        "id": "7kiIhja0BN9H"
      },
      "outputs": [],
      "source": [
        "xtrain, ytrain = np.array(xtrain), np.array(ytrain)"
      ]
    },
    {
      "cell_type": "markdown",
      "metadata": {
        "id": "cu116_yCBN9H"
      },
      "source": [
        "LSTM data should be in specific shape as (samples(rows), step(cols), features)"
      ]
    },
    {
      "cell_type": "code",
      "execution_count": 13,
      "metadata": {
        "colab": {
          "base_uri": "https://localhost:8080/"
        },
        "id": "SmjVAjjcBN9I",
        "outputId": "70693625-6274-481b-a531-43efd037d3e9"
      },
      "outputs": [
        {
          "data": {
            "text/plain": [
              "(1451, 60, 1)"
            ]
          },
          "execution_count": 13,
          "metadata": {},
          "output_type": "execute_result"
        }
      ],
      "source": [
        "np.shape(xtrain)"
      ]
    },
    {
      "cell_type": "markdown",
      "metadata": {
        "id": "_FEY9_TiBN9I"
      },
      "source": [
        "# Model Building"
      ]
    },
    {
      "cell_type": "code",
      "execution_count": 14,
      "metadata": {
        "id": "Td8rOpr7BN9I"
      },
      "outputs": [],
      "source": [
        "regressor_model = Sequential()\n",
        "# Adding the first LSTM layer\n",
        "regressor_model.add(LSTM(units=50, return_sequences=True, input_shape = (np.shape(xtrain)[1],np.shape(xtrain)[2])))\n",
        "# Adding a second LSTM layer\n",
        "regressor_model.add(LSTM(units=50, return_sequences=True))\n",
        "regressor_model.add(LSTM(units=50, return_sequences=False))\n",
        "\n",
        "regressor_model.add(Dense(units=1))"
      ]
    },
    {
      "cell_type": "code",
      "execution_count": 15,
      "metadata": {
        "id": "SD5PHrIyBN9J"
      },
      "outputs": [],
      "source": [
        "regressor_model.compile(optimizer='adam', metrics=['accuracy'], loss='mean_squared_error')"
      ]
    },
    {
      "cell_type": "code",
      "execution_count": 16,
      "metadata": {
        "colab": {
          "base_uri": "https://localhost:8080/"
        },
        "id": "_qY54zEqBN9J",
        "outputId": "a93c8f90-d714-4375-dcd9-65f128caaf8f",
        "scrolled": true
      },
      "outputs": [
        {
          "name": "stdout",
          "output_type": "stream",
          "text": [
            "Model: \"sequential\"\n",
            "_________________________________________________________________\n",
            " Layer (type)                Output Shape              Param #   \n",
            "=================================================================\n",
            " lstm (LSTM)                 (None, 60, 50)            10400     \n",
            "                                                                 \n",
            " lstm_1 (LSTM)               (None, 60, 50)            20200     \n",
            "                                                                 \n",
            " lstm_2 (LSTM)               (None, 50)                20200     \n",
            "                                                                 \n",
            " dense (Dense)               (None, 1)                 51        \n",
            "                                                                 \n",
            "=================================================================\n",
            "Total params: 50,851\n",
            "Trainable params: 50,851\n",
            "Non-trainable params: 0\n",
            "_________________________________________________________________\n"
          ]
        }
      ],
      "source": [
        "regressor_model.summary()"
      ]
    },
    {
      "cell_type": "markdown",
      "metadata": {
        "id": "BmCKWft9rJZK"
      },
      "source": [
        "### Train the LSTM model"
      ]
    },
    {
      "cell_type": "code",
      "execution_count": 17,
      "metadata": {
        "colab": {
          "base_uri": "https://localhost:8080/"
        },
        "id": "Q7ddmXoYBN9J",
        "outputId": "05f25afe-766a-4e36-e096-ddb969af8c75",
        "scrolled": true
      },
      "outputs": [
        {
          "name": "stdout",
          "output_type": "stream",
          "text": [
            "Epoch 1/15\n",
            "46/46 [==============================] - 8s 51ms/step - loss: 0.0102 - accuracy: 0.0014\n",
            "Epoch 2/15\n",
            "46/46 [==============================] - 2s 51ms/step - loss: 8.7693e-04 - accuracy: 0.0014\n",
            "Epoch 3/15\n",
            "46/46 [==============================] - 2s 50ms/step - loss: 9.3598e-04 - accuracy: 0.0014\n",
            "Epoch 4/15\n",
            "46/46 [==============================] - 2s 52ms/step - loss: 7.6735e-04 - accuracy: 0.0014\n",
            "Epoch 5/15\n",
            "46/46 [==============================] - 2s 52ms/step - loss: 7.4981e-04 - accuracy: 0.0014\n",
            "Epoch 6/15\n",
            "46/46 [==============================] - 2s 52ms/step - loss: 8.5431e-04 - accuracy: 0.0014\n",
            "Epoch 7/15\n",
            "46/46 [==============================] - 2s 52ms/step - loss: 6.4847e-04 - accuracy: 0.0014\n",
            "Epoch 8/15\n",
            "46/46 [==============================] - 3s 55ms/step - loss: 6.0493e-04 - accuracy: 0.0014\n",
            "Epoch 9/15\n",
            "46/46 [==============================] - 2s 54ms/step - loss: 5.6705e-04 - accuracy: 0.0014\n",
            "Epoch 10/15\n",
            "46/46 [==============================] - 2s 53ms/step - loss: 5.5597e-04 - accuracy: 0.0014\n",
            "Epoch 11/15\n",
            "46/46 [==============================] - 3s 56ms/step - loss: 5.5539e-04 - accuracy: 0.0014\n",
            "Epoch 12/15\n",
            "46/46 [==============================] - 3s 56ms/step - loss: 5.0312e-04 - accuracy: 0.0014\n",
            "Epoch 13/15\n",
            "46/46 [==============================] - 2s 54ms/step - loss: 5.7115e-04 - accuracy: 0.0014\n",
            "Epoch 14/15\n",
            "46/46 [==============================] - 2s 53ms/step - loss: 4.1623e-04 - accuracy: 0.0014\n",
            "Epoch 15/15\n",
            "46/46 [==============================] - 3s 57ms/step - loss: 4.1859e-04 - accuracy: 0.0014\n"
          ]
        },
        {
          "data": {
            "text/plain": [
              "<keras.callbacks.History at 0x19c9bb4ab20>"
            ]
          },
          "execution_count": 17,
          "metadata": {},
          "output_type": "execute_result"
        }
      ],
      "source": [
        "regressor_model.fit(xtrain, ytrain, epochs=15, batch_size=32)"
      ]
    },
    {
      "cell_type": "markdown",
      "metadata": {
        "id": "3Y0FeH0xBN9J"
      },
      "source": [
        "# Prepare Test Data\n",
        "Take the index direct after the train_data index. Since 60 days data is considered, hence, 1st index of xtest should be 60 past days and ytest be its 61st value"
      ]
    },
    {
      "cell_type": "code",
      "execution_count": 18,
      "metadata": {
        "colab": {
          "base_uri": "https://localhost:8080/"
        },
        "id": "Is4-zXWsBN9K",
        "outputId": "3727e194-492e-4b63-8928-7ae9219f0d0c"
      },
      "outputs": [
        {
          "data": {
            "text/plain": [
              "1209"
            ]
          },
          "execution_count": 18,
          "metadata": {},
          "output_type": "execute_result"
        }
      ],
      "source": [
        "train_data_len"
      ]
    },
    {
      "cell_type": "code",
      "execution_count": 19,
      "metadata": {
        "id": "vD3pi352BN9K"
      },
      "outputs": [],
      "source": [
        "test_data = scaled[train_data_len - 60:, :]\n",
        "xtest = []\n",
        "ytest = df_array[train_data_len: , :]\n",
        "for i in range(60, len(test_data)):\n",
        "    xtest.append(test_data[i-60:i, 0])"
      ]
    },
    {
      "cell_type": "code",
      "execution_count": 20,
      "metadata": {
        "id": "w4lxJyzvBN9K"
      },
      "outputs": [],
      "source": [
        "xtest = np.array(xtest)"
      ]
    },
    {
      "cell_type": "code",
      "execution_count": 21,
      "metadata": {
        "colab": {
          "base_uri": "https://localhost:8080/"
        },
        "id": "fVmLhrmjBN9L",
        "outputId": "316a44d2-cde2-4712-9d62-defdd3b59d1c"
      },
      "outputs": [
        {
          "data": {
            "text/plain": [
              "(302, 60)"
            ]
          },
          "execution_count": 21,
          "metadata": {},
          "output_type": "execute_result"
        }
      ],
      "source": [
        "xtest.shape"
      ]
    },
    {
      "cell_type": "markdown",
      "metadata": {
        "id": "o8c5GNeABN9L"
      },
      "source": [
        "LSTM data should be in specific shape as (samples(rows), step(cols), features)"
      ]
    },
    {
      "cell_type": "code",
      "execution_count": 22,
      "metadata": {
        "id": "fEuA2RFnBN9L",
        "scrolled": true
      },
      "outputs": [],
      "source": [
        "xtest = np.reshape(xtest, (xtest.shape[0], xtest.shape[1],1))"
      ]
    },
    {
      "cell_type": "code",
      "execution_count": 23,
      "metadata": {
        "colab": {
          "base_uri": "https://localhost:8080/"
        },
        "id": "hS-Ud-W0BN9L",
        "outputId": "3bf1fc31-3597-4bfa-d65c-046539bac8b3"
      },
      "outputs": [
        {
          "data": {
            "text/plain": [
              "(302, 60, 1)"
            ]
          },
          "execution_count": 23,
          "metadata": {},
          "output_type": "execute_result"
        }
      ],
      "source": [
        "xtest.shape"
      ]
    },
    {
      "cell_type": "markdown",
      "metadata": {
        "id": "dWhSINZvBN9L"
      },
      "source": [
        "# Model Predictions"
      ]
    },
    {
      "cell_type": "code",
      "execution_count": 24,
      "metadata": {
        "colab": {
          "base_uri": "https://localhost:8080/"
        },
        "id": "N9Cl4TscBN9L",
        "outputId": "42483495-a357-45c7-9d91-e4882f7147d3"
      },
      "outputs": [
        {
          "name": "stdout",
          "output_type": "stream",
          "text": [
            "10/10 [==============================] - 1s 16ms/step\n"
          ]
        }
      ],
      "source": [
        "predictions = regressor_model.predict(xtest)"
      ]
    },
    {
      "cell_type": "code",
      "execution_count": 25,
      "metadata": {
        "id": "MRVN4k6HBN9M"
      },
      "outputs": [],
      "source": [
        "predictions = sc.inverse_transform(predictions)"
      ]
    },
    {
      "cell_type": "code",
      "execution_count": 26,
      "metadata": {
        "colab": {
          "base_uri": "https://localhost:8080/"
        },
        "id": "SNbiZUYtBN9M",
        "outputId": "0c8c41e7-72cc-4937-8a26-82fdf5d93982"
      },
      "outputs": [
        {
          "data": {
            "text/plain": [
              "array([[ 60.132725],\n",
              "       [ 60.493156],\n",
              "       [ 60.852814],\n",
              "       [ 61.21093 ],\n",
              "       [ 61.582058],\n",
              "       [ 61.979317],\n",
              "       [ 62.341766],\n",
              "       [ 62.637516],\n",
              "       [ 62.899395],\n",
              "       [ 63.197994],\n",
              "       [ 63.563007],\n",
              "       [ 63.983395],\n",
              "       [ 64.43338 ],\n",
              "       [ 64.90095 ],\n",
              "       [ 65.36769 ],\n",
              "       [ 65.82822 ],\n",
              "       [ 66.26313 ],\n",
              "       [ 66.67622 ],\n",
              "       [ 67.04165 ],\n",
              "       [ 67.37236 ],\n",
              "       [ 67.67913 ],\n",
              "       [ 67.95296 ],\n",
              "       [ 68.15857 ],\n",
              "       [ 68.27458 ],\n",
              "       [ 68.29941 ],\n",
              "       [ 68.28694 ],\n",
              "       [ 68.24656 ],\n",
              "       [ 68.221954],\n",
              "       [ 68.223724],\n",
              "       [ 68.2251  ],\n",
              "       [ 68.17285 ],\n",
              "       [ 68.07541 ],\n",
              "       [ 67.97925 ],\n",
              "       [ 67.952835],\n",
              "       [ 67.981125],\n",
              "       [ 68.064964],\n",
              "       [ 68.2127  ],\n",
              "       [ 68.418365],\n",
              "       [ 68.69698 ],\n",
              "       [ 69.0761  ],\n",
              "       [ 69.54347 ],\n",
              "       [ 70.05899 ],\n",
              "       [ 70.58315 ],\n",
              "       [ 71.07375 ],\n",
              "       [ 71.54328 ],\n",
              "       [ 71.98506 ],\n",
              "       [ 72.43911 ],\n",
              "       [ 72.90249 ],\n",
              "       [ 73.37396 ],\n",
              "       [ 73.85481 ],\n",
              "       [ 74.38985 ],\n",
              "       [ 74.94082 ],\n",
              "       [ 75.49433 ],\n",
              "       [ 76.009186],\n",
              "       [ 76.50206 ],\n",
              "       [ 77.02524 ],\n",
              "       [ 77.58244 ],\n",
              "       [ 78.21573 ],\n",
              "       [ 78.86355 ],\n",
              "       [ 79.4638  ],\n",
              "       [ 80.0132  ],\n",
              "       [ 80.52969 ],\n",
              "       [ 80.98466 ],\n",
              "       [ 81.372475],\n",
              "       [ 81.701385],\n",
              "       [ 81.96229 ],\n",
              "       [ 82.06023 ],\n",
              "       [ 82.069664],\n",
              "       [ 82.09468 ],\n",
              "       [ 82.16918 ],\n",
              "       [ 82.15611 ],\n",
              "       [ 82.01215 ],\n",
              "       [ 81.84309 ],\n",
              "       [ 81.72242 ],\n",
              "       [ 81.71656 ],\n",
              "       [ 81.78326 ],\n",
              "       [ 81.90977 ],\n",
              "       [ 82.05463 ],\n",
              "       [ 82.268684],\n",
              "       [ 82.52617 ],\n",
              "       [ 82.80399 ],\n",
              "       [ 83.01917 ],\n",
              "       [ 83.188866],\n",
              "       [ 83.28406 ],\n",
              "       [ 83.23172 ],\n",
              "       [ 82.88294 ],\n",
              "       [ 82.144775],\n",
              "       [ 81.118095],\n",
              "       [ 79.73983 ],\n",
              "       [ 78.10523 ],\n",
              "       [ 76.595505],\n",
              "       [ 75.30012 ],\n",
              "       [ 74.4064  ],\n",
              "       [ 73.86016 ],\n",
              "       [ 73.571655],\n",
              "       [ 73.25509 ],\n",
              "       [ 72.99141 ],\n",
              "       [ 72.70858 ],\n",
              "       [ 72.14542 ],\n",
              "       [ 71.5423  ],\n",
              "       [ 70.684204],\n",
              "       [ 69.6704  ],\n",
              "       [ 68.53871 ],\n",
              "       [ 67.35106 ],\n",
              "       [ 66.047455],\n",
              "       [ 64.62896 ],\n",
              "       [ 63.354515],\n",
              "       [ 62.333782],\n",
              "       [ 61.72306 ],\n",
              "       [ 61.45161 ],\n",
              "       [ 61.510006],\n",
              "       [ 61.83216 ],\n",
              "       [ 62.222126],\n",
              "       [ 62.607952],\n",
              "       [ 62.91168 ],\n",
              "       [ 63.28626 ],\n",
              "       [ 63.74498 ],\n",
              "       [ 64.33046 ],\n",
              "       [ 65.03947 ],\n",
              "       [ 65.875946],\n",
              "       [ 66.91707 ],\n",
              "       [ 68.10426 ],\n",
              "       [ 69.37328 ],\n",
              "       [ 70.60261 ],\n",
              "       [ 71.64881 ],\n",
              "       [ 72.36235 ],\n",
              "       [ 72.77914 ],\n",
              "       [ 72.93225 ],\n",
              "       [ 72.94903 ],\n",
              "       [ 72.90504 ],\n",
              "       [ 72.80323 ],\n",
              "       [ 72.7445  ],\n",
              "       [ 72.81812 ],\n",
              "       [ 72.99271 ],\n",
              "       [ 73.27324 ],\n",
              "       [ 73.67273 ],\n",
              "       [ 74.19052 ],\n",
              "       [ 74.818054],\n",
              "       [ 75.57234 ],\n",
              "       [ 76.45902 ],\n",
              "       [ 77.39269 ],\n",
              "       [ 78.26204 ],\n",
              "       [ 79.017365],\n",
              "       [ 79.60812 ],\n",
              "       [ 80.0903  ],\n",
              "       [ 80.46635 ],\n",
              "       [ 80.80423 ],\n",
              "       [ 81.10028 ],\n",
              "       [ 81.371956],\n",
              "       [ 81.597275],\n",
              "       [ 81.78068 ],\n",
              "       [ 81.923645],\n",
              "       [ 82.02443 ],\n",
              "       [ 82.124306],\n",
              "       [ 82.24946 ],\n",
              "       [ 82.420105],\n",
              "       [ 82.60235 ],\n",
              "       [ 82.867355],\n",
              "       [ 83.23567 ],\n",
              "       [ 83.79297 ],\n",
              "       [ 84.61002 ],\n",
              "       [ 85.469055],\n",
              "       [ 86.2811  ],\n",
              "       [ 87.02177 ],\n",
              "       [ 87.75499 ],\n",
              "       [ 88.47168 ],\n",
              "       [ 89.14848 ],\n",
              "       [ 89.73593 ],\n",
              "       [ 90.30242 ],\n",
              "       [ 90.932   ],\n",
              "       [ 91.553474],\n",
              "       [ 92.17179 ],\n",
              "       [ 92.640205],\n",
              "       [ 92.99863 ],\n",
              "       [ 93.28995 ],\n",
              "       [ 93.52301 ],\n",
              "       [ 93.70373 ],\n",
              "       [ 93.94021 ],\n",
              "       [ 94.23843 ],\n",
              "       [ 94.67571 ],\n",
              "       [ 95.25465 ],\n",
              "       [ 95.93777 ],\n",
              "       [ 96.64517 ],\n",
              "       [ 97.38126 ],\n",
              "       [ 98.13643 ],\n",
              "       [ 98.81907 ],\n",
              "       [ 99.372025],\n",
              "       [ 99.860085],\n",
              "       [100.23288 ],\n",
              "       [100.49314 ],\n",
              "       [100.451355],\n",
              "       [100.088234],\n",
              "       [ 99.55732 ],\n",
              "       [ 98.893684],\n",
              "       [ 98.24807 ],\n",
              "       [ 97.748474],\n",
              "       [ 97.88359 ],\n",
              "       [ 98.832756],\n",
              "       [100.53727 ],\n",
              "       [102.80172 ],\n",
              "       [105.534775],\n",
              "       [108.36076 ],\n",
              "       [111.07673 ],\n",
              "       [113.3298  ],\n",
              "       [115.14277 ],\n",
              "       [116.59608 ],\n",
              "       [117.70979 ],\n",
              "       [118.490234],\n",
              "       [119.00895 ],\n",
              "       [119.31534 ],\n",
              "       [119.57304 ],\n",
              "       [120.12428 ],\n",
              "       [121.07246 ],\n",
              "       [122.29358 ],\n",
              "       [123.72266 ],\n",
              "       [125.14061 ],\n",
              "       [126.390396],\n",
              "       [127.587776],\n",
              "       [128.96393 ],\n",
              "       [130.34914 ],\n",
              "       [131.09782 ],\n",
              "       [131.09537 ],\n",
              "       [130.0039  ],\n",
              "       [128.21051 ],\n",
              "       [125.84901 ],\n",
              "       [123.13943 ],\n",
              "       [120.52338 ],\n",
              "       [118.26272 ],\n",
              "       [116.33909 ],\n",
              "       [114.706406],\n",
              "       [113.20748 ],\n",
              "       [111.990265],\n",
              "       [111.18033 ],\n",
              "       [110.57281 ],\n",
              "       [110.16001 ],\n",
              "       [110.10788 ],\n",
              "       [110.53742 ],\n",
              "       [111.35695 ],\n",
              "       [112.52422 ],\n",
              "       [113.955765],\n",
              "       [115.33089 ],\n",
              "       [116.65701 ],\n",
              "       [117.705986],\n",
              "       [118.50019 ],\n",
              "       [119.03966 ],\n",
              "       [119.443756],\n",
              "       [120.11671 ],\n",
              "       [120.947655],\n",
              "       [121.856575],\n",
              "       [122.72536 ],\n",
              "       [123.386925],\n",
              "       [123.63293 ],\n",
              "       [123.52696 ],\n",
              "       [123.113464],\n",
              "       [122.43054 ],\n",
              "       [121.54138 ],\n",
              "       [120.54845 ],\n",
              "       [119.628006],\n",
              "       [118.60753 ],\n",
              "       [117.70969 ],\n",
              "       [116.701965],\n",
              "       [115.58945 ],\n",
              "       [114.51385 ],\n",
              "       [113.77738 ],\n",
              "       [113.6504  ],\n",
              "       [114.11767 ],\n",
              "       [114.949715],\n",
              "       [115.951904],\n",
              "       [117.14089 ],\n",
              "       [118.407814],\n",
              "       [119.649086],\n",
              "       [120.824875],\n",
              "       [121.829384],\n",
              "       [122.5445  ],\n",
              "       [122.97696 ],\n",
              "       [123.08951 ],\n",
              "       [122.75338 ],\n",
              "       [122.092224],\n",
              "       [121.27022 ],\n",
              "       [120.43989 ],\n",
              "       [119.81708 ],\n",
              "       [119.64365 ],\n",
              "       [119.94676 ],\n",
              "       [120.63583 ],\n",
              "       [121.543365],\n",
              "       [122.59808 ],\n",
              "       [123.71807 ],\n",
              "       [124.6769  ],\n",
              "       [125.45646 ],\n",
              "       [125.9925  ],\n",
              "       [126.25282 ],\n",
              "       [126.56787 ],\n",
              "       [127.00606 ],\n",
              "       [127.605865],\n",
              "       [128.21875 ],\n",
              "       [128.84412 ],\n",
              "       [129.6192  ],\n",
              "       [130.46637 ],\n",
              "       [131.36174 ],\n",
              "       [132.47665 ],\n",
              "       [133.66428 ],\n",
              "       [134.75291 ]], dtype=float32)"
            ]
          },
          "execution_count": 26,
          "metadata": {},
          "output_type": "execute_result"
        }
      ],
      "source": [
        "predictions"
      ]
    },
    {
      "cell_type": "markdown",
      "metadata": {
        "id": "T1b7cQiEBN9M"
      },
      "source": [
        "# Model Evaluation"
      ]
    },
    {
      "cell_type": "code",
      "execution_count": 27,
      "metadata": {
        "colab": {
          "base_uri": "https://localhost:8080/"
        },
        "id": "uueDv4jABN9M",
        "outputId": "99caa89b-04b9-4a96-bed3-ca03ebfcfdd6"
      },
      "outputs": [
        {
          "data": {
            "text/plain": [
              "4.230461144658679"
            ]
          },
          "execution_count": 27,
          "metadata": {},
          "output_type": "execute_result"
        }
      ],
      "source": [
        "rmse = np.sqrt(np.mean((predictions - ytest)**2))\n",
        "rmse"
      ]
    },
    {
      "cell_type": "code",
      "execution_count": 28,
      "metadata": {
        "colab": {
          "base_uri": "https://localhost:8080/"
        },
        "id": "rf_UOf_9BN9M",
        "outputId": "560245bf-8985-4154-ea3b-d22c44ac1c6d"
      },
      "outputs": [
        {
          "name": "stderr",
          "output_type": "stream",
          "text": [
            "C:\\Users\\Mete\\AppData\\Local\\Temp\\ipykernel_17832\\2279303470.py:3: SettingWithCopyWarning: \n",
            "A value is trying to be set on a copy of a slice from a DataFrame.\n",
            "Try using .loc[row_indexer,col_indexer] = value instead\n",
            "\n",
            "See the caveats in the documentation: https://pandas.pydata.org/pandas-docs/stable/user_guide/indexing.html#returning-a-view-versus-a-copy\n",
            "  valid['Predictions'] = predictions\n"
          ]
        }
      ],
      "source": [
        "train = df[:train_data_len]\n",
        "valid = df[train_data_len:]\n",
        "valid['Predictions'] = predictions"
      ]
    },
    {
      "cell_type": "code",
      "execution_count": 29,
      "metadata": {
        "colab": {
          "base_uri": "https://localhost:8080/",
          "height": 325
        },
        "id": "AYy-_wnbBN9M",
        "outputId": "3e3345ec-8871-4004-d909-3457725348b3"
      },
      "outputs": [
        {
          "data": {
            "image/png": "[encoded data removed]",
            "text/plain": [
              "<Figure size 1000x400 with 1 Axes>"
            ]
          },
          "metadata": {},
          "output_type": "display_data"
        }
      ],
      "source": [
        "plt.figure(figsize=(10,4))\n",
        "plt.title('Model')\n",
        "plt.xlabel('Date')\n",
        "plt.ylabel('Close PRice ($)')\n",
        "plt.plot(train['Close'])\n",
        "plt.plot(valid[['Close', 'Predictions']])\n",
        "plt.legend(['Train', 'Val', 'Preds'])\n",
        "plt.show()"
      ]
    },
    {
      "cell_type": "code",
      "execution_count": 30,
      "metadata": {
        "colab": {
          "base_uri": "https://localhost:8080/",
          "height": 455
        },
        "id": "ZS7T_lUvBN9N",
        "outputId": "6f277fb6-cf91-4cc9-bbc2-0a586ec09d9d",
        "scrolled": true
      },
      "outputs": [
        {
          "data": {
            "text/html": [
              "<div>\n",
              "<style scoped>\n",
              "    .dataframe tbody tr th:only-of-type {\n",
              "        vertical-align: middle;\n",
              "    }\n",
              "\n",
              "    .dataframe tbody tr th {\n",
              "        vertical-align: top;\n",
              "    }\n",
              "\n",
              "    .dataframe thead th {\n",
              "        text-align: right;\n",
              "    }\n",
              "</style>\n",
              "<table border=\"1\" class=\"dataframe\">\n",
              "  <thead>\n",
              "    <tr style=\"text-align: right;\">\n",
              "      <th></th>\n",
              "      <th>Close</th>\n",
              "      <th>Predictions</th>\n",
              "    </tr>\n",
              "    <tr>\n",
              "      <th>Date</th>\n",
              "      <th></th>\n",
              "      <th></th>\n",
              "    </tr>\n",
              "  </thead>\n",
              "  <tbody>\n",
              "    <tr>\n",
              "      <th>2019-10-22</th>\n",
              "      <td>59.990002</td>\n",
              "      <td>60.132725</td>\n",
              "    </tr>\n",
              "    <tr>\n",
              "      <th>2019-10-23</th>\n",
              "      <td>60.794998</td>\n",
              "      <td>60.493156</td>\n",
              "    </tr>\n",
              "    <tr>\n",
              "      <th>2019-10-24</th>\n",
              "      <td>60.895000</td>\n",
              "      <td>60.852814</td>\n",
              "    </tr>\n",
              "    <tr>\n",
              "      <th>2019-10-25</th>\n",
              "      <td>61.645000</td>\n",
              "      <td>61.210930</td>\n",
              "    </tr>\n",
              "    <tr>\n",
              "      <th>2019-10-28</th>\n",
              "      <td>62.262501</td>\n",
              "      <td>61.582058</td>\n",
              "    </tr>\n",
              "    <tr>\n",
              "      <th>...</th>\n",
              "      <td>...</td>\n",
              "      <td>...</td>\n",
              "    </tr>\n",
              "    <tr>\n",
              "      <th>2020-12-24</th>\n",
              "      <td>131.970001</td>\n",
              "      <td>130.466370</td>\n",
              "    </tr>\n",
              "    <tr>\n",
              "      <th>2020-12-28</th>\n",
              "      <td>136.690002</td>\n",
              "      <td>131.361740</td>\n",
              "    </tr>\n",
              "    <tr>\n",
              "      <th>2020-12-29</th>\n",
              "      <td>134.869995</td>\n",
              "      <td>132.476654</td>\n",
              "    </tr>\n",
              "    <tr>\n",
              "      <th>2020-12-30</th>\n",
              "      <td>133.720001</td>\n",
              "      <td>133.664276</td>\n",
              "    </tr>\n",
              "    <tr>\n",
              "      <th>2020-12-31</th>\n",
              "      <td>132.690002</td>\n",
              "      <td>134.752914</td>\n",
              "    </tr>\n",
              "  </tbody>\n",
              "</table>\n",
              "<p>302 rows × 2 columns</p>\n",
              "</div>"
            ],
            "text/plain": [
              "                 Close  Predictions\n",
              "Date                               \n",
              "2019-10-22   59.990002    60.132725\n",
              "2019-10-23   60.794998    60.493156\n",
              "2019-10-24   60.895000    60.852814\n",
              "2019-10-25   61.645000    61.210930\n",
              "2019-10-28   62.262501    61.582058\n",
              "...                ...          ...\n",
              "2020-12-24  131.970001   130.466370\n",
              "2020-12-28  136.690002   131.361740\n",
              "2020-12-29  134.869995   132.476654\n",
              "2020-12-30  133.720001   133.664276\n",
              "2020-12-31  132.690002   134.752914\n",
              "\n",
              "[302 rows x 2 columns]"
            ]
          },
          "execution_count": 30,
          "metadata": {},
          "output_type": "execute_result"
        }
      ],
      "source": [
        "valid"
      ]
    },
    {
      "cell_type": "markdown",
      "metadata": {
        "id": "65qi-M3bBN9N"
      },
      "source": [
        "# Predict closing price for Oct 20, 2022"
      ]
    },
    {
      "cell_type": "code",
      "execution_count": 31,
      "metadata": {
        "colab": {
          "base_uri": "https://localhost:8080/"
        },
        "id": "N7Uewpg0BN9N",
        "outputId": "b310b8a4-cb82-4ce2-949e-1d56513fda17"
      },
      "outputs": [
        {
          "name": "stdout",
          "output_type": "stream",
          "text": [
            "[*********************100%***********************]  1 of 1 completed\n"
          ]
        }
      ],
      "source": [
        "#df=  web.DataReader('AAPL',data_source='yahoo', start='2012-01-01', end='2019-12-26')\n",
        "df = yf.download(tickers_list,threads= False,start=datetime.datetime(2021,1,2),\n",
        "                                end=datetime.datetime(2022,10,20))"
      ]
    },
    {
      "cell_type": "code",
      "execution_count": 32,
      "metadata": {
        "id": "2PjnWD36BN9N"
      },
      "outputs": [],
      "source": [
        "new_df = df[['Close']]"
      ]
    },
    {
      "cell_type": "code",
      "execution_count": 33,
      "metadata": {
        "colab": {
          "base_uri": "https://localhost:8080/"
        },
        "id": "hoA3ifeJBN9N",
        "outputId": "767e6a76-e1ec-4534-a41b-87a8f4e03032"
      },
      "outputs": [
        {
          "name": "stderr",
          "output_type": "stream",
          "text": [
            "c:\\Users\\Mete\\anaconda3\\lib\\site-packages\\sklearn\\base.py:450: UserWarning: X does not have valid feature names, but MinMaxScaler was fitted with feature names\n",
            "  warnings.warn(\n"
          ]
        }
      ],
      "source": [
        "# get last 60 days\n",
        "last_60_days = new_df[-60:].values\n",
        "\n",
        "#scaling\n",
        "last_60_days_scaled = sc.transform(last_60_days)"
      ]
    },
    {
      "cell_type": "code",
      "execution_count": 34,
      "metadata": {
        "id": "ODcmoh-aBN9O"
      },
      "outputs": [],
      "source": [
        "xtest = []\n",
        "#append past 60 days\n",
        "xtest.append(last_60_days_scaled)\n",
        "xtest = np.array(xtest)"
      ]
    },
    {
      "cell_type": "code",
      "execution_count": 35,
      "metadata": {
        "colab": {
          "base_uri": "https://localhost:8080/"
        },
        "id": "pKVfSlKSBN9O",
        "outputId": "6b95601d-322b-4515-e58a-efa3003f084d"
      },
      "outputs": [
        {
          "data": {
            "text/plain": [
              "(1, 60, 1)"
            ]
          },
          "execution_count": 35,
          "metadata": {},
          "output_type": "execute_result"
        }
      ],
      "source": [
        "xtest.shape"
      ]
    },
    {
      "cell_type": "code",
      "execution_count": 36,
      "metadata": {
        "colab": {
          "base_uri": "https://localhost:8080/"
        },
        "id": "grQLjbKoBN9O",
        "outputId": "f51edf26-766e-4752-de92-e5fd548ebaea"
      },
      "outputs": [
        {
          "name": "stdout",
          "output_type": "stream",
          "text": [
            "1/1 [==============================] - 0s 17ms/step\n"
          ]
        }
      ],
      "source": [
        "predicted_test = regressor_model.predict(xtest)\n",
        "predicted_test = sc.inverse_transform(predicted_test)"
      ]
    },
    {
      "cell_type": "code",
      "execution_count": 37,
      "metadata": {
        "colab": {
          "base_uri": "https://localhost:8080/"
        },
        "id": "ugQlR1TpBN9O",
        "outputId": "bfca5a40-88c9-48d8-e4ba-cafd727b2359"
      },
      "outputs": [
        {
          "data": {
            "text/plain": [
              "array([[141.18893]], dtype=float32)"
            ]
          },
          "execution_count": 37,
          "metadata": {},
          "output_type": "execute_result"
        }
      ],
      "source": [
        "predicted_test"
      ]
    },
    {
      "cell_type": "code",
      "execution_count": 38,
      "metadata": {
        "colab": {
          "base_uri": "https://localhost:8080/"
        },
        "id": "Rsr40TUHBN9O",
        "outputId": "b15920bf-a08e-4474-9dd4-f9403d395e22",
        "scrolled": true
      },
      "outputs": [
        {
          "name": "stdout",
          "output_type": "stream",
          "text": [
            "[*********************100%***********************]  1 of 1 completed\n"
          ]
        },
        {
          "data": {
            "text/plain": [
              "Date\n",
              "2022-10-20    143.389999\n",
              "Name: Close, dtype: float64"
            ]
          },
          "execution_count": 38,
          "metadata": {},
          "output_type": "execute_result"
        }
      ],
      "source": [
        "df = yf.download(tickers_list,threads= False,start=datetime.datetime(2022,10,20),\n",
        "                                end=datetime.datetime(2022,10,21))\n",
        "\n",
        "df['Close']"
      ]
    },
    {
      "cell_type": "code",
      "execution_count": 39,
      "metadata": {
        "colab": {
          "base_uri": "https://localhost:8080/",
          "height": 112
        },
        "id": "07V3x7SqBN9O",
        "outputId": "89620b79-aa70-45e7-8083-ca37109f223a"
      },
      "outputs": [
        {
          "data": {
            "text/html": [
              "<div>\n",
              "<style scoped>\n",
              "    .dataframe tbody tr th:only-of-type {\n",
              "        vertical-align: middle;\n",
              "    }\n",
              "\n",
              "    .dataframe tbody tr th {\n",
              "        vertical-align: top;\n",
              "    }\n",
              "\n",
              "    .dataframe thead th {\n",
              "        text-align: right;\n",
              "    }\n",
              "</style>\n",
              "<table border=\"1\" class=\"dataframe\">\n",
              "  <thead>\n",
              "    <tr style=\"text-align: right;\">\n",
              "      <th></th>\n",
              "      <th>Open</th>\n",
              "      <th>High</th>\n",
              "      <th>Low</th>\n",
              "      <th>Close</th>\n",
              "      <th>Adj Close</th>\n",
              "      <th>Volume</th>\n",
              "    </tr>\n",
              "    <tr>\n",
              "      <th>Date</th>\n",
              "      <th></th>\n",
              "      <th></th>\n",
              "      <th></th>\n",
              "      <th></th>\n",
              "      <th></th>\n",
              "      <th></th>\n",
              "    </tr>\n",
              "  </thead>\n",
              "  <tbody>\n",
              "    <tr>\n",
              "      <th>2022-10-20</th>\n",
              "      <td>143.020004</td>\n",
              "      <td>145.889999</td>\n",
              "      <td>142.649994</td>\n",
              "      <td>143.389999</td>\n",
              "      <td>143.152527</td>\n",
              "      <td>64522000</td>\n",
              "    </tr>\n",
              "  </tbody>\n",
              "</table>\n",
              "</div>"
            ],
            "text/plain": [
              "                  Open        High         Low       Close   Adj Close  \\\n",
              "Date                                                                     \n",
              "2022-10-20  143.020004  145.889999  142.649994  143.389999  143.152527   \n",
              "\n",
              "              Volume  \n",
              "Date                  \n",
              "2022-10-20  64522000  "
            ]
          },
          "execution_count": 39,
          "metadata": {},
          "output_type": "execute_result"
        }
      ],
      "source": [
        "df"
      ]
    },
    {
      "cell_type": "markdown",
      "metadata": {
        "id": "FB-CapIhBN9P"
      },
      "source": [
        "As we can see that actual Close price for 20th Oct, 2022 \"147.19\" is somewhat closer to predicted \"137.28\" (Not that close, the model performance can be better with more training data and a better model)"
      ]
    },
    {
      "cell_type": "code",
      "execution_count": null,
      "metadata": {
        "id": "FQ7d4qbHBN9P"
      },
      "outputs": [],
      "source": []
    }
  ],
  "metadata": {
    "colab": {
      "provenance": []
    },
    "kernelspec": {
      "display_name": "Python 3.9.13 ('base')",
      "language": "python",
      "name": "python3"
    },
    "language_info": {
      "codemirror_mode": {
        "name": "ipython",
        "version": 3
      },
      "file_extension": ".py",
      "mimetype": "text/x-python",
      "name": "python",
      "nbconvert_exporter": "python",
      "pygments_lexer": "ipython3",
      "version": "3.9.13"
    },
    "vscode": {
      "interpreter": {
        "hash": "55c776d72a9b0466125c350da11e498208ea13e5f5204f0dfc7e1bd4072fa31d"
      }
    }
  },
  "nbformat": 4,
  "nbformat_minor": 0
}
