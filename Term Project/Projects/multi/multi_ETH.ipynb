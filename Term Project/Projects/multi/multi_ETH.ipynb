{
 "cells": [
  {
   "cell_type": "code",
   "execution_count": 10,
   "metadata": {},
   "outputs": [],
   "source": [
    "import pandas as pd\n",
    "import numpy as np\n",
    "from keras.models import Sequential\n",
    "from keras.layers import LSTM\n",
    "from keras.layers import Dense\n",
    "import datetime\n",
    "\n",
    "from math import sqrt\n",
    "from numpy import concatenate\n",
    "from matplotlib import pyplot\n",
    "\n",
    "from pandas import concat\n",
    "from sklearn.preprocessing import MinMaxScaler\n",
    "from sklearn.preprocessing import LabelEncoder\n",
    "from sklearn.metrics import mean_squared_error\n",
    "from pandas import read_csv\n"
   ]
  },
  {
   "cell_type": "code",
   "execution_count": 11,
   "metadata": {},
   "outputs": [],
   "source": [
    "def series_to_supervised(data, n_in=1, n_out=1, dropnan=True):\n",
    "\tn_vars = 1 if type(data) is list else data.shape[1]\n",
    "\tdf = pd.DataFrame(data)\n",
    "\tcols, names = list(), list()\n",
    "\t# input sequence (t-n, ... t-1)\n",
    "\tfor i in range(n_in, 0, -1):\n",
    "\t\tcols.append(df.shift(i))\n",
    "\t\tnames += [('var%d(t-%d)' % (j+1, i)) for j in range(n_vars)]\n",
    "\t# forecast sequence (t, t+1, ... t+n)\n",
    "\tfor i in range(0, n_out):\n",
    "\t\tcols.append(df.shift(-i))\n",
    "\t\tif i == 0:\n",
    "\t\t\tnames += [('var%d(t)' % (j+1)) for j in range(n_vars)]\n",
    "\t\telse:\n",
    "\t\t\tnames += [('var%d(t+%d)' % (j+1, i)) for j in range(n_vars)]\n",
    "\t# put it all together\n",
    "\tagg = concat(cols, axis=1)\n",
    "\tagg.columns = names\n",
    "\t# drop rows with NaN values\n",
    "\tif dropnan:\n",
    "\t\tagg.dropna(inplace=True)\n",
    "\treturn agg\n"
   ]
  },
  {
   "cell_type": "code",
   "execution_count": 12,
   "metadata": {},
   "outputs": [
    {
     "name": "stdout",
     "output_type": "stream",
     "text": [
      "<class 'pandas.core.frame.DataFrame'>\n",
      "Index: 2870 entries, 30.12.2022 to 02.01.2012\n",
      "Data columns (total 4 columns):\n",
      " #   Column  Non-Null Count  Dtype  \n",
      "---  ------  --------------  -----  \n",
      " 0   Şimdi   2870 non-null   float64\n",
      " 1   Açılış  2870 non-null   float64\n",
      " 2   Yüksek  2870 non-null   float64\n",
      " 3   Düşük   2870 non-null   float64\n",
      "dtypes: float64(4)\n",
      "memory usage: 112.1+ KB\n"
     ]
    }
   ],
   "source": [
    "# load dataset\n",
    "dataset = read_csv('csv files/USD_TRY.csv', header=0, index_col=0)\n",
    "dataset = dataset.drop(['Hac.', 'Fark %'], axis=1)\n",
    "\n",
    "dataset['Şimdi'] = dataset['Şimdi'].apply(\n",
    "    lambda x: float(x.split()[0].replace(',', '.')))\n",
    "\n",
    "dataset['Açılış'] = dataset['Açılış'].apply(\n",
    "    lambda x: float(x.split()[0].replace(',', '.')))\n",
    "\n",
    "dataset['Yüksek'] = dataset['Yüksek'].apply(\n",
    "    lambda x: float(x.split()[0].replace(',', '.')))\n",
    "\n",
    "dataset['Düşük'] = dataset['Düşük'].apply(\n",
    "    lambda x: float(x.split()[0].replace(',', '.')))\n",
    "\n",
    "\n",
    "dataset.info()\n",
    "\n"
   ]
  },
  {
   "cell_type": "code",
   "execution_count": 13,
   "metadata": {},
   "outputs": [
    {
     "data": {
      "text/html": [
       "<div>\n",
       "<style scoped>\n",
       "    .dataframe tbody tr th:only-of-type {\n",
       "        vertical-align: middle;\n",
       "    }\n",
       "\n",
       "    .dataframe tbody tr th {\n",
       "        vertical-align: top;\n",
       "    }\n",
       "\n",
       "    .dataframe thead th {\n",
       "        text-align: right;\n",
       "    }\n",
       "</style>\n",
       "<table border=\"1\" class=\"dataframe\">\n",
       "  <thead>\n",
       "    <tr style=\"text-align: right;\">\n",
       "      <th></th>\n",
       "      <th>Şimdi</th>\n",
       "      <th>Açılış</th>\n",
       "      <th>Yüksek</th>\n",
       "      <th>Düşük</th>\n",
       "    </tr>\n",
       "    <tr>\n",
       "      <th>Tarih</th>\n",
       "      <th></th>\n",
       "      <th></th>\n",
       "      <th></th>\n",
       "      <th></th>\n",
       "    </tr>\n",
       "  </thead>\n",
       "  <tbody>\n",
       "    <tr>\n",
       "      <th>30.12.2022</th>\n",
       "      <td>18.6883</td>\n",
       "      <td>18.7097</td>\n",
       "      <td>18.8008</td>\n",
       "      <td>18.5996</td>\n",
       "    </tr>\n",
       "    <tr>\n",
       "      <th>29.12.2022</th>\n",
       "      <td>18.6941</td>\n",
       "      <td>18.7185</td>\n",
       "      <td>18.8044</td>\n",
       "      <td>18.6116</td>\n",
       "    </tr>\n",
       "    <tr>\n",
       "      <th>28.12.2022</th>\n",
       "      <td>18.7157</td>\n",
       "      <td>18.7020</td>\n",
       "      <td>18.8111</td>\n",
       "      <td>18.5680</td>\n",
       "    </tr>\n",
       "    <tr>\n",
       "      <th>27.12.2022</th>\n",
       "      <td>18.6669</td>\n",
       "      <td>18.6855</td>\n",
       "      <td>18.8229</td>\n",
       "      <td>18.5690</td>\n",
       "    </tr>\n",
       "    <tr>\n",
       "      <th>26.12.2022</th>\n",
       "      <td>18.6618</td>\n",
       "      <td>18.6622</td>\n",
       "      <td>18.7917</td>\n",
       "      <td>18.5413</td>\n",
       "    </tr>\n",
       "    <tr>\n",
       "      <th>23.12.2022</th>\n",
       "      <td>18.6637</td>\n",
       "      <td>18.6653</td>\n",
       "      <td>18.7838</td>\n",
       "      <td>18.5655</td>\n",
       "    </tr>\n",
       "    <tr>\n",
       "      <th>22.12.2022</th>\n",
       "      <td>18.6424</td>\n",
       "      <td>18.6570</td>\n",
       "      <td>18.7665</td>\n",
       "      <td>18.5611</td>\n",
       "    </tr>\n",
       "    <tr>\n",
       "      <th>21.12.2022</th>\n",
       "      <td>18.6749</td>\n",
       "      <td>18.6621</td>\n",
       "      <td>18.7715</td>\n",
       "      <td>18.5555</td>\n",
       "    </tr>\n",
       "    <tr>\n",
       "      <th>20.12.2022</th>\n",
       "      <td>18.6479</td>\n",
       "      <td>18.6527</td>\n",
       "      <td>18.7523</td>\n",
       "      <td>18.5540</td>\n",
       "    </tr>\n",
       "    <tr>\n",
       "      <th>19.12.2022</th>\n",
       "      <td>18.6426</td>\n",
       "      <td>18.6380</td>\n",
       "      <td>18.7441</td>\n",
       "      <td>18.5542</td>\n",
       "    </tr>\n",
       "  </tbody>\n",
       "</table>\n",
       "</div>"
      ],
      "text/plain": [
       "              Şimdi   Açılış   Yüksek    Düşük\n",
       "Tarih                                         \n",
       "30.12.2022  18.6883  18.7097  18.8008  18.5996\n",
       "29.12.2022  18.6941  18.7185  18.8044  18.6116\n",
       "28.12.2022  18.7157  18.7020  18.8111  18.5680\n",
       "27.12.2022  18.6669  18.6855  18.8229  18.5690\n",
       "26.12.2022  18.6618  18.6622  18.7917  18.5413\n",
       "23.12.2022  18.6637  18.6653  18.7838  18.5655\n",
       "22.12.2022  18.6424  18.6570  18.7665  18.5611\n",
       "21.12.2022  18.6749  18.6621  18.7715  18.5555\n",
       "20.12.2022  18.6479  18.6527  18.7523  18.5540\n",
       "19.12.2022  18.6426  18.6380  18.7441  18.5542"
      ]
     },
     "execution_count": 13,
     "metadata": {},
     "output_type": "execute_result"
    }
   ],
   "source": [
    "dataset.head(10)"
   ]
  },
  {
   "cell_type": "code",
   "execution_count": 14,
   "metadata": {},
   "outputs": [
    {
     "name": "stdout",
     "output_type": "stream",
     "text": [
      "   var1(t-1)  var2(t-1)  var3(t-1)  var4(t-1)   var1(t)\n",
      "1   0.998386   0.999482   0.998705   0.999289  0.998727\n",
      "2   0.998727   1.000000   0.998916   1.000000  1.000000\n",
      "3   1.000000   0.999028   0.999309   0.997417  0.997125\n",
      "4   0.997125   0.998056   1.000000   0.997476  0.996824\n",
      "5   0.996824   0.996683   0.998172   0.995835  0.996936\n"
     ]
    }
   ],
   "source": [
    "values = dataset.values\n",
    "# normalize features\n",
    "scaler = MinMaxScaler(feature_range=(0, 1))\n",
    "scaled = scaler.fit_transform(values)\n",
    "# frame as supervised learning\n",
    "reframed = series_to_supervised(scaled, 1, 1)\n",
    "# drop columns we don't want to predict\n",
    "reframed.drop(\n",
    "\treframed.columns[[5, 6, 7]], axis=1, inplace=True)\n",
    "print(reframed.head())\n"
   ]
  },
  {
   "cell_type": "code",
   "execution_count": 15,
   "metadata": {},
   "outputs": [
    {
     "name": "stdout",
     "output_type": "stream",
     "text": [
      "(2439, 1, 4) (2439,) (430, 1, 4) (430,)\n"
     ]
    }
   ],
   "source": [
    "\n",
    "# split into train and test sets\n",
    "values = reframed.values\n",
    "n_train_hours = int(len(dataset)*0.85)\n",
    "train = values[:n_train_hours, :]\n",
    "test = values[n_train_hours:, :]\n",
    "# split into input and outputs\n",
    "train_X, train_y = train[:, :-1], train[:, -1]\n",
    "test_X, test_y = test[:, :-1], test[:, -1]\n",
    "# reshape input to be 3D [samples, timesteps, features]\n",
    "train_X = train_X.reshape((train_X.shape[0], 1, train_X.shape[1]))\n",
    "test_X = test_X.reshape((test_X.shape[0], 1, test_X.shape[1]))\n",
    "print(train_X.shape, train_y.shape, test_X.shape, test_y.shape)\n"
   ]
  },
  {
   "cell_type": "code",
   "execution_count": 16,
   "metadata": {},
   "outputs": [
    {
     "name": "stdout",
     "output_type": "stream",
     "text": [
      "Epoch 1/50\n",
      "34/34 - 2s - loss: 0.1954 - val_loss: 0.0764 - 2s/epoch - 68ms/step\n",
      "Epoch 2/50\n",
      "34/34 - 0s - loss: 0.1282 - val_loss: 0.0802 - 74ms/epoch - 2ms/step\n",
      "Epoch 3/50\n",
      "34/34 - 0s - loss: 0.0813 - val_loss: 0.0506 - 74ms/epoch - 2ms/step\n",
      "Epoch 4/50\n",
      "34/34 - 0s - loss: 0.0435 - val_loss: 0.0060 - 77ms/epoch - 2ms/step\n",
      "Epoch 5/50\n",
      "34/34 - 0s - loss: 0.0181 - val_loss: 0.0030 - 76ms/epoch - 2ms/step\n",
      "Epoch 6/50\n",
      "34/34 - 0s - loss: 0.0253 - val_loss: 8.9526e-04 - 76ms/epoch - 2ms/step\n",
      "Epoch 7/50\n",
      "34/34 - 0s - loss: 0.0136 - val_loss: 0.0030 - 76ms/epoch - 2ms/step\n",
      "Epoch 8/50\n",
      "34/34 - 0s - loss: 0.0174 - val_loss: 0.0034 - 76ms/epoch - 2ms/step\n",
      "Epoch 9/50\n",
      "34/34 - 0s - loss: 0.0121 - val_loss: 0.0036 - 77ms/epoch - 2ms/step\n",
      "Epoch 10/50\n",
      "34/34 - 0s - loss: 0.0118 - val_loss: 0.0030 - 78ms/epoch - 2ms/step\n",
      "Epoch 11/50\n",
      "34/34 - 0s - loss: 0.0065 - val_loss: 0.0016 - 81ms/epoch - 2ms/step\n",
      "Epoch 12/50\n",
      "34/34 - 0s - loss: 0.0084 - val_loss: 0.0011 - 77ms/epoch - 2ms/step\n",
      "Epoch 13/50\n",
      "34/34 - 0s - loss: 0.0019 - val_loss: 4.3101e-04 - 78ms/epoch - 2ms/step\n",
      "Epoch 14/50\n",
      "34/34 - 0s - loss: 0.0039 - val_loss: 2.4084e-04 - 79ms/epoch - 2ms/step\n",
      "Epoch 15/50\n",
      "34/34 - 0s - loss: 0.0112 - val_loss: 0.0032 - 76ms/epoch - 2ms/step\n",
      "Epoch 16/50\n",
      "34/34 - 0s - loss: 0.0033 - val_loss: 3.4607e-04 - 79ms/epoch - 2ms/step\n",
      "Epoch 17/50\n",
      "34/34 - 0s - loss: 0.0108 - val_loss: 0.0016 - 78ms/epoch - 2ms/step\n",
      "Epoch 18/50\n",
      "34/34 - 0s - loss: 0.0041 - val_loss: 2.3593e-04 - 78ms/epoch - 2ms/step\n",
      "Epoch 19/50\n",
      "34/34 - 0s - loss: 0.0075 - val_loss: 0.0024 - 78ms/epoch - 2ms/step\n",
      "Epoch 20/50\n",
      "34/34 - 0s - loss: 0.0041 - val_loss: 5.6373e-04 - 79ms/epoch - 2ms/step\n",
      "Epoch 21/50\n",
      "34/34 - 0s - loss: 0.0073 - val_loss: 0.0022 - 78ms/epoch - 2ms/step\n",
      "Epoch 22/50\n",
      "34/34 - 0s - loss: 0.0023 - val_loss: 7.3903e-04 - 75ms/epoch - 2ms/step\n",
      "Epoch 23/50\n",
      "34/34 - 0s - loss: 0.0052 - val_loss: 2.1350e-04 - 76ms/epoch - 2ms/step\n",
      "Epoch 24/50\n",
      "34/34 - 0s - loss: 0.0074 - val_loss: 0.0021 - 78ms/epoch - 2ms/step\n",
      "Epoch 25/50\n",
      "34/34 - 0s - loss: 0.0026 - val_loss: 4.0553e-04 - 76ms/epoch - 2ms/step\n",
      "Epoch 26/50\n",
      "34/34 - 0s - loss: 0.0065 - val_loss: 2.7359e-04 - 78ms/epoch - 2ms/step\n",
      "Epoch 27/50\n",
      "34/34 - 0s - loss: 0.0075 - val_loss: 0.0024 - 77ms/epoch - 2ms/step\n",
      "Epoch 28/50\n",
      "34/34 - 0s - loss: 0.0079 - val_loss: 2.9664e-04 - 77ms/epoch - 2ms/step\n",
      "Epoch 29/50\n",
      "34/34 - 0s - loss: 0.0036 - val_loss: 8.4587e-04 - 75ms/epoch - 2ms/step\n",
      "Epoch 30/50\n",
      "34/34 - 0s - loss: 0.0040 - val_loss: 5.0736e-04 - 77ms/epoch - 2ms/step\n",
      "Epoch 31/50\n",
      "34/34 - 0s - loss: 0.0095 - val_loss: 4.4358e-04 - 77ms/epoch - 2ms/step\n",
      "Epoch 32/50\n",
      "34/34 - 0s - loss: 0.0040 - val_loss: 2.3395e-04 - 75ms/epoch - 2ms/step\n",
      "Epoch 33/50\n",
      "34/34 - 0s - loss: 0.0026 - val_loss: 6.0963e-04 - 78ms/epoch - 2ms/step\n",
      "Epoch 34/50\n",
      "34/34 - 0s - loss: 0.0096 - val_loss: 4.2914e-04 - 76ms/epoch - 2ms/step\n",
      "Epoch 35/50\n",
      "34/34 - 0s - loss: 0.0042 - val_loss: 8.8378e-04 - 75ms/epoch - 2ms/step\n",
      "Epoch 36/50\n",
      "34/34 - 0s - loss: 0.0028 - val_loss: 2.4499e-04 - 81ms/epoch - 2ms/step\n",
      "Epoch 37/50\n",
      "34/34 - 0s - loss: 0.0093 - val_loss: 8.1122e-04 - 79ms/epoch - 2ms/step\n",
      "Epoch 38/50\n",
      "34/34 - 0s - loss: 0.0052 - val_loss: 0.0012 - 76ms/epoch - 2ms/step\n",
      "Epoch 39/50\n",
      "34/34 - 0s - loss: 0.0031 - val_loss: 7.0579e-04 - 77ms/epoch - 2ms/step\n",
      "Epoch 40/50\n",
      "34/34 - 0s - loss: 0.0029 - val_loss: 3.9634e-04 - 79ms/epoch - 2ms/step\n",
      "Epoch 41/50\n",
      "34/34 - 0s - loss: 0.0030 - val_loss: 8.7124e-04 - 80ms/epoch - 2ms/step\n",
      "Epoch 42/50\n",
      "34/34 - 0s - loss: 0.0035 - val_loss: 8.5625e-04 - 76ms/epoch - 2ms/step\n",
      "Epoch 43/50\n",
      "34/34 - 0s - loss: 0.0026 - val_loss: 5.8859e-04 - 77ms/epoch - 2ms/step\n",
      "Epoch 44/50\n",
      "34/34 - 0s - loss: 0.0028 - val_loss: 6.9117e-04 - 78ms/epoch - 2ms/step\n",
      "Epoch 45/50\n",
      "34/34 - 0s - loss: 0.0038 - val_loss: 4.6038e-04 - 81ms/epoch - 2ms/step\n",
      "Epoch 46/50\n",
      "34/34 - 0s - loss: 0.0028 - val_loss: 2.7054e-04 - 76ms/epoch - 2ms/step\n",
      "Epoch 47/50\n",
      "34/34 - 0s - loss: 0.0090 - val_loss: 2.8146e-04 - 75ms/epoch - 2ms/step\n",
      "Epoch 48/50\n",
      "34/34 - 0s - loss: 0.0044 - val_loss: 2.6470e-04 - 78ms/epoch - 2ms/step\n",
      "Epoch 49/50\n",
      "34/34 - 0s - loss: 0.0042 - val_loss: 7.4789e-04 - 77ms/epoch - 2ms/step\n",
      "Epoch 50/50\n",
      "34/34 - 0s - loss: 0.0108 - val_loss: 5.0944e-04 - 74ms/epoch - 2ms/step\n"
     ]
    }
   ],
   "source": [
    "# design network\n",
    "model = Sequential()\n",
    "model.add(LSTM(50, input_shape=(train_X.shape[1], train_X.shape[2])))\n",
    "model.add(Dense(1))\n",
    "model.compile(loss='mae', optimizer='adam')\n",
    "# fit network\n",
    "history = model.fit(train_X, train_y, epochs=50, batch_size=72,\n",
    "                    validation_data=(test_X, test_y), verbose=2, shuffle=False)\n"
   ]
  },
  {
   "cell_type": "code",
   "execution_count": 17,
   "metadata": {},
   "outputs": [
    {
     "data": {
      "image/png": "[encoded data removed]",
      "text/plain": [
       "<Figure size 640x480 with 1 Axes>"
      ]
     },
     "metadata": {},
     "output_type": "display_data"
    }
   ],
   "source": [
    "# plot history\n",
    "from matplotlib import pyplot\n",
    "pyplot.plot(history.history['loss'], label='train')\n",
    "pyplot.plot(history.history['val_loss'], label='test')\n",
    "pyplot.legend()\n",
    "pyplot.show()\n"
   ]
  },
  {
   "cell_type": "code",
   "execution_count": 18,
   "metadata": {},
   "outputs": [
    {
     "name": "stdout",
     "output_type": "stream",
     "text": [
      "14/14 [==============================] - 0s 1ms/step\n",
      "Test RMSE: 0.010\n"
     ]
    }
   ],
   "source": [
    "# make a prediction\n",
    "yhat = model.predict(test_X)\n",
    "test_X = test_X.reshape((test_X.shape[0], test_X.shape[2]))\n",
    "# invert scaling for forecast\n",
    "inv_yhat = concatenate((yhat, test_X[:, 1:]), axis=1)\n",
    "inv_yhat = scaler.inverse_transform(inv_yhat)\n",
    "inv_yhat = inv_yhat[:, 0]\n",
    "# invert scaling for actual\n",
    "test_y = test_y.reshape((len(test_y), 1))\n",
    "inv_y = concatenate((test_y, test_X[:, 1:]), axis=1)\n",
    "inv_y = scaler.inverse_transform(inv_y)\n",
    "inv_y = inv_y[:, 0]\n",
    "# calculate RMSE\n",
    "rmse = sqrt(mean_squared_error(inv_y, inv_yhat))\n",
    "print('Test RMSE: %.3f' % rmse)\n"
   ]
  }
 ],
 "metadata": {
  "kernelspec": {
   "display_name": "base",
   "language": "python",
   "name": "python3"
  },
  "language_info": {
   "codemirror_mode": {
    "name": "ipython",
    "version": 3
   },
   "file_extension": ".py",
   "mimetype": "text/x-python",
   "name": "python",
   "nbconvert_exporter": "python",
   "pygments_lexer": "ipython3",
   "version": "3.9.13 (main, Aug 25 2022, 23:51:50) [MSC v.1916 64 bit (AMD64)]"
  },
  "orig_nbformat": 4,
  "vscode": {
   "interpreter": {
    "hash": "55c776d72a9b0466125c350da11e498208ea13e5f5204f0dfc7e1bd4072fa31d"
   }
  }
 },
 "nbformat": 4,
 "nbformat_minor": 2
}
