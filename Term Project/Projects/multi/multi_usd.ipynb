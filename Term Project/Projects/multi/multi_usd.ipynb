{
 "cells": [
  {
   "cell_type": "code",
   "execution_count": 6,
   "metadata": {},
   "outputs": [],
   "source": [
    "import pandas as pd\n",
    "import numpy as np\n",
    "from keras.models import Sequential\n",
    "from keras.layers import LSTM\n",
    "from keras.layers import Dense\n",
    "import datetime\n",
    "\n",
    "from math import sqrt\n",
    "from numpy import concatenate\n",
    "from matplotlib import pyplot\n",
    "\n",
    "from pandas import concat\n",
    "from sklearn.preprocessing import MinMaxScaler\n",
    "from sklearn.preprocessing import LabelEncoder\n",
    "from sklearn.metrics import mean_squared_error\n",
    "from pandas import read_csv\n"
   ]
  },
  {
   "cell_type": "code",
   "execution_count": 7,
   "metadata": {},
   "outputs": [],
   "source": [
    "def series_to_supervised(data, n_in=1, n_out=1, dropnan=True):\n",
    "\tn_vars = 1 if type(data) is list else data.shape[1]\n",
    "\tdf = pd.DataFrame(data)\n",
    "\tcols, names = list(), list()\n",
    "\t# input sequence (t-n, ... t-1)\n",
    "\tfor i in range(n_in, 0, -1):\n",
    "\t\tcols.append(df.shift(i))\n",
    "\t\tnames += [('var%d(t-%d)' % (j+1, i)) for j in range(n_vars)]\n",
    "\t# forecast sequence (t, t+1, ... t+n)\n",
    "\tfor i in range(0, n_out):\n",
    "\t\tcols.append(df.shift(-i))\n",
    "\t\tif i == 0:\n",
    "\t\t\tnames += [('var%d(t)' % (j+1)) for j in range(n_vars)]\n",
    "\t\telse:\n",
    "\t\t\tnames += [('var%d(t+%d)' % (j+1, i)) for j in range(n_vars)]\n",
    "\t# put it all together\n",
    "\tagg = concat(cols, axis=1)\n",
    "\tagg.columns = names\n",
    "\t# drop rows with NaN values\n",
    "\tif dropnan:\n",
    "\t\tagg.dropna(inplace=True)\n",
    "\treturn agg\n"
   ]
  },
  {
   "cell_type": "code",
   "execution_count": 8,
   "metadata": {},
   "outputs": [
    {
     "name": "stdout",
     "output_type": "stream",
     "text": [
      "<class 'pandas.core.frame.DataFrame'>\n",
      "Index: 2870 entries, 30.12.2022 to 02.01.2012\n",
      "Data columns (total 4 columns):\n",
      " #   Column  Non-Null Count  Dtype  \n",
      "---  ------  --------------  -----  \n",
      " 0   Şimdi   2870 non-null   float64\n",
      " 1   Açılış  2870 non-null   float64\n",
      " 2   Yüksek  2870 non-null   float64\n",
      " 3   Düşük   2870 non-null   float64\n",
      "dtypes: float64(4)\n",
      "memory usage: 112.1+ KB\n"
     ]
    }
   ],
   "source": [
    "# load dataset\n",
    "dataset = read_csv('csv files/USD_TRY.csv', header=0, index_col=0)\n",
    "dataset = dataset.drop(['Hac.', 'Fark %'], axis=1)\n",
    "\n",
    "dataset['Şimdi'] = dataset['Şimdi'].apply(\n",
    "    lambda x: float(x.split()[0].replace(',', '.')))\n",
    "\n",
    "dataset['Açılış'] = dataset['Açılış'].apply(\n",
    "    lambda x: float(x.split()[0].replace(',', '.')))\n",
    "\n",
    "dataset['Yüksek'] = dataset['Yüksek'].apply(\n",
    "    lambda x: float(x.split()[0].replace(',', '.')))\n",
    "\n",
    "dataset['Düşük'] = dataset['Düşük'].apply(\n",
    "    lambda x: float(x.split()[0].replace(',', '.')))\n",
    "\n",
    "\n",
    "dataset.info()\n"
   ]
  },
  {
   "cell_type": "code",
   "execution_count": 9,
   "metadata": {},
   "outputs": [
    {
     "name": "stdout",
     "output_type": "stream",
     "text": [
      "   var1(t-1)  var2(t-1)  var3(t-1)  var4(t-1)   var1(t)\n",
      "1   0.998386   0.999482   0.998705   0.999289  0.998727\n",
      "2   0.998727   1.000000   0.998916   1.000000  1.000000\n",
      "3   1.000000   0.999028   0.999309   0.997417  0.997125\n",
      "4   0.997125   0.998056   1.000000   0.997476  0.996824\n",
      "5   0.996824   0.996683   0.998172   0.995835  0.996936\n"
     ]
    }
   ],
   "source": [
    "values = dataset.values\n",
    "# normalize features\n",
    "scaler = MinMaxScaler(feature_range=(0, 1))\n",
    "scaled = scaler.fit_transform(values)\n",
    "# frame as supervised learning\n",
    "reframed = series_to_supervised(scaled, 1, 1)\n",
    "# drop columns we don't want to predict\n",
    "reframed.drop(\n",
    "\treframed.columns[[5, 6, 7]], axis=1, inplace=True)\n",
    "print(reframed.head())\n"
   ]
  },
  {
   "cell_type": "code",
   "execution_count": 10,
   "metadata": {},
   "outputs": [
    {
     "name": "stdout",
     "output_type": "stream",
     "text": [
      "(2439, 1, 4) (2439,) (430, 1, 4) (430,)\n"
     ]
    }
   ],
   "source": [
    "\n",
    "# split into train and test sets\n",
    "values = reframed.values\n",
    "n_train_hours = int(len(dataset)*0.85)\n",
    "train = values[:n_train_hours, :]\n",
    "test = values[n_train_hours:, :]\n",
    "# split into input and outputs\n",
    "train_X, train_y = train[:, :-1], train[:, -1]\n",
    "test_X, test_y = test[:, :-1], test[:, -1]\n",
    "# reshape input to be 3D [samples, timesteps, features]\n",
    "train_X = train_X.reshape((train_X.shape[0], 1, train_X.shape[1]))\n",
    "test_X = test_X.reshape((test_X.shape[0], 1, test_X.shape[1]))\n",
    "print(train_X.shape, train_y.shape, test_X.shape, test_y.shape)\n"
   ]
  },
  {
   "cell_type": "code",
   "execution_count": 11,
   "metadata": {},
   "outputs": [
    {
     "name": "stdout",
     "output_type": "stream",
     "text": [
      "Epoch 1/50\n",
      "34/34 - 2s - loss: 0.2083 - val_loss: 0.0724 - 2s/epoch - 71ms/step\n",
      "Epoch 2/50\n",
      "34/34 - 0s - loss: 0.1421 - val_loss: 0.0805 - 77ms/epoch - 2ms/step\n",
      "Epoch 3/50\n",
      "34/34 - 0s - loss: 0.0996 - val_loss: 0.0673 - 76ms/epoch - 2ms/step\n",
      "Epoch 4/50\n",
      "34/34 - 0s - loss: 0.0520 - val_loss: 0.0188 - 77ms/epoch - 2ms/step\n",
      "Epoch 5/50\n",
      "34/34 - 0s - loss: 0.0297 - val_loss: 0.0042 - 79ms/epoch - 2ms/step\n",
      "Epoch 6/50\n",
      "34/34 - 0s - loss: 0.0184 - val_loss: 0.0013 - 79ms/epoch - 2ms/step\n",
      "Epoch 7/50\n",
      "34/34 - 0s - loss: 0.0144 - val_loss: 0.0045 - 77ms/epoch - 2ms/step\n",
      "Epoch 8/50\n",
      "34/34 - 0s - loss: 0.0165 - val_loss: 0.0036 - 77ms/epoch - 2ms/step\n",
      "Epoch 9/50\n",
      "34/34 - 0s - loss: 0.0113 - val_loss: 0.0027 - 77ms/epoch - 2ms/step\n",
      "Epoch 10/50\n",
      "34/34 - 0s - loss: 0.0077 - val_loss: 0.0017 - 78ms/epoch - 2ms/step\n",
      "Epoch 11/50\n",
      "34/34 - 0s - loss: 0.0029 - val_loss: 7.0887e-04 - 76ms/epoch - 2ms/step\n",
      "Epoch 12/50\n",
      "34/34 - 0s - loss: 0.0021 - val_loss: 2.1512e-04 - 77ms/epoch - 2ms/step\n",
      "Epoch 13/50\n",
      "34/34 - 0s - loss: 0.0104 - val_loss: 0.0027 - 75ms/epoch - 2ms/step\n",
      "Epoch 14/50\n",
      "34/34 - 0s - loss: 0.0024 - val_loss: 2.5511e-04 - 76ms/epoch - 2ms/step\n",
      "Epoch 15/50\n",
      "34/34 - 0s - loss: 0.0064 - val_loss: 0.0022 - 77ms/epoch - 2ms/step\n",
      "Epoch 16/50\n",
      "34/34 - 0s - loss: 0.0029 - val_loss: 5.4101e-04 - 76ms/epoch - 2ms/step\n",
      "Epoch 17/50\n",
      "34/34 - 0s - loss: 0.0056 - val_loss: 0.0016 - 77ms/epoch - 2ms/step\n",
      "Epoch 18/50\n",
      "34/34 - 0s - loss: 0.0032 - val_loss: 4.2366e-04 - 77ms/epoch - 2ms/step\n",
      "Epoch 19/50\n",
      "34/34 - 0s - loss: 0.0090 - val_loss: 0.0015 - 78ms/epoch - 2ms/step\n",
      "Epoch 20/50\n",
      "34/34 - 0s - loss: 0.0055 - val_loss: 8.2637e-04 - 76ms/epoch - 2ms/step\n",
      "Epoch 21/50\n",
      "34/34 - 0s - loss: 0.0047 - val_loss: 2.3585e-04 - 77ms/epoch - 2ms/step\n",
      "Epoch 22/50\n",
      "34/34 - 0s - loss: 0.0030 - val_loss: 2.3800e-04 - 77ms/epoch - 2ms/step\n",
      "Epoch 23/50\n",
      "34/34 - 0s - loss: 0.0086 - val_loss: 0.0011 - 77ms/epoch - 2ms/step\n",
      "Epoch 24/50\n",
      "34/34 - 0s - loss: 0.0050 - val_loss: 3.3566e-04 - 77ms/epoch - 2ms/step\n",
      "Epoch 25/50\n",
      "34/34 - 0s - loss: 0.0054 - val_loss: 0.0010 - 77ms/epoch - 2ms/step\n",
      "Epoch 26/50\n",
      "34/34 - 0s - loss: 0.0088 - val_loss: 8.8404e-04 - 77ms/epoch - 2ms/step\n",
      "Epoch 27/50\n",
      "34/34 - 0s - loss: 0.0073 - val_loss: 0.0012 - 79ms/epoch - 2ms/step\n",
      "Epoch 28/50\n",
      "34/34 - 0s - loss: 0.0032 - val_loss: 6.0285e-04 - 76ms/epoch - 2ms/step\n",
      "Epoch 29/50\n",
      "34/34 - 0s - loss: 0.0022 - val_loss: 5.4294e-04 - 76ms/epoch - 2ms/step\n",
      "Epoch 30/50\n",
      "34/34 - 0s - loss: 0.0049 - val_loss: 6.7114e-04 - 77ms/epoch - 2ms/step\n",
      "Epoch 31/50\n",
      "34/34 - 0s - loss: 0.0084 - val_loss: 2.2199e-04 - 78ms/epoch - 2ms/step\n",
      "Epoch 32/50\n",
      "34/34 - 0s - loss: 0.0044 - val_loss: 3.2806e-04 - 78ms/epoch - 2ms/step\n",
      "Epoch 33/50\n",
      "34/34 - 0s - loss: 0.0040 - val_loss: 7.3027e-04 - 77ms/epoch - 2ms/step\n",
      "Epoch 34/50\n",
      "34/34 - 0s - loss: 0.0094 - val_loss: 8.4954e-04 - 76ms/epoch - 2ms/step\n",
      "Epoch 35/50\n",
      "34/34 - 0s - loss: 0.0053 - val_loss: 9.8203e-04 - 76ms/epoch - 2ms/step\n",
      "Epoch 36/50\n",
      "34/34 - 0s - loss: 0.0039 - val_loss: 5.9511e-04 - 89ms/epoch - 3ms/step\n",
      "Epoch 37/50\n",
      "34/34 - 0s - loss: 0.0076 - val_loss: 0.0011 - 79ms/epoch - 2ms/step\n",
      "Epoch 38/50\n",
      "34/34 - 0s - loss: 0.0066 - val_loss: 0.0015 - 78ms/epoch - 2ms/step\n",
      "Epoch 39/50\n",
      "34/34 - 0s - loss: 0.0028 - val_loss: 4.0564e-04 - 78ms/epoch - 2ms/step\n",
      "Epoch 40/50\n",
      "34/34 - 0s - loss: 0.0028 - val_loss: 8.6770e-04 - 80ms/epoch - 2ms/step\n",
      "Epoch 41/50\n",
      "34/34 - 0s - loss: 0.0033 - val_loss: 7.0109e-04 - 78ms/epoch - 2ms/step\n",
      "Epoch 42/50\n",
      "34/34 - 0s - loss: 0.0024 - val_loss: 6.7331e-04 - 78ms/epoch - 2ms/step\n",
      "Epoch 43/50\n",
      "34/34 - 0s - loss: 0.0030 - val_loss: 3.2559e-04 - 77ms/epoch - 2ms/step\n",
      "Epoch 44/50\n",
      "34/34 - 0s - loss: 0.0032 - val_loss: 9.1288e-04 - 77ms/epoch - 2ms/step\n",
      "Epoch 45/50\n",
      "34/34 - 0s - loss: 0.0062 - val_loss: 0.0010 - 77ms/epoch - 2ms/step\n",
      "Epoch 46/50\n",
      "34/34 - 0s - loss: 0.0094 - val_loss: 0.0011 - 77ms/epoch - 2ms/step\n",
      "Epoch 47/50\n",
      "34/34 - 0s - loss: 0.0072 - val_loss: 2.0793e-04 - 76ms/epoch - 2ms/step\n",
      "Epoch 48/50\n",
      "34/34 - 0s - loss: 0.0040 - val_loss: 2.7810e-04 - 77ms/epoch - 2ms/step\n",
      "Epoch 49/50\n",
      "34/34 - 0s - loss: 0.0062 - val_loss: 7.8038e-04 - 77ms/epoch - 2ms/step\n",
      "Epoch 50/50\n",
      "34/34 - 0s - loss: 0.0118 - val_loss: 4.5194e-04 - 78ms/epoch - 2ms/step\n"
     ]
    }
   ],
   "source": [
    "# design network\n",
    "model = Sequential()\n",
    "model.add(LSTM(50, input_shape=(train_X.shape[1], train_X.shape[2])))\n",
    "model.add(Dense(1))\n",
    "model.compile(loss='mae', optimizer='adam')\n",
    "# fit network\n",
    "history = model.fit(train_X, train_y, epochs=50, batch_size=72,\n",
    "                    validation_data=(test_X, test_y), verbose=2, shuffle=False)\n"
   ]
  },
  {
   "cell_type": "code",
   "execution_count": 12,
   "metadata": {},
   "outputs": [
    {
     "data": {
      "image/png": "[encoded data removed]",
      "text/plain": [
       "<Figure size 640x480 with 1 Axes>"
      ]
     },
     "metadata": {},
     "output_type": "display_data"
    }
   ],
   "source": [
    "# plot history\n",
    "from matplotlib import pyplot\n",
    "pyplot.plot(history.history['loss'], label='train')\n",
    "pyplot.plot(history.history['val_loss'], label='test')\n",
    "pyplot.legend()\n",
    "pyplot.show()\n"
   ]
  },
  {
   "cell_type": "code",
   "execution_count": 13,
   "metadata": {},
   "outputs": [
    {
     "name": "stdout",
     "output_type": "stream",
     "text": [
      "14/14 [==============================] - 0s 924us/step\n",
      "Test RMSE: 0.009\n"
     ]
    }
   ],
   "source": [
    "# make a prediction\n",
    "yhat = model.predict(test_X)\n",
    "test_X = test_X.reshape((test_X.shape[0], test_X.shape[2]))\n",
    "# invert scaling for forecast\n",
    "inv_yhat = concatenate((yhat, test_X[:, 1:]), axis=1)\n",
    "inv_yhat = scaler.inverse_transform(inv_yhat)\n",
    "inv_yhat = inv_yhat[:, 0]\n",
    "# invert scaling for actual\n",
    "test_y = test_y.reshape((len(test_y), 1))\n",
    "inv_y = concatenate((test_y, test_X[:, 1:]), axis=1)\n",
    "inv_y = scaler.inverse_transform(inv_y)\n",
    "inv_y = inv_y[:, 0]\n",
    "# calculate RMSE\n",
    "rmse = sqrt(mean_squared_error(inv_y, inv_yhat))\n",
    "print('Test RMSE: %.3f' % rmse)\n"
   ]
  }
 ],
 "metadata": {
  "kernelspec": {
   "display_name": "base",
   "language": "python",
   "name": "python3"
  },
  "language_info": {
   "codemirror_mode": {
    "name": "ipython",
    "version": 3
   },
   "file_extension": ".py",
   "mimetype": "text/x-python",
   "name": "python",
   "nbconvert_exporter": "python",
   "pygments_lexer": "ipython3",
   "version": "3.9.13"
  },
  "orig_nbformat": 4,
  "vscode": {
   "interpreter": {
    "hash": "55c776d72a9b0466125c350da11e498208ea13e5f5204f0dfc7e1bd4072fa31d"
   }
  }
 },
 "nbformat": 4,
 "nbformat_minor": 2
}
