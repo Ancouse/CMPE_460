{
 "cells": [
  {
   "cell_type": "code",
   "execution_count": 63,
   "metadata": {},
   "outputs": [],
   "source": [
    "import pandas as pd\n",
    "import numpy as np\n",
    "from keras.models import Sequential\n",
    "from keras.layers import LSTM\n",
    "from keras.layers import Dense\n",
    "import datetime\n",
    "\n",
    "from math import sqrt\n",
    "from numpy import concatenate\n",
    "from matplotlib import pyplot\n",
    "\n",
    "from pandas import concat\n",
    "from sklearn.preprocessing import MinMaxScaler\n",
    "from sklearn.preprocessing import LabelEncoder\n",
    "from sklearn.metrics import mean_squared_error\n",
    "from pandas import read_csv\n"
   ]
  },
  {
   "cell_type": "code",
   "execution_count": 64,
   "metadata": {},
   "outputs": [],
   "source": [
    "def series_to_supervised(data, n_in=1, n_out=1, dropnan=True):\n",
    "\tn_vars = 1 if type(data) is list else data.shape[1]\n",
    "\tdf = pd.DataFrame(data)\n",
    "\tcols, names = list(), list()\n",
    "\t# input sequence (t-n, ... t-1)\n",
    "\tfor i in range(n_in, 0, -1):\n",
    "\t\tcols.append(df.shift(i))\n",
    "\t\tnames += [('var%d(t-%d)' % (j+1, i)) for j in range(n_vars)]\n",
    "\t# forecast sequence (t, t+1, ... t+n)\n",
    "\tfor i in range(0, n_out):\n",
    "\t\tcols.append(df.shift(-i))\n",
    "\t\tif i == 0:\n",
    "\t\t\tnames += [('var%d(t)' % (j+1)) for j in range(n_vars)]\n",
    "\t\telse:\n",
    "\t\t\tnames += [('var%d(t+%d)' % (j+1, i)) for j in range(n_vars)]\n",
    "\t# put it all together\n",
    "\tagg = concat(cols, axis=1)\n",
    "\tagg.columns = names\n",
    "\t# drop rows with NaN values\n",
    "\tif dropnan:\n",
    "\t\tagg.dropna(inplace=True)\n",
    "\treturn agg\n"
   ]
  },
  {
   "cell_type": "code",
   "execution_count": 65,
   "metadata": {},
   "outputs": [
    {
     "name": "stdout",
     "output_type": "stream",
     "text": [
      "<class 'pandas.core.frame.DataFrame'>\n",
      "Index: 2865 entries, 30.12.2022 to 02.01.2012\n",
      "Data columns (total 4 columns):\n",
      " #   Column  Non-Null Count  Dtype  \n",
      "---  ------  --------------  -----  \n",
      " 0   Şimdi   2865 non-null   float64\n",
      " 1   Açılış  2865 non-null   float64\n",
      " 2   Yüksek  2865 non-null   float64\n",
      " 3   Düşük   2865 non-null   float64\n",
      "dtypes: float64(4)\n",
      "memory usage: 111.9+ KB\n"
     ]
    }
   ],
   "source": [
    "# load dataset\n",
    "dataset = read_csv('csv files/XAU_USD.csv', header=0, index_col=0)\n",
    "dataset = dataset.drop(['Hac.', 'Fark %'], axis=1)\n",
    "\n",
    "dataset['Şimdi'] = dataset['Şimdi'].apply(\n",
    "    lambda x: float(x.split()[0].replace(',', '')))\n",
    "\n",
    "dataset['Açılış'] = dataset['Açılış'].apply(\n",
    "    lambda x: float(x.split()[0].replace(',', '')))\n",
    "\n",
    "dataset['Yüksek'] = dataset['Yüksek'].apply(\n",
    "    lambda x: float(x.split()[0].replace(',', '')))\n",
    "\n",
    "dataset['Düşük'] = dataset['Düşük'].apply(\n",
    "    lambda x: float(x.split()[0].replace(',', '')))\n",
    "\n",
    "\n",
    "dataset.info()\n"
   ]
  },
  {
   "cell_type": "code",
   "execution_count": 66,
   "metadata": {},
   "outputs": [
    {
     "data": {
      "text/html": [
       "<div>\n",
       "<style scoped>\n",
       "    .dataframe tbody tr th:only-of-type {\n",
       "        vertical-align: middle;\n",
       "    }\n",
       "\n",
       "    .dataframe tbody tr th {\n",
       "        vertical-align: top;\n",
       "    }\n",
       "\n",
       "    .dataframe thead th {\n",
       "        text-align: right;\n",
       "    }\n",
       "</style>\n",
       "<table border=\"1\" class=\"dataframe\">\n",
       "  <thead>\n",
       "    <tr style=\"text-align: right;\">\n",
       "      <th></th>\n",
       "      <th>Şimdi</th>\n",
       "      <th>Açılış</th>\n",
       "      <th>Yüksek</th>\n",
       "      <th>Düşük</th>\n",
       "    </tr>\n",
       "    <tr>\n",
       "      <th>Tarih</th>\n",
       "      <th></th>\n",
       "      <th></th>\n",
       "      <th></th>\n",
       "      <th></th>\n",
       "    </tr>\n",
       "  </thead>\n",
       "  <tbody>\n",
       "    <tr>\n",
       "      <th>30.12.2022</th>\n",
       "      <td>1.82440</td>\n",
       "      <td>1.81514</td>\n",
       "      <td>1.82673</td>\n",
       "      <td>1.80984</td>\n",
       "    </tr>\n",
       "    <tr>\n",
       "      <th>29.12.2022</th>\n",
       "      <td>1.81489</td>\n",
       "      <td>1.80416</td>\n",
       "      <td>1.82052</td>\n",
       "      <td>1.80202</td>\n",
       "    </tr>\n",
       "    <tr>\n",
       "      <th>28.12.2022</th>\n",
       "      <td>1.80409</td>\n",
       "      <td>1.81400</td>\n",
       "      <td>1.81518</td>\n",
       "      <td>1.79656</td>\n",
       "    </tr>\n",
       "    <tr>\n",
       "      <th>27.12.2022</th>\n",
       "      <td>1.81393</td>\n",
       "      <td>1.79667</td>\n",
       "      <td>1.83339</td>\n",
       "      <td>1.79620</td>\n",
       "    </tr>\n",
       "    <tr>\n",
       "      <th>26.12.2022</th>\n",
       "      <td>1.79761</td>\n",
       "      <td>1.79857</td>\n",
       "      <td>1.79878</td>\n",
       "      <td>1.79804</td>\n",
       "    </tr>\n",
       "    <tr>\n",
       "      <th>23.12.2022</th>\n",
       "      <td>1.79791</td>\n",
       "      <td>1.79265</td>\n",
       "      <td>1.80360</td>\n",
       "      <td>1.78962</td>\n",
       "    </tr>\n",
       "    <tr>\n",
       "      <th>22.12.2022</th>\n",
       "      <td>1.79257</td>\n",
       "      <td>1.81420</td>\n",
       "      <td>1.82110</td>\n",
       "      <td>1.78411</td>\n",
       "    </tr>\n",
       "    <tr>\n",
       "      <th>21.12.2022</th>\n",
       "      <td>1.81413</td>\n",
       "      <td>1.81806</td>\n",
       "      <td>1.82439</td>\n",
       "      <td>1.81124</td>\n",
       "    </tr>\n",
       "    <tr>\n",
       "      <th>20.12.2022</th>\n",
       "      <td>1.81741</td>\n",
       "      <td>1.78749</td>\n",
       "      <td>1.82160</td>\n",
       "      <td>1.78421</td>\n",
       "    </tr>\n",
       "    <tr>\n",
       "      <th>19.12.2022</th>\n",
       "      <td>1.78744</td>\n",
       "      <td>1.79313</td>\n",
       "      <td>1.79910</td>\n",
       "      <td>1.78348</td>\n",
       "    </tr>\n",
       "  </tbody>\n",
       "</table>\n",
       "</div>"
      ],
      "text/plain": [
       "              Şimdi   Açılış   Yüksek    Düşük\n",
       "Tarih                                         \n",
       "30.12.2022  1.82440  1.81514  1.82673  1.80984\n",
       "29.12.2022  1.81489  1.80416  1.82052  1.80202\n",
       "28.12.2022  1.80409  1.81400  1.81518  1.79656\n",
       "27.12.2022  1.81393  1.79667  1.83339  1.79620\n",
       "26.12.2022  1.79761  1.79857  1.79878  1.79804\n",
       "23.12.2022  1.79791  1.79265  1.80360  1.78962\n",
       "22.12.2022  1.79257  1.81420  1.82110  1.78411\n",
       "21.12.2022  1.81413  1.81806  1.82439  1.81124\n",
       "20.12.2022  1.81741  1.78749  1.82160  1.78421\n",
       "19.12.2022  1.78744  1.79313  1.79910  1.78348"
      ]
     },
     "execution_count": 66,
     "metadata": {},
     "output_type": "execute_result"
    }
   ],
   "source": [
    "dataset.head(10)"
   ]
  },
  {
   "cell_type": "code",
   "execution_count": 67,
   "metadata": {},
   "outputs": [
    {
     "name": "stdout",
     "output_type": "stream",
     "text": [
      "   var1(t-1)  var2(t-1)  var3(t-1)  var4(t-1)   var1(t)\n",
      "1   0.763445   0.753772   0.756626   0.772411  0.754049\n",
      "2   0.754049   0.742930   0.750487   0.764501  0.743377\n",
      "3   0.743377   0.752646   0.745208   0.758978  0.753100\n",
      "4   0.753100   0.735535   0.763211   0.758613  0.736975\n",
      "5   0.736975   0.737411   0.728994   0.760475  0.737271\n"
     ]
    }
   ],
   "source": [
    "values = dataset.values\n",
    "# normalize features\n",
    "scaler = MinMaxScaler(feature_range=(0, 1))\n",
    "scaled = scaler.fit_transform(values)\n",
    "# frame as supervised learning\n",
    "reframed = series_to_supervised(scaled, 1, 1)\n",
    "# drop columns we don't want to predict\n",
    "reframed.drop(\n",
    "\treframed.columns[[5, 6, 7]], axis=1, inplace=True)\n",
    "print(reframed.head())\n"
   ]
  },
  {
   "cell_type": "code",
   "execution_count": 68,
   "metadata": {},
   "outputs": [
    {
     "name": "stdout",
     "output_type": "stream",
     "text": [
      "(2435, 1, 4) (2435,) (429, 1, 4) (429,)\n"
     ]
    }
   ],
   "source": [
    "\n",
    "# split into train and test sets\n",
    "values = reframed.values\n",
    "n_train_hours = int(len(dataset)*0.85)\n",
    "train = values[:n_train_hours, :]\n",
    "test = values[n_train_hours:, :]\n",
    "# split into input and outputs\n",
    "train_X, train_y = train[:, :-1], train[:, -1]\n",
    "test_X, test_y = test[:, :-1], test[:, -1]\n",
    "# reshape input to be 3D [samples, timesteps, features]\n",
    "train_X = train_X.reshape((train_X.shape[0], 1, train_X.shape[1]))\n",
    "test_X = test_X.reshape((test_X.shape[0], 1, test_X.shape[1]))\n",
    "print(train_X.shape, train_y.shape, test_X.shape, test_y.shape)\n"
   ]
  },
  {
   "cell_type": "code",
   "execution_count": 69,
   "metadata": {},
   "outputs": [
    {
     "name": "stdout",
     "output_type": "stream",
     "text": [
      "Epoch 1/50\n",
      "34/34 - 2s - loss: 0.2968 - val_loss: 0.2680 - 2s/epoch - 69ms/step\n",
      "Epoch 2/50\n",
      "34/34 - 0s - loss: 0.1529 - val_loss: 0.1246 - 76ms/epoch - 2ms/step\n",
      "Epoch 3/50\n",
      "34/34 - 0s - loss: 0.1026 - val_loss: 0.0662 - 75ms/epoch - 2ms/step\n",
      "Epoch 4/50\n",
      "34/34 - 0s - loss: 0.0598 - val_loss: 0.0390 - 76ms/epoch - 2ms/step\n",
      "Epoch 5/50\n",
      "34/34 - 0s - loss: 0.0204 - val_loss: 0.0304 - 75ms/epoch - 2ms/step\n",
      "Epoch 6/50\n",
      "34/34 - 0s - loss: 0.0117 - val_loss: 0.0149 - 83ms/epoch - 2ms/step\n",
      "Epoch 7/50\n",
      "34/34 - 0s - loss: 0.0101 - val_loss: 0.0103 - 78ms/epoch - 2ms/step\n",
      "Epoch 8/50\n",
      "34/34 - 0s - loss: 0.0106 - val_loss: 0.0103 - 79ms/epoch - 2ms/step\n",
      "Epoch 9/50\n",
      "34/34 - 0s - loss: 0.0122 - val_loss: 0.0159 - 81ms/epoch - 2ms/step\n",
      "Epoch 10/50\n",
      "34/34 - 0s - loss: 0.0160 - val_loss: 0.0188 - 75ms/epoch - 2ms/step\n",
      "Epoch 11/50\n",
      "34/34 - 0s - loss: 0.0172 - val_loss: 0.0275 - 76ms/epoch - 2ms/step\n",
      "Epoch 12/50\n",
      "34/34 - 0s - loss: 0.0233 - val_loss: 0.0394 - 79ms/epoch - 2ms/step\n",
      "Epoch 13/50\n",
      "34/34 - 0s - loss: 0.0252 - val_loss: 0.0289 - 76ms/epoch - 2ms/step\n",
      "Epoch 14/50\n",
      "34/34 - 0s - loss: 0.0187 - val_loss: 0.0183 - 76ms/epoch - 2ms/step\n",
      "Epoch 15/50\n",
      "34/34 - 0s - loss: 0.0149 - val_loss: 0.0265 - 76ms/epoch - 2ms/step\n",
      "Epoch 16/50\n",
      "34/34 - 0s - loss: 0.0224 - val_loss: 0.0373 - 102ms/epoch - 3ms/step\n",
      "Epoch 17/50\n",
      "34/34 - 0s - loss: 0.0227 - val_loss: 0.0257 - 75ms/epoch - 2ms/step\n",
      "Epoch 18/50\n",
      "34/34 - 0s - loss: 0.0162 - val_loss: 0.0195 - 76ms/epoch - 2ms/step\n",
      "Epoch 19/50\n",
      "34/34 - 0s - loss: 0.0160 - val_loss: 0.0284 - 80ms/epoch - 2ms/step\n",
      "Epoch 20/50\n",
      "34/34 - 0s - loss: 0.0215 - val_loss: 0.0377 - 87ms/epoch - 3ms/step\n",
      "Epoch 21/50\n",
      "34/34 - 0s - loss: 0.0221 - val_loss: 0.0255 - 123ms/epoch - 4ms/step\n",
      "Epoch 22/50\n",
      "34/34 - 0s - loss: 0.0149 - val_loss: 0.0186 - 75ms/epoch - 2ms/step\n",
      "Epoch 23/50\n",
      "34/34 - 0s - loss: 0.0145 - val_loss: 0.0260 - 74ms/epoch - 2ms/step\n",
      "Epoch 24/50\n",
      "34/34 - 0s - loss: 0.0193 - val_loss: 0.0362 - 75ms/epoch - 2ms/step\n",
      "Epoch 25/50\n",
      "34/34 - 0s - loss: 0.0215 - val_loss: 0.0290 - 74ms/epoch - 2ms/step\n",
      "Epoch 26/50\n",
      "34/34 - 0s - loss: 0.0165 - val_loss: 0.0193 - 75ms/epoch - 2ms/step\n",
      "Epoch 27/50\n",
      "34/34 - 0s - loss: 0.0130 - val_loss: 0.0276 - 73ms/epoch - 2ms/step\n",
      "Epoch 28/50\n",
      "34/34 - 0s - loss: 0.0200 - val_loss: 0.0386 - 76ms/epoch - 2ms/step\n",
      "Epoch 29/50\n",
      "34/34 - 0s - loss: 0.0205 - val_loss: 0.0248 - 73ms/epoch - 2ms/step\n",
      "Epoch 30/50\n",
      "34/34 - 0s - loss: 0.0129 - val_loss: 0.0194 - 73ms/epoch - 2ms/step\n",
      "Epoch 31/50\n",
      "34/34 - 0s - loss: 0.0134 - val_loss: 0.0268 - 75ms/epoch - 2ms/step\n",
      "Epoch 32/50\n",
      "34/34 - 0s - loss: 0.0182 - val_loss: 0.0372 - 74ms/epoch - 2ms/step\n",
      "Epoch 33/50\n",
      "34/34 - 0s - loss: 0.0199 - val_loss: 0.0287 - 76ms/epoch - 2ms/step\n",
      "Epoch 34/50\n",
      "34/34 - 0s - loss: 0.0147 - val_loss: 0.0192 - 75ms/epoch - 2ms/step\n",
      "Epoch 35/50\n",
      "34/34 - 0s - loss: 0.0117 - val_loss: 0.0291 - 75ms/epoch - 2ms/step\n",
      "Epoch 36/50\n",
      "34/34 - 0s - loss: 0.0188 - val_loss: 0.0372 - 76ms/epoch - 2ms/step\n",
      "Epoch 37/50\n",
      "34/34 - 0s - loss: 0.0182 - val_loss: 0.0242 - 74ms/epoch - 2ms/step\n",
      "Epoch 38/50\n",
      "34/34 - 0s - loss: 0.0121 - val_loss: 0.0227 - 75ms/epoch - 2ms/step\n",
      "Epoch 39/50\n",
      "34/34 - 0s - loss: 0.0137 - val_loss: 0.0310 - 75ms/epoch - 2ms/step\n",
      "Epoch 40/50\n",
      "34/34 - 0s - loss: 0.0186 - val_loss: 0.0362 - 76ms/epoch - 2ms/step\n",
      "Epoch 41/50\n",
      "34/34 - 0s - loss: 0.0172 - val_loss: 0.0235 - 75ms/epoch - 2ms/step\n",
      "Epoch 42/50\n",
      "34/34 - 0s - loss: 0.0117 - val_loss: 0.0247 - 76ms/epoch - 2ms/step\n",
      "Epoch 43/50\n",
      "34/34 - 0s - loss: 0.0145 - val_loss: 0.0319 - 75ms/epoch - 2ms/step\n",
      "Epoch 44/50\n",
      "34/34 - 0s - loss: 0.0178 - val_loss: 0.0329 - 75ms/epoch - 2ms/step\n",
      "Epoch 45/50\n",
      "34/34 - 0s - loss: 0.0160 - val_loss: 0.0234 - 75ms/epoch - 2ms/step\n",
      "Epoch 46/50\n",
      "34/34 - 0s - loss: 0.0116 - val_loss: 0.0262 - 76ms/epoch - 2ms/step\n",
      "Epoch 47/50\n",
      "34/34 - 0s - loss: 0.0146 - val_loss: 0.0324 - 75ms/epoch - 2ms/step\n",
      "Epoch 48/50\n",
      "34/34 - 0s - loss: 0.0172 - val_loss: 0.0310 - 74ms/epoch - 2ms/step\n",
      "Epoch 49/50\n",
      "34/34 - 0s - loss: 0.0147 - val_loss: 0.0233 - 75ms/epoch - 2ms/step\n",
      "Epoch 50/50\n",
      "34/34 - 0s - loss: 0.0119 - val_loss: 0.0294 - 73ms/epoch - 2ms/step\n"
     ]
    }
   ],
   "source": [
    "# design network\n",
    "model = Sequential()\n",
    "model.add(LSTM(50, input_shape=(train_X.shape[1], train_X.shape[2])))\n",
    "model.add(Dense(1))\n",
    "model.compile(loss='mae', optimizer='adam')\n",
    "# fit network\n",
    "history = model.fit(train_X, train_y, epochs=50, batch_size=72,\n",
    "                    validation_data=(test_X, test_y), verbose=2, shuffle=False)\n"
   ]
  },
  {
   "cell_type": "code",
   "execution_count": 70,
   "metadata": {},
   "outputs": [
    {
     "data": {
      "image/png": "[encoded data removed]",
      "text/plain": [
       "<Figure size 640x480 with 1 Axes>"
      ]
     },
     "metadata": {},
     "output_type": "display_data"
    }
   ],
   "source": [
    "# plot history\n",
    "from matplotlib import pyplot\n",
    "pyplot.plot(history.history['loss'], label='train')\n",
    "pyplot.plot(history.history['val_loss'], label='test')\n",
    "pyplot.legend()\n",
    "pyplot.show()\n"
   ]
  },
  {
   "cell_type": "code",
   "execution_count": 71,
   "metadata": {},
   "outputs": [
    {
     "name": "stdout",
     "output_type": "stream",
     "text": [
      "14/14 [==============================] - 0s 1ms/step\n",
      "Test RMSE: 0.033\n"
     ]
    }
   ],
   "source": [
    "# make a prediction\n",
    "yhat = model.predict(test_X)\n",
    "test_X = test_X.reshape((test_X.shape[0], test_X.shape[2]))\n",
    "# invert scaling for forecast\n",
    "inv_yhat = concatenate((yhat, test_X[:, 1:]), axis=1)\n",
    "inv_yhat = scaler.inverse_transform(inv_yhat)\n",
    "inv_yhat = inv_yhat[:, 0]\n",
    "# invert scaling for actual\n",
    "test_y = test_y.reshape((len(test_y), 1))\n",
    "inv_y = concatenate((test_y, test_X[:, 1:]), axis=1)\n",
    "inv_y = scaler.inverse_transform(inv_y)\n",
    "inv_y = inv_y[:, 0]\n",
    "# calculate RMSE\n",
    "rmse = sqrt(mean_squared_error(inv_y, inv_yhat))\n",
    "print('Test RMSE: %.3f' % rmse)\n"
   ]
  }
 ],
 "metadata": {
  "kernelspec": {
   "display_name": "base",
   "language": "python",
   "name": "python3"
  },
  "language_info": {
   "codemirror_mode": {
    "name": "ipython",
    "version": 3
   },
   "file_extension": ".py",
   "mimetype": "text/x-python",
   "name": "python",
   "nbconvert_exporter": "python",
   "pygments_lexer": "ipython3",
   "version": "3.9.13"
  },
  "orig_nbformat": 4,
  "vscode": {
   "interpreter": {
    "hash": "55c776d72a9b0466125c350da11e498208ea13e5f5204f0dfc7e1bd4072fa31d"
   }
  }
 },
 "nbformat": 4,
 "nbformat_minor": 2
}
