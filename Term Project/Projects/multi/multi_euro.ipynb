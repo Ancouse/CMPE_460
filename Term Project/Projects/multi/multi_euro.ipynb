{
 "cells": [
  {
   "cell_type": "code",
   "execution_count": 5,
   "metadata": {},
   "outputs": [],
   "source": [
    "import pandas as pd\n",
    "import numpy as np\n",
    "from keras.models import Sequential\n",
    "from keras.layers import LSTM\n",
    "from keras.layers import Dense\n",
    "import datetime\n"
   ]
  },
  {
   "cell_type": "code",
   "execution_count": 6,
   "metadata": {},
   "outputs": [],
   "source": [
    "\n",
    "from math import sqrt\n",
    "from numpy import concatenate\n",
    "from matplotlib import pyplot\n",
    "from pandas import read_csv\n",
    "from pandas import DataFrame\n",
    "from pandas import concat\n",
    "from sklearn.preprocessing import MinMaxScaler\n",
    "from sklearn.preprocessing import LabelEncoder\n",
    "from sklearn.metrics import mean_squared_error\n",
    "from keras.models import Sequential\n",
    "from keras.layers import Dense\n",
    "from keras.layers import LSTM\n"
   ]
  },
  {
   "cell_type": "code",
   "execution_count": 7,
   "metadata": {},
   "outputs": [],
   "source": [
    "def series_to_supervised(data, n_in=1, n_out=1, dropnan=True):\n",
    "\tn_vars = 1 if type(data) is list else data.shape[1]\n",
    "\tdf = DataFrame(data)\n",
    "\tcols, names = list(), list()\n",
    "\t# input sequence (t-n, ... t-1)\n",
    "\tfor i in range(n_in, 0, -1):\n",
    "\t\tcols.append(df.shift(i))\n",
    "\t\tnames += [('var%d(t-%d)' % (j+1, i)) for j in range(n_vars)]\n",
    "\t# forecast sequence (t, t+1, ... t+n)\n",
    "\tfor i in range(0, n_out):\n",
    "\t\tcols.append(df.shift(-i))\n",
    "\t\tif i == 0:\n",
    "\t\t\tnames += [('var%d(t)' % (j+1)) for j in range(n_vars)]\n",
    "\t\telse:\n",
    "\t\t\tnames += [('var%d(t+%d)' % (j+1, i)) for j in range(n_vars)]\n",
    "\t# put it all together\n",
    "\tagg = concat(cols, axis=1)\n",
    "\tagg.columns = names\n",
    "\t# drop rows with NaN values\n",
    "\tif dropnan:\n",
    "\t\tagg.dropna(inplace=True)\n",
    "\treturn agg"
   ]
  },
  {
   "cell_type": "code",
   "execution_count": 8,
   "metadata": {},
   "outputs": [
    {
     "name": "stdout",
     "output_type": "stream",
     "text": [
      "<class 'pandas.core.frame.DataFrame'>\n",
      "Index: 2870 entries, 30.12.2022 to 02.01.2012\n",
      "Data columns (total 4 columns):\n",
      " #   Column  Non-Null Count  Dtype  \n",
      "---  ------  --------------  -----  \n",
      " 0   Şimdi   2870 non-null   float64\n",
      " 1   Açılış  2870 non-null   float64\n",
      " 2   Yüksek  2870 non-null   float64\n",
      " 3   Düşük   2870 non-null   float64\n",
      "dtypes: float64(4)\n",
      "memory usage: 112.1+ KB\n"
     ]
    }
   ],
   "source": [
    "# load dataset\n",
    "dataset = read_csv('csv files/EUR_USD.csv', header=0, index_col=0)\n",
    "dataset = dataset.drop(['Hac.', 'Fark %'], axis=1)\n",
    "\n",
    "dataset['Şimdi'] = dataset['Şimdi'].apply(\n",
    "    lambda x: float(x.split()[0].replace(',', '.')))\n",
    "\n",
    "dataset['Açılış'] = dataset['Açılış'].apply(\n",
    "    lambda x: float(x.split()[0].replace(',', '.')))\n",
    "\n",
    "dataset['Yüksek'] = dataset['Yüksek'].apply(\n",
    "    lambda x: float(x.split()[0].replace(',', '.')))\n",
    "\n",
    "dataset['Düşük'] = dataset['Düşük'].apply(\n",
    "    lambda x: float(x.split()[0].replace(',', '.')))\n",
    "\n",
    "\n",
    "dataset.info()"
   ]
  },
  {
   "cell_type": "code",
   "execution_count": 9,
   "metadata": {},
   "outputs": [
    {
     "name": "stdout",
     "output_type": "stream",
     "text": [
      "   var1(t-1)  var2(t-1)  var3(t-1)  var4(t-1)   var1(t)\n",
      "1   0.255643   0.246370   0.241323   0.252343  0.246200\n",
      "2   0.246200   0.233925   0.236002   0.245486  0.233994\n",
      "3   0.233994   0.241530   0.232300   0.244800  0.240903\n",
      "4   0.240903   0.240608   0.231143   0.245943  0.240212\n",
      "5   0.240212   0.234386   0.223739   0.244343  0.235375\n"
     ]
    }
   ],
   "source": [
    "values = dataset.values\n",
    "# normalize features\n",
    "scaler = MinMaxScaler(feature_range=(0, 1))\n",
    "scaled = scaler.fit_transform(values)\n",
    "# frame as supervised learning\n",
    "reframed = series_to_supervised(scaled, 1, 1)\n",
    "# drop columns we don't want to predict\n",
    "reframed.drop(\n",
    "\treframed.columns[[5,6,7]], axis=1, inplace=True)\n",
    "print(reframed.head())\n"
   ]
  },
  {
   "cell_type": "code",
   "execution_count": 10,
   "metadata": {},
   "outputs": [
    {
     "name": "stdout",
     "output_type": "stream",
     "text": [
      "(2439, 1, 4) (2439,) (430, 1, 4) (430,)\n"
     ]
    }
   ],
   "source": [
    "\n",
    "# split into train and test sets\n",
    "values = reframed.values\n",
    "n_train_hours = int(len(dataset)*0.85)\n",
    "train = values[:n_train_hours, :]\n",
    "test = values[n_train_hours:, :]\n",
    "# split into input and outputs\n",
    "train_X, train_y = train[:, :-1], train[:, -1]\n",
    "test_X, test_y = test[:, :-1], test[:, -1]\n",
    "# reshape input to be 3D [samples, timesteps, features]\n",
    "train_X = train_X.reshape((train_X.shape[0], 1, train_X.shape[1]))\n",
    "test_X = test_X.reshape((test_X.shape[0], 1, test_X.shape[1]))\n",
    "print(train_X.shape, train_y.shape, test_X.shape, test_y.shape)\n"
   ]
  },
  {
   "cell_type": "code",
   "execution_count": 11,
   "metadata": {},
   "outputs": [
    {
     "name": "stdout",
     "output_type": "stream",
     "text": [
      "Epoch 1/50\n",
      "34/34 - 2s - loss: 0.3191 - val_loss: 0.3533 - 2s/epoch - 71ms/step\n",
      "Epoch 2/50\n",
      "34/34 - 0s - loss: 0.0637 - val_loss: 0.0281 - 86ms/epoch - 3ms/step\n",
      "Epoch 3/50\n",
      "34/34 - 0s - loss: 0.0604 - val_loss: 0.1007 - 76ms/epoch - 2ms/step\n",
      "Epoch 4/50\n",
      "34/34 - 0s - loss: 0.0386 - val_loss: 0.0677 - 76ms/epoch - 2ms/step\n",
      "Epoch 5/50\n",
      "34/34 - 0s - loss: 0.0231 - val_loss: 0.0142 - 80ms/epoch - 2ms/step\n",
      "Epoch 6/50\n",
      "34/34 - 0s - loss: 0.0153 - val_loss: 0.0201 - 79ms/epoch - 2ms/step\n",
      "Epoch 7/50\n",
      "34/34 - 0s - loss: 0.0121 - val_loss: 0.0154 - 77ms/epoch - 2ms/step\n",
      "Epoch 8/50\n",
      "34/34 - 0s - loss: 0.0122 - val_loss: 0.0125 - 78ms/epoch - 2ms/step\n",
      "Epoch 9/50\n",
      "34/34 - 0s - loss: 0.0112 - val_loss: 0.0146 - 77ms/epoch - 2ms/step\n",
      "Epoch 10/50\n",
      "34/34 - 0s - loss: 0.0114 - val_loss: 0.0142 - 78ms/epoch - 2ms/step\n",
      "Epoch 11/50\n",
      "34/34 - 0s - loss: 0.0110 - val_loss: 0.0140 - 78ms/epoch - 2ms/step\n",
      "Epoch 12/50\n",
      "34/34 - 0s - loss: 0.0109 - val_loss: 0.0138 - 76ms/epoch - 2ms/step\n",
      "Epoch 13/50\n",
      "34/34 - 0s - loss: 0.0108 - val_loss: 0.0132 - 76ms/epoch - 2ms/step\n",
      "Epoch 14/50\n",
      "34/34 - 0s - loss: 0.0105 - val_loss: 0.0130 - 77ms/epoch - 2ms/step\n",
      "Epoch 15/50\n",
      "34/34 - 0s - loss: 0.0103 - val_loss: 0.0129 - 80ms/epoch - 2ms/step\n",
      "Epoch 16/50\n",
      "34/34 - 0s - loss: 0.0102 - val_loss: 0.0122 - 79ms/epoch - 2ms/step\n",
      "Epoch 17/50\n",
      "34/34 - 0s - loss: 0.0098 - val_loss: 0.0127 - 74ms/epoch - 2ms/step\n",
      "Epoch 18/50\n",
      "34/34 - 0s - loss: 0.0098 - val_loss: 0.0121 - 77ms/epoch - 2ms/step\n",
      "Epoch 19/50\n",
      "34/34 - 0s - loss: 0.0094 - val_loss: 0.0127 - 76ms/epoch - 2ms/step\n",
      "Epoch 20/50\n",
      "34/34 - 0s - loss: 0.0094 - val_loss: 0.0126 - 74ms/epoch - 2ms/step\n",
      "Epoch 21/50\n",
      "34/34 - 0s - loss: 0.0094 - val_loss: 0.0117 - 77ms/epoch - 2ms/step\n",
      "Epoch 22/50\n",
      "34/34 - 0s - loss: 0.0089 - val_loss: 0.0120 - 76ms/epoch - 2ms/step\n",
      "Epoch 23/50\n",
      "34/34 - 0s - loss: 0.0089 - val_loss: 0.0117 - 83ms/epoch - 2ms/step\n",
      "Epoch 24/50\n",
      "34/34 - 0s - loss: 0.0087 - val_loss: 0.0112 - 76ms/epoch - 2ms/step\n",
      "Epoch 25/50\n",
      "34/34 - 0s - loss: 0.0084 - val_loss: 0.0112 - 77ms/epoch - 2ms/step\n",
      "Epoch 26/50\n",
      "34/34 - 0s - loss: 0.0082 - val_loss: 0.0115 - 76ms/epoch - 2ms/step\n",
      "Epoch 27/50\n",
      "34/34 - 0s - loss: 0.0082 - val_loss: 0.0113 - 77ms/epoch - 2ms/step\n",
      "Epoch 28/50\n",
      "34/34 - 0s - loss: 0.0081 - val_loss: 0.0109 - 76ms/epoch - 2ms/step\n",
      "Epoch 29/50\n",
      "34/34 - 0s - loss: 0.0075 - val_loss: 0.0106 - 71ms/epoch - 2ms/step\n",
      "Epoch 30/50\n",
      "34/34 - 0s - loss: 0.0073 - val_loss: 0.0129 - 71ms/epoch - 2ms/step\n",
      "Epoch 31/50\n",
      "34/34 - 0s - loss: 0.0080 - val_loss: 0.0137 - 76ms/epoch - 2ms/step\n",
      "Epoch 32/50\n",
      "34/34 - 0s - loss: 0.0083 - val_loss: 0.0085 - 74ms/epoch - 2ms/step\n",
      "Epoch 33/50\n",
      "34/34 - 0s - loss: 0.0063 - val_loss: 0.0072 - 74ms/epoch - 2ms/step\n",
      "Epoch 34/50\n",
      "34/34 - 0s - loss: 0.0057 - val_loss: 0.0095 - 76ms/epoch - 2ms/step\n",
      "Epoch 35/50\n",
      "34/34 - 0s - loss: 0.0059 - val_loss: 0.0081 - 76ms/epoch - 2ms/step\n",
      "Epoch 36/50\n",
      "34/34 - 0s - loss: 0.0056 - val_loss: 0.0083 - 81ms/epoch - 2ms/step\n",
      "Epoch 37/50\n",
      "34/34 - 0s - loss: 0.0055 - val_loss: 0.0069 - 78ms/epoch - 2ms/step\n",
      "Epoch 38/50\n",
      "34/34 - 0s - loss: 0.0053 - val_loss: 0.0066 - 75ms/epoch - 2ms/step\n",
      "Epoch 39/50\n",
      "34/34 - 0s - loss: 0.0053 - val_loss: 0.0064 - 77ms/epoch - 2ms/step\n",
      "Epoch 40/50\n",
      "34/34 - 0s - loss: 0.0052 - val_loss: 0.0063 - 78ms/epoch - 2ms/step\n",
      "Epoch 41/50\n",
      "34/34 - 0s - loss: 0.0052 - val_loss: 0.0062 - 76ms/epoch - 2ms/step\n",
      "Epoch 42/50\n",
      "34/34 - 0s - loss: 0.0051 - val_loss: 0.0060 - 77ms/epoch - 2ms/step\n",
      "Epoch 43/50\n",
      "34/34 - 0s - loss: 0.0051 - val_loss: 0.0060 - 76ms/epoch - 2ms/step\n",
      "Epoch 44/50\n",
      "34/34 - 0s - loss: 0.0051 - val_loss: 0.0059 - 74ms/epoch - 2ms/step\n",
      "Epoch 45/50\n",
      "34/34 - 0s - loss: 0.0050 - val_loss: 0.0059 - 75ms/epoch - 2ms/step\n",
      "Epoch 46/50\n",
      "34/34 - 0s - loss: 0.0051 - val_loss: 0.0059 - 73ms/epoch - 2ms/step\n",
      "Epoch 47/50\n",
      "34/34 - 0s - loss: 0.0053 - val_loss: 0.0059 - 75ms/epoch - 2ms/step\n",
      "Epoch 48/50\n",
      "34/34 - 0s - loss: 0.0052 - val_loss: 0.0060 - 75ms/epoch - 2ms/step\n",
      "Epoch 49/50\n",
      "34/34 - 0s - loss: 0.0053 - val_loss: 0.0062 - 75ms/epoch - 2ms/step\n",
      "Epoch 50/50\n",
      "34/34 - 0s - loss: 0.0053 - val_loss: 0.0068 - 78ms/epoch - 2ms/step\n"
     ]
    }
   ],
   "source": [
    "# design network\n",
    "model = Sequential()\n",
    "model.add(LSTM(50, input_shape=(train_X.shape[1], train_X.shape[2])))\n",
    "model.add(Dense(1))\n",
    "model.compile(loss='mae', optimizer='adam')\n",
    "# fit network\n",
    "history = model.fit(train_X, train_y, epochs=50, batch_size=72,\n",
    "                    validation_data=(test_X, test_y), verbose=2, shuffle=False)\n",
    "\n"
   ]
  },
  {
   "cell_type": "code",
   "execution_count": 12,
   "metadata": {},
   "outputs": [
    {
     "data": {
      "image/png": "[encoded data removed]",
      "text/plain": [
       "<Figure size 640x480 with 1 Axes>"
      ]
     },
     "metadata": {},
     "output_type": "display_data"
    }
   ],
   "source": [
    "# plot history\n",
    "from matplotlib import pyplot\n",
    "pyplot.plot(history.history['loss'], label='train')\n",
    "pyplot.plot(history.history['val_loss'], label='test')\n",
    "pyplot.legend()\n",
    "pyplot.show()\n"
   ]
  },
  {
   "cell_type": "code",
   "execution_count": 13,
   "metadata": {},
   "outputs": [
    {
     "name": "stdout",
     "output_type": "stream",
     "text": [
      "14/14 [==============================] - 0s 1ms/step\n",
      "Test RMSE: 0.004\n"
     ]
    }
   ],
   "source": [
    "# make a prediction\n",
    "yhat = model.predict(test_X)\n",
    "test_X = test_X.reshape((test_X.shape[0], test_X.shape[2]))\n",
    "# invert scaling for forecast\n",
    "inv_yhat = concatenate((yhat, test_X[:, 1:]), axis=1)\n",
    "inv_yhat = scaler.inverse_transform(inv_yhat)\n",
    "inv_yhat = inv_yhat[:, 0]\n",
    "# invert scaling for actual\n",
    "test_y = test_y.reshape((len(test_y), 1))\n",
    "inv_y = concatenate((test_y, test_X[:, 1:]), axis=1)\n",
    "inv_y = scaler.inverse_transform(inv_y)\n",
    "inv_y = inv_y[:, 0]\n",
    "# calculate RMSE\n",
    "rmse = sqrt(mean_squared_error(inv_y, inv_yhat))\n",
    "print('Test RMSE: %.3f' % rmse)\n"
   ]
  }
 ],
 "metadata": {
  "kernelspec": {
   "display_name": "base",
   "language": "python",
   "name": "python3"
  },
  "language_info": {
   "codemirror_mode": {
    "name": "ipython",
    "version": 3
   },
   "file_extension": ".py",
   "mimetype": "text/x-python",
   "name": "python",
   "nbconvert_exporter": "python",
   "pygments_lexer": "ipython3",
   "version": "3.9.13 (main, Aug 25 2022, 23:51:50) [MSC v.1916 64 bit (AMD64)]"
  },
  "orig_nbformat": 4,
  "vscode": {
   "interpreter": {
    "hash": "55c776d72a9b0466125c350da11e498208ea13e5f5204f0dfc7e1bd4072fa31d"
   }
  }
 },
 "nbformat": 4,
 "nbformat_minor": 2
}
