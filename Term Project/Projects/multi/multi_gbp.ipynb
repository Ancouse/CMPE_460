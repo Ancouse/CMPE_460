{
 "cells": [
  {
   "cell_type": "code",
   "execution_count": 47,
   "metadata": {},
   "outputs": [],
   "source": [
    "import pandas as pd\n",
    "import numpy as np\n",
    "from keras.models import Sequential\n",
    "from keras.layers import LSTM\n",
    "from keras.layers import Dense\n",
    "import datetime\n",
    "\n",
    "from math import sqrt\n",
    "from numpy import concatenate\n",
    "from matplotlib import pyplot\n",
    "\n",
    "from pandas import concat\n",
    "from sklearn.preprocessing import MinMaxScaler\n",
    "from sklearn.preprocessing import LabelEncoder\n",
    "from sklearn.metrics import mean_squared_error\n",
    "from pandas import read_csv\n"
   ]
  },
  {
   "cell_type": "code",
   "execution_count": 48,
   "metadata": {},
   "outputs": [],
   "source": [
    "def series_to_supervised(data, n_in=1, n_out=1, dropnan=True):\n",
    "\tn_vars = 1 if type(data) is list else data.shape[1]\n",
    "\tdf = pd.DataFrame(data)\n",
    "\tcols, names = list(), list()\n",
    "\t# input sequence (t-n, ... t-1)\n",
    "\tfor i in range(n_in, 0, -1):\n",
    "\t\tcols.append(df.shift(i))\n",
    "\t\tnames += [('var%d(t-%d)' % (j+1, i)) for j in range(n_vars)]\n",
    "\t# forecast sequence (t, t+1, ... t+n)\n",
    "\tfor i in range(0, n_out):\n",
    "\t\tcols.append(df.shift(-i))\n",
    "\t\tif i == 0:\n",
    "\t\t\tnames += [('var%d(t)' % (j+1)) for j in range(n_vars)]\n",
    "\t\telse:\n",
    "\t\t\tnames += [('var%d(t+%d)' % (j+1, i)) for j in range(n_vars)]\n",
    "\t# put it all together\n",
    "\tagg = concat(cols, axis=1)\n",
    "\tagg.columns = names\n",
    "\t# drop rows with NaN values\n",
    "\tif dropnan:\n",
    "\t\tagg.dropna(inplace=True)\n",
    "\treturn agg\n"
   ]
  },
  {
   "cell_type": "code",
   "execution_count": 49,
   "metadata": {},
   "outputs": [],
   "source": [
    "# load dataset\n",
    "dataset = read_csv('csv files/GBP_TRY.csv', header=0, index_col=0)\n",
    "dataset = dataset.drop(['Vol.', 'Change %'], axis=1)\n",
    "\n"
   ]
  },
  {
   "cell_type": "code",
   "execution_count": 50,
   "metadata": {},
   "outputs": [
    {
     "name": "stdout",
     "output_type": "stream",
     "text": [
      "   var1(t-1)  var2(t-1)  var3(t-1)  var4(t-1)   var1(t)\n",
      "1   0.974341   0.971855   0.927321   0.977038  0.970571\n",
      "2   0.970571   0.967918   0.926024   0.976479  0.968551\n",
      "3   0.968551   0.968030   0.927604   0.973016  0.966140\n",
      "4   0.966140   0.970478   0.928911   0.976939  0.969397\n",
      "5   0.969397   0.968699   0.927062   0.975795  0.969329\n"
     ]
    }
   ],
   "source": [
    "values = dataset.values\n",
    "# normalize features\n",
    "scaler = MinMaxScaler(feature_range=(0, 1))\n",
    "scaled = scaler.fit_transform(values)\n",
    "# frame as supervised learning\n",
    "reframed = series_to_supervised(scaled, 1, 1)\n",
    "# drop columns we don't want to predict\n",
    "reframed.drop(\n",
    "\treframed.columns[[5, 6, 7]], axis=1, inplace=True)\n",
    "print(reframed.head())\n"
   ]
  },
  {
   "cell_type": "code",
   "execution_count": 51,
   "metadata": {},
   "outputs": [
    {
     "name": "stdout",
     "output_type": "stream",
     "text": [
      "(2465, 1, 4) (2465,) (434, 1, 4) (434,)\n"
     ]
    }
   ],
   "source": [
    "\n",
    "# split into train and test sets\n",
    "values = reframed.values\n",
    "n_train_hours = int(len(dataset)*0.85)\n",
    "train = values[:n_train_hours, :]\n",
    "test = values[n_train_hours:, :]\n",
    "# split into input and outputs\n",
    "train_X, train_y = train[:, :-1], train[:, -1]\n",
    "test_X, test_y = test[:, :-1], test[:, -1]\n",
    "# reshape input to be 3D [samples, timesteps, features]\n",
    "train_X = train_X.reshape((train_X.shape[0], 1, train_X.shape[1]))\n",
    "test_X = test_X.reshape((test_X.shape[0], 1, test_X.shape[1]))\n",
    "print(train_X.shape, train_y.shape, test_X.shape, test_y.shape)\n"
   ]
  },
  {
   "cell_type": "code",
   "execution_count": 52,
   "metadata": {},
   "outputs": [
    {
     "name": "stdout",
     "output_type": "stream",
     "text": [
      "Epoch 1/50\n",
      "35/35 - 2s - loss: 0.1903 - val_loss: 0.0626 - 2s/epoch - 67ms/step\n",
      "Epoch 2/50\n",
      "35/35 - 0s - loss: 0.1313 - val_loss: 0.0655 - 76ms/epoch - 2ms/step\n",
      "Epoch 3/50\n",
      "35/35 - 0s - loss: 0.0897 - val_loss: 0.0497 - 81ms/epoch - 2ms/step\n",
      "Epoch 4/50\n",
      "35/35 - 0s - loss: 0.0393 - val_loss: 7.0709e-04 - 82ms/epoch - 2ms/step\n",
      "Epoch 5/50\n",
      "35/35 - 0s - loss: 0.0181 - val_loss: 0.0032 - 81ms/epoch - 2ms/step\n",
      "Epoch 6/50\n",
      "35/35 - 0s - loss: 0.0255 - val_loss: 7.5984e-04 - 80ms/epoch - 2ms/step\n",
      "Epoch 7/50\n",
      "35/35 - 0s - loss: 0.0119 - val_loss: 5.3031e-04 - 84ms/epoch - 2ms/step\n",
      "Epoch 8/50\n",
      "35/35 - 0s - loss: 0.0177 - val_loss: 0.0013 - 81ms/epoch - 2ms/step\n",
      "Epoch 9/50\n",
      "35/35 - 0s - loss: 0.0054 - val_loss: 8.8599e-04 - 79ms/epoch - 2ms/step\n",
      "Epoch 10/50\n",
      "35/35 - 0s - loss: 0.0168 - val_loss: 0.0022 - 81ms/epoch - 2ms/step\n",
      "Epoch 11/50\n",
      "35/35 - 0s - loss: 0.0112 - val_loss: 0.0012 - 82ms/epoch - 2ms/step\n",
      "Epoch 12/50\n",
      "35/35 - 0s - loss: 0.0112 - val_loss: 0.0026 - 82ms/epoch - 2ms/step\n",
      "Epoch 13/50\n",
      "35/35 - 0s - loss: 0.0030 - val_loss: 7.0981e-04 - 83ms/epoch - 2ms/step\n",
      "Epoch 14/50\n",
      "35/35 - 0s - loss: 0.0109 - val_loss: 6.3746e-04 - 89ms/epoch - 3ms/step\n",
      "Epoch 15/50\n",
      "35/35 - 0s - loss: 0.0030 - val_loss: 6.4207e-04 - 79ms/epoch - 2ms/step\n",
      "Epoch 16/50\n",
      "35/35 - 0s - loss: 0.0027 - val_loss: 0.0010 - 77ms/epoch - 2ms/step\n",
      "Epoch 17/50\n",
      "35/35 - 0s - loss: 0.0120 - val_loss: 5.0980e-04 - 79ms/epoch - 2ms/step\n",
      "Epoch 18/50\n",
      "35/35 - 0s - loss: 0.0046 - val_loss: 3.5385e-04 - 78ms/epoch - 2ms/step\n",
      "Epoch 19/50\n",
      "35/35 - 0s - loss: 0.0027 - val_loss: 0.0011 - 78ms/epoch - 2ms/step\n",
      "Epoch 20/50\n",
      "35/35 - 0s - loss: 0.0103 - val_loss: 6.7497e-04 - 77ms/epoch - 2ms/step\n",
      "Epoch 21/50\n",
      "35/35 - 0s - loss: 0.0051 - val_loss: 6.6343e-04 - 79ms/epoch - 2ms/step\n",
      "Epoch 22/50\n",
      "35/35 - 0s - loss: 0.0024 - val_loss: 4.8432e-04 - 82ms/epoch - 2ms/step\n",
      "Epoch 23/50\n",
      "35/35 - 0s - loss: 0.0093 - val_loss: 8.9820e-04 - 81ms/epoch - 2ms/step\n",
      "Epoch 24/50\n",
      "35/35 - 0s - loss: 0.0043 - val_loss: 0.0028 - 78ms/epoch - 2ms/step\n",
      "Epoch 25/50\n",
      "35/35 - 0s - loss: 0.0053 - val_loss: 6.1962e-04 - 79ms/epoch - 2ms/step\n",
      "Epoch 26/50\n",
      "35/35 - 0s - loss: 0.0092 - val_loss: 0.0017 - 79ms/epoch - 2ms/step\n",
      "Epoch 27/50\n",
      "35/35 - 0s - loss: 0.0042 - val_loss: 0.0026 - 78ms/epoch - 2ms/step\n",
      "Epoch 28/50\n",
      "35/35 - 0s - loss: 0.0061 - val_loss: 9.3049e-04 - 78ms/epoch - 2ms/step\n",
      "Epoch 29/50\n",
      "35/35 - 0s - loss: 0.0072 - val_loss: 0.0042 - 78ms/epoch - 2ms/step\n",
      "Epoch 30/50\n",
      "35/35 - 0s - loss: 0.0077 - val_loss: 0.0011 - 79ms/epoch - 2ms/step\n",
      "Epoch 31/50\n",
      "35/35 - 0s - loss: 0.0023 - val_loss: 3.5153e-04 - 79ms/epoch - 2ms/step\n",
      "Epoch 32/50\n",
      "35/35 - 0s - loss: 0.0044 - val_loss: 3.1387e-04 - 79ms/epoch - 2ms/step\n",
      "Epoch 33/50\n",
      "35/35 - 0s - loss: 0.0082 - val_loss: 0.0022 - 79ms/epoch - 2ms/step\n",
      "Epoch 34/50\n",
      "35/35 - 0s - loss: 0.0044 - val_loss: 6.1317e-04 - 81ms/epoch - 2ms/step\n",
      "Epoch 35/50\n",
      "35/35 - 0s - loss: 0.0032 - val_loss: 5.2110e-04 - 79ms/epoch - 2ms/step\n",
      "Epoch 36/50\n",
      "35/35 - 0s - loss: 0.0065 - val_loss: 0.0038 - 81ms/epoch - 2ms/step\n",
      "Epoch 37/50\n",
      "35/35 - 0s - loss: 0.0060 - val_loss: 0.0014 - 81ms/epoch - 2ms/step\n",
      "Epoch 38/50\n",
      "35/35 - 0s - loss: 0.0021 - val_loss: 3.0786e-04 - 80ms/epoch - 2ms/step\n",
      "Epoch 39/50\n",
      "35/35 - 0s - loss: 0.0032 - val_loss: 3.2453e-04 - 81ms/epoch - 2ms/step\n",
      "Epoch 40/50\n",
      "35/35 - 0s - loss: 0.0022 - val_loss: 6.7650e-04 - 81ms/epoch - 2ms/step\n",
      "Epoch 41/50\n",
      "35/35 - 0s - loss: 0.0050 - val_loss: 4.1765e-04 - 80ms/epoch - 2ms/step\n",
      "Epoch 42/50\n",
      "35/35 - 0s - loss: 0.0039 - val_loss: 3.9437e-04 - 80ms/epoch - 2ms/step\n",
      "Epoch 43/50\n",
      "35/35 - 0s - loss: 0.0041 - val_loss: 3.2657e-04 - 80ms/epoch - 2ms/step\n",
      "Epoch 44/50\n",
      "35/35 - 0s - loss: 0.0041 - val_loss: 4.5736e-04 - 77ms/epoch - 2ms/step\n",
      "Epoch 45/50\n",
      "35/35 - 0s - loss: 0.0077 - val_loss: 0.0024 - 78ms/epoch - 2ms/step\n",
      "Epoch 46/50\n",
      "35/35 - 0s - loss: 0.0065 - val_loss: 0.0014 - 78ms/epoch - 2ms/step\n",
      "Epoch 47/50\n",
      "35/35 - 0s - loss: 0.0047 - val_loss: 3.3098e-04 - 80ms/epoch - 2ms/step\n",
      "Epoch 48/50\n",
      "35/35 - 0s - loss: 0.0051 - val_loss: 0.0010 - 80ms/epoch - 2ms/step\n",
      "Epoch 49/50\n",
      "35/35 - 0s - loss: 0.0089 - val_loss: 0.0019 - 78ms/epoch - 2ms/step\n",
      "Epoch 50/50\n",
      "35/35 - 0s - loss: 0.0079 - val_loss: 3.4138e-04 - 78ms/epoch - 2ms/step\n"
     ]
    }
   ],
   "source": [
    "# design network\n",
    "model = Sequential()\n",
    "model.add(LSTM(50, input_shape=(train_X.shape[1], train_X.shape[2])))\n",
    "model.add(Dense(1))\n",
    "model.compile(loss='mae', optimizer='adam')\n",
    "# fit network\n",
    "history = model.fit(train_X, train_y, epochs=50, batch_size=72,\n",
    "                    validation_data=(test_X, test_y), verbose=2, shuffle=False)\n"
   ]
  },
  {
   "cell_type": "code",
   "execution_count": 53,
   "metadata": {},
   "outputs": [
    {
     "data": {
      "image/png": "[encoded data removed]",
      "text/plain": [
       "<Figure size 640x480 with 1 Axes>"
      ]
     },
     "metadata": {},
     "output_type": "display_data"
    }
   ],
   "source": [
    "# plot history\n",
    "from matplotlib import pyplot\n",
    "pyplot.plot(history.history['loss'], label='train')\n",
    "pyplot.plot(history.history['val_loss'], label='test')\n",
    "pyplot.legend()\n",
    "pyplot.show()\n"
   ]
  },
  {
   "cell_type": "code",
   "execution_count": 54,
   "metadata": {},
   "outputs": [
    {
     "name": "stdout",
     "output_type": "stream",
     "text": [
      "14/14 [==============================] - 0s 924us/step\n",
      "Test RMSE: 0.009\n"
     ]
    }
   ],
   "source": [
    "# make a prediction\n",
    "yhat = model.predict(test_X)\n",
    "test_X = test_X.reshape((test_X.shape[0], test_X.shape[2]))\n",
    "# invert scaling for forecast\n",
    "inv_yhat = concatenate((yhat, test_X[:, 1:]), axis=1)\n",
    "inv_yhat = scaler.inverse_transform(inv_yhat)\n",
    "inv_yhat = inv_yhat[:, 0]\n",
    "# invert scaling for actual\n",
    "test_y = test_y.reshape((len(test_y), 1))\n",
    "inv_y = concatenate((test_y, test_X[:, 1:]), axis=1)\n",
    "inv_y = scaler.inverse_transform(inv_y)\n",
    "inv_y = inv_y[:, 0]\n",
    "# calculate RMSE\n",
    "rmse = sqrt(mean_squared_error(inv_y, inv_yhat))\n",
    "print('Test RMSE: %.3f' % rmse)\n"
   ]
  }
 ],
 "metadata": {
  "kernelspec": {
   "display_name": "base",
   "language": "python",
   "name": "python3"
  },
  "language_info": {
   "codemirror_mode": {
    "name": "ipython",
    "version": 3
   },
   "file_extension": ".py",
   "mimetype": "text/x-python",
   "name": "python",
   "nbconvert_exporter": "python",
   "pygments_lexer": "ipython3",
   "version": "3.9.13"
  },
  "orig_nbformat": 4,
  "vscode": {
   "interpreter": {
    "hash": "55c776d72a9b0466125c350da11e498208ea13e5f5204f0dfc7e1bd4072fa31d"
   }
  }
 },
 "nbformat": 4,
 "nbformat_minor": 2
}
